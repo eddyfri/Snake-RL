{
 "cells": [
  {
   "cell_type": "markdown",
   "metadata": {},
   "source": [
    "# Snake"
   ]
  },
  {
   "cell_type": "code",
   "execution_count": 24,
   "metadata": {
    "ExecuteTime": {
     "end_time": "2024-01-05T21:49:54.740569Z",
     "start_time": "2024-01-05T21:49:54.724713Z"
    },
    "collapsed": true
   },
   "outputs": [
    {
     "name": "stdout",
     "output_type": "stream",
     "text": [
      "[PhysicalDevice(name='/physical_device:GPU:0', device_type='GPU')]\n"
     ]
    }
   ],
   "source": [
    "import environments_fully_observable \n",
    "import environments_partially_observable\n",
    "import numpy as np\n",
    "from  tqdm import trange\n",
    "import matplotlib.pyplot as plt\n",
    "import os\n",
    "import random\n",
    "import tensorflow as tf\n",
    "tf.random.set_seed(0)\n",
    "random.seed(0)\n",
    "np.random.seed(0)\n",
    "\n",
    "# GPU configuration\n",
    "physical_devices = tf.config.list_physical_devices('GPU')\n",
    "print(physical_devices)"
   ]
  },
  {
   "cell_type": "markdown",
   "metadata": {},
   "source": [
    "## Environment definition"
   ]
  },
  {
   "cell_type": "code",
   "execution_count": 25,
   "metadata": {
    "ExecuteTime": {
     "end_time": "2024-01-05T21:51:24.586654Z",
     "start_time": "2024-01-05T21:51:24.492663Z"
    },
    "collapsed": false
   },
   "outputs": [
    {
     "data": {
      "image/png": "[encoded data removed]",
      "text/plain": [
       "<Figure size 1000x300 with 5 Axes>"
      ]
     },
     "metadata": {},
     "output_type": "display_data"
    }
   ],
   "source": [
    "%matplotlib inline\n",
    "# function to standardize getting an env for the whole notebook\n",
    "def get_env(n=1000):\n",
    "    # n is the number of boards that you want to simulate parallely\n",
    "    # size is the size of each board, also considering the borders\n",
    "    # mask for the partially observable, is the size of the local neighborhood\n",
    "    size = 7\n",
    "    e = environments_fully_observable.OriginalSnakeEnvironment(n, size)\n",
    "    # or environments_partially_observable.OriginalSnakeEnvironment(n, size, 2)\n",
    "    return e\n",
    "env_ = get_env()\n",
    "GAMMA = .9\n",
    "ITERATIONS = 5000\n",
    "\n",
    "fig,axs=plt.subplots(1,min(len(env_.boards), 5), figsize=(10,3))\n",
    "for ax, board in zip(axs, env_.boards):\n",
    "    ax.get_yaxis().set_visible(False)\n",
    "    ax.get_xaxis().set_visible(False)\n",
    "    ax.imshow(board, origin=\"lower\")"
   ]
  },
  {
   "cell_type": "markdown",
   "metadata": {
    "collapsed": false
   },
   "source": [
    "## Model"
   ]
  },
  {
   "cell_type": "code",
   "execution_count": null,
   "metadata": {},
   "outputs": [],
   "source": [
    "# define the models that you need ()\n",
    "from collections import deque\n",
    "\n",
    "class DQN(tf.keras.Model):\n",
    "    def __init__(self, input_dim, n_actions):\n",
    "        super(DQN, self).__init__()\n",
    "        self.conv1 = tf.keras.layers.Conv2D(32, (3, 3), activation='relu', input_shape=input_dim)\n",
    "        self.conv2 = tf.keras.layers.Conv2D(64, (3, 3), activation='relu')\n",
    "        self.flatten = tf.keras.layers.Flatten()\n",
    "        self.dense = tf.keras.layers.Dense(256, activation='relu')\n",
    "        self.out = tf.keras.layers.Dense(n_actions, activation=None)\n",
    "\n",
    "    def call(self, x):\n",
    "        x = tf.cast(x, tf.float32)\n",
    "        x = self.conv1(x)\n",
    "        x = self.conv2(x)\n",
    "        x = self.flatten(x)\n",
    "        x = self.dense(x)\n",
    "        return self.out(x)\n",
    "\n",
    "class ReplayBuffer:\n",
    "    def __init__(self, size=10000):\n",
    "        self.buffer = deque(maxlen=size)        \n",
    "\n",
    "    def add(self, experience):\n",
    "        self.buffer.append(experience)\n",
    "\n",
    "    def sample(self, batch_size):\n",
    "        if len(self.buffer) < batch_size:\n",
    "            batch_size = len(self.buffer)\n",
    "        batch = random.sample(self.buffer, batch_size)\n",
    "        states, actions, rewards, next_states, dones = zip(*batch)\n",
    "\n",
    "        return (\n",
    "            np.array(states),\n",
    "            np.array(actions),\n",
    "            np.array(rewards),\n",
    "            np.array(next_states),\n",
    "            np.array(dones)\n",
    "        )\n",
    "    \n",
    "    def __len__(self):\n",
    "        return len(self.buffer)\n",
    "    \n",
    "class DQNAgent:\n",
    "    def __init__(self, state_shape, n_actions=4, buffer_size=10000, batch_size=32, epsilon_start=1., epsilon_end=0.1, epsilon_decay=0.9995, learning_rate=1e-4, gamma=0.9, target_update_freq=100):\n",
    "        self.state_shape = state_shape\n",
    "        self.n_actions = n_actions\n",
    "        self.batch_size = batch_size\n",
    "        self.gamma = gamma\n",
    "        self.epsilon = epsilon_start\n",
    "        self.epsilon_end = epsilon_end\n",
    "        self.epsilon_decay = epsilon_decay\n",
    "        self.lr = learning_rate\n",
    "        self.target_update_freq = target_update_freq\n",
    "        self.optimizer = tf.keras.optimizers.legacy.Adam(learning_rate=self.lr)\n",
    "        self.step_counter = 0\n",
    "\n",
    "        self.qnet = DQN(state_shape, n_actions)\n",
    "        self.target_network = DQN(state_shape, n_actions)\n",
    "\n",
    "        # Initialization with a forward pass\n",
    "        dummy_state = np.zeros((1,) + state_shape)\n",
    "        self.qnet(dummy_state)\n",
    "        self.target_network(dummy_state)\n",
    "\n",
    "        self.update_target_network()\n",
    "        self.replay_buffer = ReplayBuffer(buffer_size)\n",
    "\n",
    "    def update_target_network(self):\n",
    "        \"\"\" Copy weights from main Q-network to target network \"\"\"\n",
    "        self.target_network.set_weights(self.qnet.get_weights())\n",
    "\n",
    "    def select_action(self, state):\n",
    "        \"\"\" Select action using epsilon-greedy policy \"\"\"\n",
    "        batch_size = state.shape[0]\n",
    "        if np.random.random() < self.epsilon:\n",
    "            actions = np.random.randint(0, self.n_actions, size=(batch_size, 1))\n",
    "        else:\n",
    "            q_values = self.qnet(state)\n",
    "            actions = tf.argmax(q_values, axis=1, output_type=tf.int32)\n",
    "            actions = tf.reshape(actions, [-1, 1])\n",
    "            actions = actions.numpy()\n",
    "\n",
    "        return actions\n",
    "    \n",
    "    def store_experience(self, state, action, reward, next_state, done):\n",
    "        \"\"\" Store experience in replay buffer \"\"\"\n",
    "        for i in range(state.shape[0]):\n",
    "            self.replay_buffer.add((\n",
    "                state[i].numpy(),\n",
    "                action[i][0],\n",
    "                reward[i].numpy()[0],\n",
    "                next_state[i].numpy(),\n",
    "                done[i].numpy()\n",
    "            ))\n",
    "        \n",
    "    def train(self, state, action, reward, next_state, done):\n",
    "        \"\"\" Store experience and train the Q-network \"\"\"\n",
    "\n",
    "        self.store_experience(state, action, reward, next_state, done)\n",
    "\n",
    "        if len(self.replay_buffer) < self.batch_size:\n",
    "            return 0.0\n",
    "        \n",
    "        states, actions, rewards, next_states, dones = self.replay_buffer.sample(self.batch_size)\n",
    "\n",
    "        states = tf.convert_to_tensor(states, dtype=tf.float32)\n",
    "        actions = tf.convert_to_tensor(actions, dtype=tf.int32)\n",
    "        rewards = tf.convert_to_tensor(rewards, dtype=tf.float32)\n",
    "        next_states = tf.convert_to_tensor(next_states, dtype=tf.float32)\n",
    "        dones = tf.convert_to_tensor(dones, dtype=tf.bool)\n",
    "\n",
    "        with tf.GradientTape() as tape:\n",
    "            q_values = self.qnet(states)\n",
    "            action_mask = tf.one_hot(actions, self.n_actions)\n",
    "            q_values_for_actions = tf.reduce_sum(q_values * action_mask, axis=1)\n",
    "\n",
    "            next_q_values = self.target_network(next_states)\n",
    "            max_next_q = tf.reduce_max(next_q_values, axis=1)\n",
    "            dones = tf.cast(dones, tf.float32)\n",
    "\n",
    "            target_q_values = rewards + (1 - dones) * self.gamma * max_next_q\n",
    "\n",
    "            # Loss            \n",
    "            loss = tf.keras.losses.MSE(target_q_values, q_values_for_actions)\n",
    "\n",
    "        gradients = tape.gradient(loss, self.qnet.trainable_variables)\n",
    "        self.optimizer.apply_gradients(zip(gradients, self.qnet.trainable_variables))\n",
    "\n",
    "        self.step_counter += 1\n",
    "        if self.step_counter % self.target_update_freq == 0:\n",
    "            self.update_target_network()\n",
    "\n",
    "        self.epsilon = max(self.epsilon_end, self.epsilon * self.epsilon_decay)\n",
    "\n",
    "        return loss.numpy()\n",
    "    \n",
    "    def get_q_values(self, state):\n",
    "        \"\"\" Get Q-values for a given state \"\"\"\n",
    "        return self.qnet(state)\n",
    "    \n",
    "    def save_weights(self, filepath=\"snake_dqn_weights.h5\"):\n",
    "        \"\"\" Save the model weights \"\"\"\n",
    "        self.qnet.save_weights(filepath)\n",
    "        print(f\"Model weights saved to {filepath}\")\n",
    "\n",
    "    def load_weights(self, filepath=\"snake_dqn_weights.h5\"):\n",
    "        if not os.path.exists(filepath):\n",
    "            raise ValueError(f\"File {filepath} does not exist.\")\n",
    "        self.qnet.load_weights(filepath)\n",
    "        self.update_target_network()\n",
    "        print(f\"Model weights loaded from {filepath}\")\n",
    "\n",
    "        \n",
    "agent = DQNAgent(state_shape=env_.to_state().shape[1:], gamma=GAMMA, n_actions=4, epsilon_start=1., epsilon_end=0.05, epsilon_decay=0.9995, learning_rate=1e-4, target_update_freq=100)\n",
    "value = ...\n",
    "q = ..."
   ]
  },
  {
   "cell_type": "markdown",
   "metadata": {
    "collapsed": false
   },
   "source": [
    "## Training"
   ]
  },
  {
   "cell_type": "code",
   "execution_count": 17,
   "metadata": {
    "collapsed": false
   },
   "outputs": [],
   "source": [
    "optimizer = tf.keras.optimizers.legacy.Adam(1e-4)"
   ]
  },
  {
   "cell_type": "code",
   "execution_count": null,
   "metadata": {},
   "outputs": [
    {
     "name": "stderr",
     "output_type": "stream",
     "text": [
      "  0%|          | 1/5000 [00:01<2:44:44,  1.98s/it]"
     ]
    },
    {
     "name": "stdout",
     "output_type": "stream",
     "text": [
      "Iteration 0: Avg Reward: -0.01, Avg Loss: 0.0085, Epsilon: 0.9980\n",
      "Fruits eaten: 23, Max fruits eaten: 23\n"
     ]
    },
    {
     "name": "stderr",
     "output_type": "stream",
     "text": [
      "  2%|▏         | 101/5000 [02:56<2:13:08,  1.63s/it]"
     ]
    },
    {
     "name": "stdout",
     "output_type": "stream",
     "text": [
      "Iteration 100: Avg Reward: -0.01, Avg Loss: 0.0081, Epsilon: 0.9493\n",
      "Fruits eaten: 18, Max fruits eaten: 23\n"
     ]
    },
    {
     "name": "stderr",
     "output_type": "stream",
     "text": [
      "  4%|▍         | 201/5000 [06:01<2:37:44,  1.97s/it]"
     ]
    },
    {
     "name": "stdout",
     "output_type": "stream",
     "text": [
      "Iteration 200: Avg Reward: -0.01, Avg Loss: 0.0068, Epsilon: 0.9030\n",
      "Fruits eaten: 20, Max fruits eaten: 23\n"
     ]
    },
    {
     "name": "stderr",
     "output_type": "stream",
     "text": [
      "  6%|▌         | 301/5000 [09:08<2:26:42,  1.87s/it]"
     ]
    },
    {
     "name": "stdout",
     "output_type": "stream",
     "text": [
      "Iteration 300: Avg Reward: -0.01, Avg Loss: 0.0071, Epsilon: 0.8590\n",
      "Fruits eaten: 20, Max fruits eaten: 23\n"
     ]
    },
    {
     "name": "stderr",
     "output_type": "stream",
     "text": [
      "  8%|▊         | 401/5000 [12:12<2:23:27,  1.87s/it]"
     ]
    },
    {
     "name": "stdout",
     "output_type": "stream",
     "text": [
      "Iteration 400: Avg Reward: -0.01, Avg Loss: 0.0058, Epsilon: 0.8171\n",
      "Fruits eaten: 17, Max fruits eaten: 23\n"
     ]
    },
    {
     "name": "stderr",
     "output_type": "stream",
     "text": [
      " 10%|█         | 501/5000 [15:14<2:14:37,  1.80s/it]"
     ]
    },
    {
     "name": "stdout",
     "output_type": "stream",
     "text": [
      "Iteration 500: Avg Reward: -0.01, Avg Loss: 0.0069, Epsilon: 0.7772\n",
      "Fruits eaten: 21, Max fruits eaten: 23\n"
     ]
    },
    {
     "name": "stderr",
     "output_type": "stream",
     "text": [
      " 12%|█▏        | 601/5000 [18:16<2:11:21,  1.79s/it]"
     ]
    },
    {
     "name": "stdout",
     "output_type": "stream",
     "text": [
      "Iteration 600: Avg Reward: -0.01, Avg Loss: 0.0072, Epsilon: 0.7393\n",
      "Fruits eaten: 26, Max fruits eaten: 26\n"
     ]
    },
    {
     "name": "stderr",
     "output_type": "stream",
     "text": [
      " 14%|█▍        | 701/5000 [21:18<2:08:45,  1.80s/it]"
     ]
    },
    {
     "name": "stdout",
     "output_type": "stream",
     "text": [
      "Iteration 700: Avg Reward: -0.00, Avg Loss: 0.0075, Epsilon: 0.7032\n",
      "Fruits eaten: 26, Max fruits eaten: 26\n"
     ]
    },
    {
     "name": "stderr",
     "output_type": "stream",
     "text": [
      " 16%|█▌        | 801/5000 [24:20<2:09:24,  1.85s/it]"
     ]
    },
    {
     "name": "stdout",
     "output_type": "stream",
     "text": [
      "Iteration 800: Avg Reward: -0.00, Avg Loss: 0.0082, Epsilon: 0.6689\n",
      "Fruits eaten: 30, Max fruits eaten: 30\n"
     ]
    },
    {
     "name": "stderr",
     "output_type": "stream",
     "text": [
      " 18%|█▊        | 901/5000 [27:23<2:03:52,  1.81s/it]"
     ]
    },
    {
     "name": "stdout",
     "output_type": "stream",
     "text": [
      "Iteration 900: Avg Reward: -0.00, Avg Loss: 0.0070, Epsilon: 0.6363\n",
      "Fruits eaten: 44, Max fruits eaten: 44\n"
     ]
    },
    {
     "name": "stderr",
     "output_type": "stream",
     "text": [
      " 20%|██        | 1001/5000 [30:24<1:57:58,  1.77s/it]"
     ]
    },
    {
     "name": "stdout",
     "output_type": "stream",
     "text": [
      "Iteration 1000: Avg Reward: -0.00, Avg Loss: 0.0067, Epsilon: 0.6052\n",
      "Fruits eaten: 63, Max fruits eaten: 63\n"
     ]
    },
    {
     "name": "stderr",
     "output_type": "stream",
     "text": [
      " 22%|██▏       | 1101/5000 [33:29<2:01:16,  1.87s/it]"
     ]
    },
    {
     "name": "stdout",
     "output_type": "stream",
     "text": [
      "Iteration 1100: Avg Reward: 0.00, Avg Loss: 0.0102, Epsilon: 0.5757\n",
      "Fruits eaten: 84, Max fruits eaten: 84\n"
     ]
    },
    {
     "name": "stderr",
     "output_type": "stream",
     "text": [
      " 24%|██▍       | 1201/5000 [36:33<1:55:11,  1.82s/it]"
     ]
    },
    {
     "name": "stdout",
     "output_type": "stream",
     "text": [
      "Iteration 1200: Avg Reward: 0.00, Avg Loss: 0.0116, Epsilon: 0.5476\n",
      "Fruits eaten: 32, Max fruits eaten: 84\n"
     ]
    },
    {
     "name": "stderr",
     "output_type": "stream",
     "text": [
      " 26%|██▌       | 1301/5000 [39:37<1:55:27,  1.87s/it]"
     ]
    },
    {
     "name": "stdout",
     "output_type": "stream",
     "text": [
      "Iteration 1300: Avg Reward: 0.00, Avg Loss: 0.0128, Epsilon: 0.5209\n",
      "Fruits eaten: 25, Max fruits eaten: 84\n"
     ]
    },
    {
     "name": "stderr",
     "output_type": "stream",
     "text": [
      " 28%|██▊       | 1401/5000 [42:40<1:51:28,  1.86s/it]"
     ]
    },
    {
     "name": "stdout",
     "output_type": "stream",
     "text": [
      "Iteration 1400: Avg Reward: 0.01, Avg Loss: 0.0132, Epsilon: 0.4955\n",
      "Fruits eaten: 27, Max fruits eaten: 84\n"
     ]
    },
    {
     "name": "stderr",
     "output_type": "stream",
     "text": [
      " 30%|███       | 1501/5000 [45:41<1:43:20,  1.77s/it]"
     ]
    },
    {
     "name": "stdout",
     "output_type": "stream",
     "text": [
      "Iteration 1500: Avg Reward: 0.01, Avg Loss: 0.0131, Epsilon: 0.4713\n",
      "Fruits eaten: 85, Max fruits eaten: 85\n"
     ]
    },
    {
     "name": "stderr",
     "output_type": "stream",
     "text": [
      " 32%|███▏      | 1601/5000 [48:45<1:41:31,  1.79s/it]"
     ]
    },
    {
     "name": "stdout",
     "output_type": "stream",
     "text": [
      "Iteration 1600: Avg Reward: 0.02, Avg Loss: 0.0132, Epsilon: 0.4483\n",
      "Fruits eaten: 114, Max fruits eaten: 114\n"
     ]
    },
    {
     "name": "stderr",
     "output_type": "stream",
     "text": [
      " 34%|███▍      | 1701/5000 [51:46<1:37:19,  1.77s/it]"
     ]
    },
    {
     "name": "stdout",
     "output_type": "stream",
     "text": [
      "Iteration 1700: Avg Reward: 0.01, Avg Loss: 0.0151, Epsilon: 0.4265\n",
      "Fruits eaten: 60, Max fruits eaten: 114\n"
     ]
    },
    {
     "name": "stderr",
     "output_type": "stream",
     "text": [
      " 36%|███▌      | 1801/5000 [54:50<1:36:31,  1.81s/it]"
     ]
    },
    {
     "name": "stdout",
     "output_type": "stream",
     "text": [
      "Iteration 1800: Avg Reward: 0.02, Avg Loss: 0.0141, Epsilon: 0.4057\n",
      "Fruits eaten: 130, Max fruits eaten: 130\n"
     ]
    },
    {
     "name": "stderr",
     "output_type": "stream",
     "text": [
      " 38%|███▊      | 1901/5000 [57:53<1:34:09,  1.82s/it]"
     ]
    },
    {
     "name": "stdout",
     "output_type": "stream",
     "text": [
      "Iteration 1900: Avg Reward: 0.02, Avg Loss: 0.0157, Epsilon: 0.3859\n",
      "Fruits eaten: 89, Max fruits eaten: 130\n"
     ]
    },
    {
     "name": "stderr",
     "output_type": "stream",
     "text": [
      " 40%|████      | 2001/5000 [1:00:56<1:30:37,  1.81s/it]"
     ]
    },
    {
     "name": "stdout",
     "output_type": "stream",
     "text": [
      "Iteration 2000: Avg Reward: 0.03, Avg Loss: 0.0152, Epsilon: 0.3671\n",
      "Fruits eaten: 45, Max fruits eaten: 130\n"
     ]
    },
    {
     "name": "stderr",
     "output_type": "stream",
     "text": [
      " 42%|████▏     | 2101/5000 [1:04:00<1:36:23,  2.00s/it]"
     ]
    },
    {
     "name": "stdout",
     "output_type": "stream",
     "text": [
      "Iteration 2100: Avg Reward: 0.04, Avg Loss: 0.0157, Epsilon: 0.3491\n",
      "Fruits eaten: 120, Max fruits eaten: 130\n"
     ]
    },
    {
     "name": "stderr",
     "output_type": "stream",
     "text": [
      " 44%|████▍     | 2201/5000 [1:07:02<1:30:39,  1.94s/it]"
     ]
    },
    {
     "name": "stdout",
     "output_type": "stream",
     "text": [
      "Iteration 2200: Avg Reward: 0.04, Avg Loss: 0.0174, Epsilon: 0.3321\n",
      "Fruits eaten: 247, Max fruits eaten: 247\n"
     ]
    },
    {
     "name": "stderr",
     "output_type": "stream",
     "text": [
      " 46%|████▌     | 2301/5000 [1:10:05<1:20:43,  1.79s/it]"
     ]
    },
    {
     "name": "stdout",
     "output_type": "stream",
     "text": [
      "Iteration 2300: Avg Reward: 0.04, Avg Loss: 0.0183, Epsilon: 0.3159\n",
      "Fruits eaten: 243, Max fruits eaten: 247\n"
     ]
    },
    {
     "name": "stderr",
     "output_type": "stream",
     "text": [
      " 48%|████▊     | 2401/5000 [1:13:10<1:22:24,  1.90s/it]"
     ]
    },
    {
     "name": "stdout",
     "output_type": "stream",
     "text": [
      "Iteration 2400: Avg Reward: 0.06, Avg Loss: 0.0229, Epsilon: 0.3005\n",
      "Fruits eaten: 222, Max fruits eaten: 247\n"
     ]
    },
    {
     "name": "stderr",
     "output_type": "stream",
     "text": [
      " 50%|█████     | 2501/5000 [1:16:13<1:16:34,  1.84s/it]"
     ]
    },
    {
     "name": "stdout",
     "output_type": "stream",
     "text": [
      "Iteration 2500: Avg Reward: 0.05, Avg Loss: 0.0276, Epsilon: 0.2858\n",
      "Fruits eaten: 54, Max fruits eaten: 247\n"
     ]
    },
    {
     "name": "stderr",
     "output_type": "stream",
     "text": [
      " 52%|█████▏    | 2601/5000 [1:19:18<1:12:15,  1.81s/it]"
     ]
    },
    {
     "name": "stdout",
     "output_type": "stream",
     "text": [
      "Iteration 2600: Avg Reward: 0.06, Avg Loss: 0.0289, Epsilon: 0.2719\n",
      "Fruits eaten: 27, Max fruits eaten: 247\n"
     ]
    },
    {
     "name": "stderr",
     "output_type": "stream",
     "text": [
      " 54%|█████▍    | 2701/5000 [1:22:22<1:09:38,  1.82s/it]"
     ]
    },
    {
     "name": "stdout",
     "output_type": "stream",
     "text": [
      "Iteration 2700: Avg Reward: 0.07, Avg Loss: 0.0277, Epsilon: 0.2586\n",
      "Fruits eaten: 220, Max fruits eaten: 247\n"
     ]
    },
    {
     "name": "stderr",
     "output_type": "stream",
     "text": [
      " 56%|█████▌    | 2801/5000 [1:25:24<1:06:08,  1.80s/it]"
     ]
    },
    {
     "name": "stdout",
     "output_type": "stream",
     "text": [
      "Iteration 2800: Avg Reward: 0.06, Avg Loss: 0.0261, Epsilon: 0.2460\n",
      "Fruits eaten: 238, Max fruits eaten: 247\n"
     ]
    },
    {
     "name": "stderr",
     "output_type": "stream",
     "text": [
      " 58%|█████▊    | 2901/5000 [1:28:29<1:03:37,  1.82s/it]"
     ]
    },
    {
     "name": "stdout",
     "output_type": "stream",
     "text": [
      "Iteration 2900: Avg Reward: 0.08, Avg Loss: 0.0284, Epsilon: 0.2340\n",
      "Fruits eaten: 31, Max fruits eaten: 247\n"
     ]
    },
    {
     "name": "stderr",
     "output_type": "stream",
     "text": [
      " 60%|██████    | 3001/5000 [1:31:32<59:48,  1.79s/it]  "
     ]
    },
    {
     "name": "stdout",
     "output_type": "stream",
     "text": [
      "Iteration 3000: Avg Reward: 0.07, Avg Loss: 0.0327, Epsilon: 0.2226\n",
      "Fruits eaten: 58, Max fruits eaten: 247\n"
     ]
    },
    {
     "name": "stderr",
     "output_type": "stream",
     "text": [
      " 62%|██████▏   | 3101/5000 [1:34:36<58:50,  1.86s/it]  "
     ]
    },
    {
     "name": "stdout",
     "output_type": "stream",
     "text": [
      "Iteration 3100: Avg Reward: 0.09, Avg Loss: 0.0339, Epsilon: 0.2117\n",
      "Fruits eaten: 129, Max fruits eaten: 247\n"
     ]
    },
    {
     "name": "stderr",
     "output_type": "stream",
     "text": [
      " 64%|██████▍   | 3201/5000 [1:37:38<53:28,  1.78s/it]  "
     ]
    },
    {
     "name": "stdout",
     "output_type": "stream",
     "text": [
      "Iteration 3200: Avg Reward: 0.08, Avg Loss: 0.0427, Epsilon: 0.2014\n",
      "Fruits eaten: 135, Max fruits eaten: 247\n"
     ]
    },
    {
     "name": "stderr",
     "output_type": "stream",
     "text": [
      " 66%|██████▌   | 3301/5000 [1:40:42<51:49,  1.83s/it]"
     ]
    },
    {
     "name": "stdout",
     "output_type": "stream",
     "text": [
      "Iteration 3300: Avg Reward: 0.08, Avg Loss: 0.0373, Epsilon: 0.1916\n",
      "Fruits eaten: 265, Max fruits eaten: 265\n"
     ]
    },
    {
     "name": "stderr",
     "output_type": "stream",
     "text": [
      " 68%|██████▊   | 3401/5000 [1:43:46<48:35,  1.82s/it]"
     ]
    },
    {
     "name": "stdout",
     "output_type": "stream",
     "text": [
      "Iteration 3400: Avg Reward: 0.08, Avg Loss: 0.0369, Epsilon: 0.1822\n",
      "Fruits eaten: 52, Max fruits eaten: 265\n"
     ]
    },
    {
     "name": "stderr",
     "output_type": "stream",
     "text": [
      " 70%|███████   | 3501/5000 [1:46:51<45:53,  1.84s/it]"
     ]
    },
    {
     "name": "stdout",
     "output_type": "stream",
     "text": [
      "Iteration 3500: Avg Reward: 0.08, Avg Loss: 0.0390, Epsilon: 0.1734\n",
      "Fruits eaten: 250, Max fruits eaten: 265\n"
     ]
    },
    {
     "name": "stderr",
     "output_type": "stream",
     "text": [
      " 72%|███████▏  | 3601/5000 [1:49:54<41:59,  1.80s/it]"
     ]
    },
    {
     "name": "stdout",
     "output_type": "stream",
     "text": [
      "Iteration 3600: Avg Reward: 0.08, Avg Loss: 0.0339, Epsilon: 0.1649\n",
      "Fruits eaten: 270, Max fruits eaten: 270\n"
     ]
    },
    {
     "name": "stderr",
     "output_type": "stream",
     "text": [
      " 74%|███████▍  | 3701/5000 [1:52:59<41:52,  1.93s/it]"
     ]
    },
    {
     "name": "stdout",
     "output_type": "stream",
     "text": [
      "Iteration 3700: Avg Reward: 0.09, Avg Loss: 0.0340, Epsilon: 0.1569\n",
      "Fruits eaten: 108, Max fruits eaten: 270\n"
     ]
    },
    {
     "name": "stderr",
     "output_type": "stream",
     "text": [
      " 76%|███████▌  | 3801/5000 [1:56:04<41:03,  2.05s/it]"
     ]
    },
    {
     "name": "stdout",
     "output_type": "stream",
     "text": [
      "Iteration 3800: Avg Reward: 0.08, Avg Loss: 0.0365, Epsilon: 0.1492\n",
      "Fruits eaten: 296, Max fruits eaten: 296\n"
     ]
    },
    {
     "name": "stderr",
     "output_type": "stream",
     "text": [
      " 78%|███████▊  | 3901/5000 [1:59:07<35:38,  1.95s/it]"
     ]
    },
    {
     "name": "stdout",
     "output_type": "stream",
     "text": [
      "Iteration 3900: Avg Reward: 0.08, Avg Loss: 0.0385, Epsilon: 0.1419\n",
      "Fruits eaten: 298, Max fruits eaten: 298\n"
     ]
    },
    {
     "name": "stderr",
     "output_type": "stream",
     "text": [
      " 80%|████████  | 4001/5000 [2:02:12<30:59,  1.86s/it]"
     ]
    },
    {
     "name": "stdout",
     "output_type": "stream",
     "text": [
      "Iteration 4000: Avg Reward: 0.09, Avg Loss: 0.0435, Epsilon: 0.1350\n",
      "Fruits eaten: 258, Max fruits eaten: 298\n"
     ]
    },
    {
     "name": "stderr",
     "output_type": "stream",
     "text": [
      " 82%|████████▏ | 4101/5000 [2:05:14<27:17,  1.82s/it]"
     ]
    },
    {
     "name": "stdout",
     "output_type": "stream",
     "text": [
      "Iteration 4100: Avg Reward: 0.09, Avg Loss: 0.0415, Epsilon: 0.1284\n",
      "Fruits eaten: 262, Max fruits eaten: 298\n"
     ]
    },
    {
     "name": "stderr",
     "output_type": "stream",
     "text": [
      " 84%|████████▍ | 4201/5000 [2:08:16<23:55,  1.80s/it]"
     ]
    },
    {
     "name": "stdout",
     "output_type": "stream",
     "text": [
      "Iteration 4200: Avg Reward: 0.10, Avg Loss: 0.0380, Epsilon: 0.1221\n",
      "Fruits eaten: 67, Max fruits eaten: 298\n"
     ]
    },
    {
     "name": "stderr",
     "output_type": "stream",
     "text": [
      " 86%|████████▌ | 4301/5000 [2:11:21<21:08,  1.81s/it]"
     ]
    },
    {
     "name": "stdout",
     "output_type": "stream",
     "text": [
      "Iteration 4300: Avg Reward: 0.10, Avg Loss: 0.0396, Epsilon: 0.1162\n",
      "Fruits eaten: 256, Max fruits eaten: 298\n"
     ]
    },
    {
     "name": "stderr",
     "output_type": "stream",
     "text": [
      " 88%|████████▊ | 4401/5000 [2:14:25<18:11,  1.82s/it]"
     ]
    },
    {
     "name": "stdout",
     "output_type": "stream",
     "text": [
      "Iteration 4400: Avg Reward: 0.10, Avg Loss: 0.0424, Epsilon: 0.1105\n",
      "Fruits eaten: 65, Max fruits eaten: 298\n"
     ]
    },
    {
     "name": "stderr",
     "output_type": "stream",
     "text": [
      " 90%|█████████ | 4501/5000 [2:17:29<15:11,  1.83s/it]"
     ]
    },
    {
     "name": "stdout",
     "output_type": "stream",
     "text": [
      "Iteration 4500: Avg Reward: 0.10, Avg Loss: 0.0461, Epsilon: 0.1051\n",
      "Fruits eaten: 247, Max fruits eaten: 298\n"
     ]
    },
    {
     "name": "stderr",
     "output_type": "stream",
     "text": [
      " 92%|█████████▏| 4601/5000 [2:20:35<12:32,  1.89s/it]"
     ]
    },
    {
     "name": "stdout",
     "output_type": "stream",
     "text": [
      "Iteration 4600: Avg Reward: 0.10, Avg Loss: 0.0402, Epsilon: 0.1000\n",
      "Fruits eaten: 262, Max fruits eaten: 298\n"
     ]
    },
    {
     "name": "stderr",
     "output_type": "stream",
     "text": [
      " 94%|█████████▍| 4701/5000 [2:23:39<08:59,  1.81s/it]"
     ]
    },
    {
     "name": "stdout",
     "output_type": "stream",
     "text": [
      "Iteration 4700: Avg Reward: 0.10, Avg Loss: 0.0429, Epsilon: 0.0951\n",
      "Fruits eaten: 103, Max fruits eaten: 298\n"
     ]
    },
    {
     "name": "stderr",
     "output_type": "stream",
     "text": [
      " 96%|█████████▌| 4801/5000 [2:26:43<06:00,  1.81s/it]"
     ]
    },
    {
     "name": "stdout",
     "output_type": "stream",
     "text": [
      "Iteration 4800: Avg Reward: 0.11, Avg Loss: 0.0339, Epsilon: 0.0905\n",
      "Fruits eaten: 274, Max fruits eaten: 298\n"
     ]
    },
    {
     "name": "stderr",
     "output_type": "stream",
     "text": [
      " 98%|█████████▊| 4901/5000 [2:29:46<02:58,  1.80s/it]"
     ]
    },
    {
     "name": "stdout",
     "output_type": "stream",
     "text": [
      "Iteration 4900: Avg Reward: 0.10, Avg Loss: 0.0375, Epsilon: 0.0861\n",
      "Fruits eaten: 290, Max fruits eaten: 298\n"
     ]
    },
    {
     "name": "stderr",
     "output_type": "stream",
     "text": [
      "100%|██████████| 5000/5000 [2:32:48<00:00,  1.83s/it]\n"
     ]
    }
   ],
   "source": [
    "rewards_history = []\n",
    "loss_history = []\n",
    "max_fruits_eaten = 0\n",
    "\n",
    "for iteration in trange(ITERATIONS):\n",
    "    # get current state of the boards\n",
    "    state = tf.constant(env_.to_state())\n",
    "\n",
    "    with tf.GradientTape(persistent=True) as tape:\n",
    "        \"\"\" \n",
    "        tensor of actions, consider that\n",
    "            UP = 0\n",
    "            RIGHT = 1\n",
    "            DOWN = 2\n",
    "            LEFT = 3\n",
    "        \"\"\"\n",
    "        # state = tf.constant(env_.to_state())\n",
    "        actions = agent.select_action(state)\n",
    "        \n",
    "        # actions = ... \n",
    "        rewards = env_.move(actions)\n",
    "        new_state = tf.constant(env_.to_state())\n",
    "\n",
    "        dones = rewards < -0.1\n",
    "        # calculate the loss of whichever algorithm you have picked\n",
    "        # loss = ...\n",
    "        loss = agent.train(state, actions, rewards, new_state, dones)\n",
    "\n",
    "        mean_reward = tf.reduce_mean(rewards).numpy()\n",
    "        rewards_history.append(mean_reward)\n",
    "        if loss is not None:\n",
    "            loss_history.append(loss)\n",
    "\n",
    "        if iteration % 100 == 0:\n",
    "            avg_reward = np.mean(rewards_history[-100:]) if rewards_history else 0\n",
    "            avg_loss = np.mean(loss_history[-100:]) if loss_history else 0\n",
    "            epsilon = agent.epsilon\n",
    "\n",
    "            fruits_eaten = tf.reduce_sum(tf.cast(rewards == 0.5, tf.int32)).numpy()\n",
    "            max_fruits_eaten = max(max_fruits_eaten, fruits_eaten)\n",
    "            print(f\"Iteration {iteration}: Avg Reward: {avg_reward:.2f}, Avg Loss: {avg_loss:.4f}, Epsilon: {epsilon:.4f}\")\n",
    "            print(f\"Fruits eaten: {fruits_eaten}, Max fruits eaten: {max_fruits_eaten}\")"
   ]
  },
  {
   "cell_type": "code",
   "execution_count": 27,
   "metadata": {},
   "outputs": [],
   "source": [
    "agent.save_weights(\"snake_dqn_weights.h5\")"
   ]
  },
  {
   "cell_type": "code",
   "execution_count": 22,
   "metadata": {},
   "outputs": [
    {
     "data": {
      "image/png": "[encoded data removed]",
      "text/plain": [
       "<Figure size 1200x400 with 2 Axes>"
      ]
     },
     "metadata": {},
     "output_type": "display_data"
    }
   ],
   "source": [
    "# Plot training progress\n",
    "plt.figure(figsize=(12, 4))\n",
    "plt.subplot(1, 2, 1)\n",
    "plt.plot(rewards_history)\n",
    "plt.title('Average Reward per Episode')\n",
    "plt.xlabel('Iteration')\n",
    "plt.ylabel('Reward')\n",
    "\n",
    "plt.subplot(1, 2, 2)\n",
    "plt.plot(loss_history)\n",
    "plt.title('Loss')\n",
    "plt.xlabel('Iteration')\n",
    "plt.ylabel('Loss')\n",
    "plt.tight_layout()\n",
    "plt.show()"
   ]
  },
  {
   "cell_type": "markdown",
   "metadata": {
    "collapsed": false
   },
   "source": [
    " ### Random policy reward\n",
    " \n",
    "Just a baseline (not the one you are supposed to develop)"
   ]
  },
  {
   "cell_type": "code",
   "execution_count": 23,
   "metadata": {
    "collapsed": false
   },
   "outputs": [
    {
     "name": "stderr",
     "output_type": "stream",
     "text": [
      "100%|██████████| 1000/1000 [00:03<00:00, 275.82it/s]\n"
     ]
    }
   ],
   "source": [
    "random_env = get_env(100)\n",
    "random_rewards = []\n",
    "\n",
    "for _ in trange(1000):\n",
    "    probs = tf.convert_to_tensor([[.25]*4]*random_env.n_boards)\n",
    "    #sample actions\n",
    "    actions =  tf.random.categorical(tf.math.log(probs), 1, dtype=tf.int32)\n",
    "    # MDP update\n",
    "    rewards = random_env.move(actions)\n",
    "    random_rewards.append(np.mean(rewards))"
   ]
  }
 ],
 "metadata": {
  "kernelspec": {
   "display_name": "Python 3",
   "language": "python",
   "name": "python3"
  },
  "language_info": {
   "codemirror_mode": {
    "name": "ipython",
    "version": 3
   },
   "file_extension": ".py",
   "mimetype": "text/x-python",
   "name": "python",
   "nbconvert_exporter": "python",
   "pygments_lexer": "ipython3",
   "version": "3.9.21"
  }
 },
 "nbformat": 4,
 "nbformat_minor": 1
}
