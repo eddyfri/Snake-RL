{
 "cells": [
  {
   "cell_type": "markdown",
   "metadata": {},
   "source": [
    "# Snake"
   ]
  },
  {
   "cell_type": "code",
   "execution_count": 1,
   "metadata": {
    "ExecuteTime": {
     "end_time": "2024-01-05T21:49:54.740569Z",
     "start_time": "2024-01-05T21:49:54.724713Z"
    },
    "collapsed": true
   },
   "outputs": [
    {
     "name": "stdout",
     "output_type": "stream",
     "text": [
      "[PhysicalDevice(name='/physical_device:GPU:0', device_type='GPU')]\n",
      "Num GPUs Available:  1\n",
      "TensorFlow version: 2.10.1\n"
     ]
    }
   ],
   "source": [
    "import tensorflow as tf\n",
    "\n",
    "physical_devices = tf.config.list_physical_devices('GPU')\n",
    "print(physical_devices)\n",
    "for gpu in physical_devices:\n",
    "    tf.config.experimental.set_memory_growth(gpu, True)\n",
    "\n",
    "tf.random.set_seed(0)\n",
    "\n",
    "import environments_fully_observable \n",
    "import environments_partially_observable\n",
    "import numpy as np\n",
    "from tqdm import trange\n",
    "import matplotlib.pyplot as plt\n",
    "import os\n",
    "import random\n",
    "# import tensorflow as tf\n",
    "# tf.random.set_seed(0)\n",
    "random.seed(0)\n",
    "np.random.seed(0)\n",
    "\n",
    "# GPU configuration\n",
    "print(\"Num GPUs Available: \", len(tf.config.list_physical_devices('GPU')))\n",
    "print(\"TensorFlow version:\", tf.__version__)"
   ]
  },
  {
   "cell_type": "markdown",
   "metadata": {},
   "source": [
    "## Environment definition"
   ]
  },
  {
   "cell_type": "code",
   "execution_count": 2,
   "metadata": {
    "ExecuteTime": {
     "end_time": "2024-01-05T21:51:24.586654Z",
     "start_time": "2024-01-05T21:51:24.492663Z"
    },
    "collapsed": false
   },
   "outputs": [
    {
     "data": {
      "image/png": "[encoded data removed]",
      "text/plain": [
       "<Figure size 1000x300 with 5 Axes>"
      ]
     },
     "metadata": {},
     "output_type": "display_data"
    }
   ],
   "source": [
    "%matplotlib inline\n",
    "# function to standardize getting an env for the whole notebook\n",
    "def get_env(n=1000, partially_observable=False):\n",
    "    # n is the number of boards that you want to simulate parallely\n",
    "    # size is the size of each board, also considering the borders\n",
    "    # mask for the partially observable, is the size of the local neighborhood\n",
    "    size = 7\n",
    "    if partially_observable:\n",
    "        e = environments_partially_observable.OriginalSnakeEnvironment(n, size, 3)\n",
    "    else:\n",
    "        e = environments_fully_observable.OriginalSnakeEnvironment(n, size)\n",
    "    # or environments_partially_observable.OriginalSnakeEnvironment(n, size, 2)\n",
    "    return e\n",
    "env_ = get_env()\n",
    "GAMMA = .9\n",
    "ITERATIONS = 5000\n",
    "\n",
    "fig,axs=plt.subplots(1,min(len(env_.boards), 5), figsize=(10,3))\n",
    "for ax, board in zip(axs, env_.boards):\n",
    "    ax.get_yaxis().set_visible(False)\n",
    "    ax.get_xaxis().set_visible(False)\n",
    "    ax.imshow(board, origin=\"lower\")"
   ]
  },
  {
   "cell_type": "markdown",
   "metadata": {
    "collapsed": false
   },
   "source": [
    "## DQN Agent"
   ]
  },
  {
   "cell_type": "code",
   "execution_count": 3,
   "metadata": {},
   "outputs": [],
   "source": [
    "from dqn import DQNAgent\n",
    "\n",
    "agent = DQNAgent(state_shape=env_.to_state().shape[1:], gamma=GAMMA, n_actions=4, epsilon_start=1., epsilon_end=0.05, epsilon_decay=0.9995, learning_rate=1e-4, target_update_freq=100)"
   ]
  },
  {
   "cell_type": "markdown",
   "metadata": {
    "collapsed": false
   },
   "source": [
    "## Training"
   ]
  },
  {
   "cell_type": "code",
   "execution_count": 4,
   "metadata": {},
   "outputs": [],
   "source": [
    "def training(iterations, env, agent, save_weights=True, save_path=\"weights/\", file_name=\"weights.h5\"):\n",
    "    rewards_hist = []\n",
    "    walls_hist = []\n",
    "    fruit_hist = []\n",
    "    loss_hist = []\n",
    "    max_fruits_eaten = 0\n",
    "\n",
    "    for iteration in trange(iterations):\n",
    "        state = tf.constant(env.to_state())\n",
    "        actions = agent.select_action(state)\n",
    "        rewards = env.move(actions)\n",
    "        new_state = tf.constant(env.to_state())\n",
    "        dones = np.isin(rewards, [env_.WIN_REWARD, env_.HIT_WALL_REWARD, env_.ATE_HIMSELF_REWARD])\n",
    "        loss = agent.train(state, actions, rewards, new_state, dones)\n",
    "        mean_reward = tf.reduce_mean(rewards).numpy()\n",
    "        rewards_hist.append(mean_reward)\n",
    "        if loss is not None:\n",
    "            loss_hist.append(loss)\n",
    "        wall_hits_count = np.sum(rewards == env_.HIT_WALL_REWARD)\n",
    "        walls_hist.append(wall_hits_count)\n",
    "\n",
    "        fruits_eaten_count = np.sum(rewards == env_.FRUIT_REWARD)\n",
    "        fruit_hist.append(fruits_eaten_count)\n",
    "\n",
    "        if iteration % 100 == 0:\n",
    "            avg_reward = np.mean(rewards_hist[-100:]) if rewards_hist else 0\n",
    "            avg_loss = np.mean(loss_hist[-100:]) if loss_hist else 0\n",
    "\n",
    "            fruits_eaten = tf.reduce_sum(tf.cast(rewards == 0.5, tf.int32)).numpy()\n",
    "            max_fruits_eaten = max(max_fruits_eaten, fruits_eaten)\n",
    "            print(f\"Iteration {iteration}: Avg Reward: {avg_reward:.2f}, Avg Loss: {avg_loss:.4f}\")\n",
    "            print(f\"Fruits eaten: {fruits_eaten}, Max fruits eaten: {max_fruits_eaten}\")\n",
    "            print(f\"Wall hits: {wall_hits_count}\")\n",
    "\n",
    "    if save_weights:\n",
    "        if not os.path.exists(save_path):\n",
    "            os.makedirs(save_path)\n",
    "        agent.save_weights(os.path.join(save_path, file_name))\n",
    "        print(f\"Weights saved to {os.path.join(save_path, file_name)}\")\n",
    "\n",
    "    return rewards_hist, walls_hist, fruit_hist, loss_hist"
   ]
  },
  {
   "cell_type": "code",
   "execution_count": null,
   "metadata": {},
   "outputs": [
    {
     "name": "stderr",
     "output_type": "stream",
     "text": [
      "  0%|          | 1/5000 [00:01<2:03:30,  1.48s/it]"
     ]
    },
    {
     "name": "stdout",
     "output_type": "stream",
     "text": [
      "Iteration 0: Avg Reward: 0.00, Avg Loss: 0.0428\n",
      "Fruits eaten: 40, Max fruits eaten: 40\n",
      "Wall hits: 192\n"
     ]
    },
    {
     "name": "stderr",
     "output_type": "stream",
     "text": [
      "  2%|▏         | 101/5000 [01:37<1:18:15,  1.04it/s]"
     ]
    },
    {
     "name": "stdout",
     "output_type": "stream",
     "text": [
      "Iteration 100: Avg Reward: -0.01, Avg Loss: 0.0088\n",
      "Fruits eaten: 11, Max fruits eaten: 40\n",
      "Wall hits: 181\n"
     ]
    },
    {
     "name": "stderr",
     "output_type": "stream",
     "text": [
      "  4%|▍         | 201/5000 [03:12<1:16:21,  1.05it/s]"
     ]
    },
    {
     "name": "stdout",
     "output_type": "stream",
     "text": [
      "Iteration 200: Avg Reward: -0.01, Avg Loss: 0.0058\n",
      "Fruits eaten: 29, Max fruits eaten: 40\n",
      "Wall hits: 174\n"
     ]
    },
    {
     "name": "stderr",
     "output_type": "stream",
     "text": [
      "  6%|▌         | 301/5000 [04:47<1:14:10,  1.06it/s]"
     ]
    },
    {
     "name": "stdout",
     "output_type": "stream",
     "text": [
      "Iteration 300: Avg Reward: -0.01, Avg Loss: 0.0064\n",
      "Fruits eaten: 12, Max fruits eaten: 40\n",
      "Wall hits: 178\n"
     ]
    },
    {
     "name": "stderr",
     "output_type": "stream",
     "text": [
      "  8%|▊         | 401/5000 [06:28<1:29:47,  1.17s/it]"
     ]
    },
    {
     "name": "stdout",
     "output_type": "stream",
     "text": [
      "Iteration 400: Avg Reward: -0.01, Avg Loss: 0.0066\n",
      "Fruits eaten: 31, Max fruits eaten: 40\n",
      "Wall hits: 159\n"
     ]
    },
    {
     "name": "stderr",
     "output_type": "stream",
     "text": [
      " 10%|█         | 501/5000 [08:17<1:12:34,  1.03it/s]"
     ]
    },
    {
     "name": "stdout",
     "output_type": "stream",
     "text": [
      "Iteration 500: Avg Reward: -0.00, Avg Loss: 0.0077\n",
      "Fruits eaten: 43, Max fruits eaten: 43\n",
      "Wall hits: 0\n"
     ]
    },
    {
     "name": "stderr",
     "output_type": "stream",
     "text": [
      " 12%|█▏        | 601/5000 [09:58<1:09:19,  1.06it/s]"
     ]
    },
    {
     "name": "stdout",
     "output_type": "stream",
     "text": [
      "Iteration 600: Avg Reward: -0.00, Avg Loss: 0.0083\n",
      "Fruits eaten: 21, Max fruits eaten: 43\n",
      "Wall hits: 197\n"
     ]
    },
    {
     "name": "stderr",
     "output_type": "stream",
     "text": [
      " 14%|█▍        | 701/5000 [11:33<1:08:47,  1.04it/s]"
     ]
    },
    {
     "name": "stdout",
     "output_type": "stream",
     "text": [
      "Iteration 700: Avg Reward: 0.00, Avg Loss: 0.0092\n",
      "Fruits eaten: 34, Max fruits eaten: 43\n",
      "Wall hits: 170\n"
     ]
    },
    {
     "name": "stderr",
     "output_type": "stream",
     "text": [
      " 16%|█▌        | 801/5000 [13:09<1:09:02,  1.01it/s]"
     ]
    },
    {
     "name": "stdout",
     "output_type": "stream",
     "text": [
      "Iteration 800: Avg Reward: 0.00, Avg Loss: 0.0087\n",
      "Fruits eaten: 194, Max fruits eaten: 194\n",
      "Wall hits: 0\n"
     ]
    },
    {
     "name": "stderr",
     "output_type": "stream",
     "text": [
      " 18%|█▊        | 901/5000 [14:45<1:05:02,  1.05it/s]"
     ]
    },
    {
     "name": "stdout",
     "output_type": "stream",
     "text": [
      "Iteration 900: Avg Reward: 0.01, Avg Loss: 0.0114\n",
      "Fruits eaten: 193, Max fruits eaten: 194\n",
      "Wall hits: 3\n"
     ]
    },
    {
     "name": "stderr",
     "output_type": "stream",
     "text": [
      " 20%|██        | 1001/5000 [16:26<1:03:00,  1.06it/s]"
     ]
    },
    {
     "name": "stdout",
     "output_type": "stream",
     "text": [
      "Iteration 1000: Avg Reward: 0.02, Avg Loss: 0.0115\n",
      "Fruits eaten: 26, Max fruits eaten: 194\n",
      "Wall hits: 162\n"
     ]
    },
    {
     "name": "stderr",
     "output_type": "stream",
     "text": [
      " 22%|██▏       | 1101/5000 [18:02<1:01:45,  1.05it/s]"
     ]
    },
    {
     "name": "stdout",
     "output_type": "stream",
     "text": [
      "Iteration 1100: Avg Reward: 0.03, Avg Loss: 0.0140\n",
      "Fruits eaten: 56, Max fruits eaten: 194\n",
      "Wall hits: 150\n"
     ]
    },
    {
     "name": "stderr",
     "output_type": "stream",
     "text": [
      " 24%|██▍       | 1201/5000 [19:39<1:00:49,  1.04it/s]"
     ]
    },
    {
     "name": "stdout",
     "output_type": "stream",
     "text": [
      "Iteration 1200: Avg Reward: 0.03, Avg Loss: 0.0166\n",
      "Fruits eaten: 113, Max fruits eaten: 194\n",
      "Wall hits: 2\n"
     ]
    },
    {
     "name": "stderr",
     "output_type": "stream",
     "text": [
      " 26%|██▌       | 1301/5000 [21:15<58:36,  1.05it/s]  "
     ]
    },
    {
     "name": "stdout",
     "output_type": "stream",
     "text": [
      "Iteration 1300: Avg Reward: 0.04, Avg Loss: 0.0181\n",
      "Fruits eaten: 71, Max fruits eaten: 194\n",
      "Wall hits: 117\n"
     ]
    },
    {
     "name": "stderr",
     "output_type": "stream",
     "text": [
      " 28%|██▊       | 1401/5000 [22:51<56:38,  1.06it/s]  "
     ]
    },
    {
     "name": "stdout",
     "output_type": "stream",
     "text": [
      "Iteration 1400: Avg Reward: 0.04, Avg Loss: 0.0229\n",
      "Fruits eaten: 165, Max fruits eaten: 194\n",
      "Wall hits: 0\n"
     ]
    },
    {
     "name": "stderr",
     "output_type": "stream",
     "text": [
      " 30%|███       | 1501/5000 [24:26<55:58,  1.04it/s]"
     ]
    },
    {
     "name": "stdout",
     "output_type": "stream",
     "text": [
      "Iteration 1500: Avg Reward: 0.05, Avg Loss: 0.0219\n",
      "Fruits eaten: 70, Max fruits eaten: 194\n",
      "Wall hits: 104\n"
     ]
    },
    {
     "name": "stderr",
     "output_type": "stream",
     "text": [
      " 32%|███▏      | 1601/5000 [26:02<53:58,  1.05it/s]"
     ]
    },
    {
     "name": "stdout",
     "output_type": "stream",
     "text": [
      "Iteration 1600: Avg Reward: 0.05, Avg Loss: 0.0246\n",
      "Fruits eaten: 285, Max fruits eaten: 285\n",
      "Wall hits: 3\n"
     ]
    },
    {
     "name": "stderr",
     "output_type": "stream",
     "text": [
      " 34%|███▍      | 1701/5000 [27:38<53:06,  1.04it/s]"
     ]
    },
    {
     "name": "stdout",
     "output_type": "stream",
     "text": [
      "Iteration 1700: Avg Reward: 0.06, Avg Loss: 0.0235\n",
      "Fruits eaten: 250, Max fruits eaten: 285\n",
      "Wall hits: 3\n"
     ]
    },
    {
     "name": "stderr",
     "output_type": "stream",
     "text": [
      " 36%|███▌      | 1801/5000 [29:13<51:21,  1.04it/s]"
     ]
    },
    {
     "name": "stdout",
     "output_type": "stream",
     "text": [
      "Iteration 1800: Avg Reward: 0.05, Avg Loss: 0.0285\n",
      "Fruits eaten: 257, Max fruits eaten: 285\n",
      "Wall hits: 7\n"
     ]
    },
    {
     "name": "stderr",
     "output_type": "stream",
     "text": [
      " 38%|███▊      | 1901/5000 [30:50<49:21,  1.05it/s]"
     ]
    },
    {
     "name": "stdout",
     "output_type": "stream",
     "text": [
      "Iteration 1900: Avg Reward: 0.06, Avg Loss: 0.0305\n",
      "Fruits eaten: 26, Max fruits eaten: 285\n",
      "Wall hits: 166\n"
     ]
    },
    {
     "name": "stderr",
     "output_type": "stream",
     "text": [
      " 40%|████      | 2001/5000 [32:25<47:16,  1.06it/s]"
     ]
    },
    {
     "name": "stdout",
     "output_type": "stream",
     "text": [
      "Iteration 2000: Avg Reward: 0.05, Avg Loss: 0.0319\n",
      "Fruits eaten: 77, Max fruits eaten: 285\n",
      "Wall hits: 111\n"
     ]
    },
    {
     "name": "stderr",
     "output_type": "stream",
     "text": [
      " 42%|████▏     | 2101/5000 [34:01<46:52,  1.03it/s]"
     ]
    },
    {
     "name": "stdout",
     "output_type": "stream",
     "text": [
      "Iteration 2100: Avg Reward: 0.05, Avg Loss: 0.0311\n",
      "Fruits eaten: 138, Max fruits eaten: 285\n",
      "Wall hits: 0\n"
     ]
    },
    {
     "name": "stderr",
     "output_type": "stream",
     "text": [
      " 44%|████▍     | 2201/5000 [35:38<44:38,  1.05it/s]"
     ]
    },
    {
     "name": "stdout",
     "output_type": "stream",
     "text": [
      "Iteration 2200: Avg Reward: 0.06, Avg Loss: 0.0343\n",
      "Fruits eaten: 66, Max fruits eaten: 285\n",
      "Wall hits: 100\n"
     ]
    },
    {
     "name": "stderr",
     "output_type": "stream",
     "text": [
      " 46%|████▌     | 2301/5000 [37:15<43:43,  1.03it/s]"
     ]
    },
    {
     "name": "stdout",
     "output_type": "stream",
     "text": [
      "Iteration 2300: Avg Reward: 0.07, Avg Loss: 0.0286\n",
      "Fruits eaten: 147, Max fruits eaten: 285\n",
      "Wall hits: 11\n"
     ]
    },
    {
     "name": "stderr",
     "output_type": "stream",
     "text": [
      " 48%|████▊     | 2401/5000 [38:51<41:25,  1.05it/s]"
     ]
    },
    {
     "name": "stdout",
     "output_type": "stream",
     "text": [
      "Iteration 2400: Avg Reward: 0.08, Avg Loss: 0.0313\n",
      "Fruits eaten: 277, Max fruits eaten: 285\n",
      "Wall hits: 0\n"
     ]
    },
    {
     "name": "stderr",
     "output_type": "stream",
     "text": [
      " 50%|█████     | 2501/5000 [40:27<39:57,  1.04it/s]"
     ]
    },
    {
     "name": "stdout",
     "output_type": "stream",
     "text": [
      "Iteration 2500: Avg Reward: 0.07, Avg Loss: 0.0333\n",
      "Fruits eaten: 328, Max fruits eaten: 328\n",
      "Wall hits: 1\n"
     ]
    },
    {
     "name": "stderr",
     "output_type": "stream",
     "text": [
      " 52%|█████▏    | 2601/5000 [42:04<38:22,  1.04it/s]"
     ]
    },
    {
     "name": "stdout",
     "output_type": "stream",
     "text": [
      "Iteration 2600: Avg Reward: 0.07, Avg Loss: 0.0340\n",
      "Fruits eaten: 75, Max fruits eaten: 328\n",
      "Wall hits: 113\n"
     ]
    },
    {
     "name": "stderr",
     "output_type": "stream",
     "text": [
      " 54%|█████▍    | 2701/5000 [43:41<37:05,  1.03it/s]"
     ]
    },
    {
     "name": "stdout",
     "output_type": "stream",
     "text": [
      "Iteration 2700: Avg Reward: 0.09, Avg Loss: 0.0348\n",
      "Fruits eaten: 138, Max fruits eaten: 328\n",
      "Wall hits: 9\n"
     ]
    },
    {
     "name": "stderr",
     "output_type": "stream",
     "text": [
      " 56%|█████▌    | 2801/5000 [45:18<35:13,  1.04it/s]"
     ]
    },
    {
     "name": "stdout",
     "output_type": "stream",
     "text": [
      "Iteration 2800: Avg Reward: 0.07, Avg Loss: 0.0415\n",
      "Fruits eaten: 40, Max fruits eaten: 328\n",
      "Wall hits: 164\n"
     ]
    },
    {
     "name": "stderr",
     "output_type": "stream",
     "text": [
      " 58%|█████▊    | 2901/5000 [46:54<33:34,  1.04it/s]"
     ]
    },
    {
     "name": "stdout",
     "output_type": "stream",
     "text": [
      "Iteration 2900: Avg Reward: 0.08, Avg Loss: 0.0436\n",
      "Fruits eaten: 304, Max fruits eaten: 328\n",
      "Wall hits: 2\n"
     ]
    },
    {
     "name": "stderr",
     "output_type": "stream",
     "text": [
      " 60%|██████    | 3001/5000 [48:30<31:59,  1.04it/s]"
     ]
    },
    {
     "name": "stdout",
     "output_type": "stream",
     "text": [
      "Iteration 3000: Avg Reward: 0.08, Avg Loss: 0.0413\n",
      "Fruits eaten: 63, Max fruits eaten: 328\n",
      "Wall hits: 143\n"
     ]
    },
    {
     "name": "stderr",
     "output_type": "stream",
     "text": [
      " 62%|██████▏   | 3101/5000 [50:07<30:48,  1.03it/s]"
     ]
    },
    {
     "name": "stdout",
     "output_type": "stream",
     "text": [
      "Iteration 3100: Avg Reward: 0.09, Avg Loss: 0.0334\n",
      "Fruits eaten: 271, Max fruits eaten: 328\n",
      "Wall hits: 11\n"
     ]
    },
    {
     "name": "stderr",
     "output_type": "stream",
     "text": [
      " 64%|██████▍   | 3201/5000 [51:43<28:41,  1.05it/s]"
     ]
    },
    {
     "name": "stdout",
     "output_type": "stream",
     "text": [
      "Iteration 3200: Avg Reward: 0.08, Avg Loss: 0.0386\n",
      "Fruits eaten: 218, Max fruits eaten: 328\n",
      "Wall hits: 0\n"
     ]
    },
    {
     "name": "stderr",
     "output_type": "stream",
     "text": [
      " 66%|██████▌   | 3301/5000 [53:19<27:06,  1.04it/s]"
     ]
    },
    {
     "name": "stdout",
     "output_type": "stream",
     "text": [
      "Iteration 3300: Avg Reward: 0.09, Avg Loss: 0.0357\n",
      "Fruits eaten: 264, Max fruits eaten: 328\n",
      "Wall hits: 9\n"
     ]
    },
    {
     "name": "stderr",
     "output_type": "stream",
     "text": [
      " 68%|██████▊   | 3401/5000 [54:56<25:49,  1.03it/s]"
     ]
    },
    {
     "name": "stdout",
     "output_type": "stream",
     "text": [
      "Iteration 3400: Avg Reward: 0.10, Avg Loss: 0.0358\n",
      "Fruits eaten: 257, Max fruits eaten: 328\n",
      "Wall hits: 8\n"
     ]
    },
    {
     "name": "stderr",
     "output_type": "stream",
     "text": [
      " 70%|███████   | 3501/5000 [56:33<24:16,  1.03it/s]"
     ]
    },
    {
     "name": "stdout",
     "output_type": "stream",
     "text": [
      "Iteration 3500: Avg Reward: 0.09, Avg Loss: 0.0428\n",
      "Fruits eaten: 257, Max fruits eaten: 328\n",
      "Wall hits: 8\n"
     ]
    },
    {
     "name": "stderr",
     "output_type": "stream",
     "text": [
      " 72%|███████▏  | 3601/5000 [58:10<22:15,  1.05it/s]"
     ]
    },
    {
     "name": "stdout",
     "output_type": "stream",
     "text": [
      "Iteration 3600: Avg Reward: 0.10, Avg Loss: 0.0427\n",
      "Fruits eaten: 317, Max fruits eaten: 328\n",
      "Wall hits: 1\n"
     ]
    },
    {
     "name": "stderr",
     "output_type": "stream",
     "text": [
      " 74%|███████▍  | 3701/5000 [59:46<20:59,  1.03it/s]"
     ]
    },
    {
     "name": "stdout",
     "output_type": "stream",
     "text": [
      "Iteration 3700: Avg Reward: 0.09, Avg Loss: 0.0490\n",
      "Fruits eaten: 80, Max fruits eaten: 328\n",
      "Wall hits: 132\n"
     ]
    },
    {
     "name": "stderr",
     "output_type": "stream",
     "text": [
      " 76%|███████▌  | 3801/5000 [1:01:26<21:51,  1.09s/it]"
     ]
    },
    {
     "name": "stdout",
     "output_type": "stream",
     "text": [
      "Iteration 3800: Avg Reward: 0.10, Avg Loss: 0.0501\n",
      "Fruits eaten: 256, Max fruits eaten: 328\n",
      "Wall hits: 0\n"
     ]
    },
    {
     "name": "stderr",
     "output_type": "stream",
     "text": [
      " 78%|███████▊  | 3901/5000 [1:03:06<17:51,  1.03it/s]"
     ]
    },
    {
     "name": "stdout",
     "output_type": "stream",
     "text": [
      "Iteration 3900: Avg Reward: 0.10, Avg Loss: 0.0416\n",
      "Fruits eaten: 246, Max fruits eaten: 328\n",
      "Wall hits: 4\n"
     ]
    },
    {
     "name": "stderr",
     "output_type": "stream",
     "text": [
      " 80%|████████  | 4001/5000 [1:04:45<16:15,  1.02it/s]"
     ]
    },
    {
     "name": "stdout",
     "output_type": "stream",
     "text": [
      "Iteration 4000: Avg Reward: 0.10, Avg Loss: 0.0408\n",
      "Fruits eaten: 293, Max fruits eaten: 328\n",
      "Wall hits: 2\n"
     ]
    },
    {
     "name": "stderr",
     "output_type": "stream",
     "text": [
      " 82%|████████▏ | 4101/5000 [1:06:23<14:41,  1.02it/s]"
     ]
    },
    {
     "name": "stdout",
     "output_type": "stream",
     "text": [
      "Iteration 4100: Avg Reward: 0.09, Avg Loss: 0.0441\n",
      "Fruits eaten: 283, Max fruits eaten: 328\n",
      "Wall hits: 1\n"
     ]
    },
    {
     "name": "stderr",
     "output_type": "stream",
     "text": [
      " 84%|████████▍ | 4201/5000 [1:08:02<12:59,  1.02it/s]"
     ]
    },
    {
     "name": "stdout",
     "output_type": "stream",
     "text": [
      "Iteration 4200: Avg Reward: 0.11, Avg Loss: 0.0337\n",
      "Fruits eaten: 65, Max fruits eaten: 328\n",
      "Wall hits: 141\n"
     ]
    },
    {
     "name": "stderr",
     "output_type": "stream",
     "text": [
      " 86%|████████▌ | 4301/5000 [1:09:39<11:20,  1.03it/s]"
     ]
    },
    {
     "name": "stdout",
     "output_type": "stream",
     "text": [
      "Iteration 4300: Avg Reward: 0.10, Avg Loss: 0.0417\n",
      "Fruits eaten: 69, Max fruits eaten: 328\n",
      "Wall hits: 127\n"
     ]
    },
    {
     "name": "stderr",
     "output_type": "stream",
     "text": [
      " 88%|████████▊ | 4401/5000 [1:11:17<09:49,  1.02it/s]"
     ]
    },
    {
     "name": "stdout",
     "output_type": "stream",
     "text": [
      "Iteration 4400: Avg Reward: 0.11, Avg Loss: 0.0414\n",
      "Fruits eaten: 281, Max fruits eaten: 328\n",
      "Wall hits: 4\n"
     ]
    },
    {
     "name": "stderr",
     "output_type": "stream",
     "text": [
      " 90%|█████████ | 4501/5000 [1:12:56<08:06,  1.03it/s]"
     ]
    },
    {
     "name": "stdout",
     "output_type": "stream",
     "text": [
      "Iteration 4500: Avg Reward: 0.11, Avg Loss: 0.0417\n",
      "Fruits eaten: 281, Max fruits eaten: 328\n",
      "Wall hits: 0\n"
     ]
    },
    {
     "name": "stderr",
     "output_type": "stream",
     "text": [
      " 92%|█████████▏| 4601/5000 [1:14:35<06:30,  1.02it/s]"
     ]
    },
    {
     "name": "stdout",
     "output_type": "stream",
     "text": [
      "Iteration 4600: Avg Reward: 0.11, Avg Loss: 0.0396\n",
      "Fruits eaten: 249, Max fruits eaten: 328\n",
      "Wall hits: 2\n"
     ]
    },
    {
     "name": "stderr",
     "output_type": "stream",
     "text": [
      " 94%|█████████▍| 4701/5000 [1:16:15<04:52,  1.02it/s]"
     ]
    },
    {
     "name": "stdout",
     "output_type": "stream",
     "text": [
      "Iteration 4700: Avg Reward: 0.11, Avg Loss: 0.0399\n",
      "Fruits eaten: 283, Max fruits eaten: 328\n",
      "Wall hits: 3\n"
     ]
    },
    {
     "name": "stderr",
     "output_type": "stream",
     "text": [
      " 96%|█████████▌| 4801/5000 [1:17:53<03:16,  1.01it/s]"
     ]
    },
    {
     "name": "stdout",
     "output_type": "stream",
     "text": [
      "Iteration 4800: Avg Reward: 0.11, Avg Loss: 0.0457\n",
      "Fruits eaten: 269, Max fruits eaten: 328\n",
      "Wall hits: 3\n"
     ]
    },
    {
     "name": "stderr",
     "output_type": "stream",
     "text": [
      " 98%|█████████▊| 4901/5000 [1:19:31<01:38,  1.01it/s]"
     ]
    },
    {
     "name": "stdout",
     "output_type": "stream",
     "text": [
      "Iteration 4900: Avg Reward: 0.12, Avg Loss: 0.0352\n",
      "Fruits eaten: 285, Max fruits eaten: 328\n",
      "Wall hits: 3\n"
     ]
    },
    {
     "name": "stderr",
     "output_type": "stream",
     "text": [
      "100%|██████████| 5000/5000 [1:21:09<00:00,  1.03it/s]"
     ]
    },
    {
     "name": "stdout",
     "output_type": "stream",
     "text": [
      "Model weights saved to weights/snake_dqn_weights.h5\n",
      "Weights saved to weights/snake_dqn_weights.h5\n"
     ]
    },
    {
     "name": "stderr",
     "output_type": "stream",
     "text": [
      "\n"
     ]
    }
   ],
   "source": [
    "rewards_history, wall_hits, fruits_eaten_, loss_history = training(ITERATIONS, env_, agent, save_weights=True, save_path=\"weights/\", file_name=\"snake_dqn_weights.h5\")"
   ]
  },
  {
   "cell_type": "markdown",
   "metadata": {},
   "source": [
    "### Load the weights - DQN Agent"
   ]
  },
  {
   "cell_type": "code",
   "execution_count": 5,
   "metadata": {},
   "outputs": [
    {
     "name": "stdout",
     "output_type": "stream",
     "text": [
      "Model weights loaded from weights/snake_dqn_weights.h5\n"
     ]
    },
    {
     "name": "stderr",
     "output_type": "stream",
     "text": [
      "100%|██████████| 5000/5000 [02:23<00:00, 34.94it/s]"
     ]
    },
    {
     "name": "stdout",
     "output_type": "stream",
     "text": [
      "Avg Reward: 0.12\n",
      "Avg Wall Hits: 14.12\n",
      "Avg Fruits Eaten: 258.47\n"
     ]
    },
    {
     "name": "stderr",
     "output_type": "stream",
     "text": [
      "\n"
     ]
    }
   ],
   "source": [
    "env = get_env()\n",
    "agent = DQNAgent(state_shape=env.to_state().shape[1:], gamma=GAMMA, n_actions=4, epsilon_start=1., epsilon_end=0.05, epsilon_decay=0.9995, learning_rate=1e-4, target_update_freq=100)\n",
    "\n",
    "agent.load_weights(\"weights/snake_dqn_weights.h5\")\n",
    "agent.epsilon = agent.epsilon_end\n",
    "\n",
    "rewards_history_loaded = []\n",
    "wall_hits_loaded = []\n",
    "fruits_eaten_loaded = []\n",
    "\n",
    "for iteration in trange(ITERATIONS):\n",
    "    state = tf.constant(env.to_state())\n",
    "    actions = agent.select_action(state)\n",
    "    rewards = env.move(actions)\n",
    "    wall_hits_count = np.sum(rewards == env.HIT_WALL_REWARD)\n",
    "    wall_hits_loaded.append(wall_hits_count)\n",
    "    fruits_eaten_count = np.sum(rewards == env.FRUIT_REWARD)\n",
    "    fruits_eaten_loaded.append(fruits_eaten_count)\n",
    "    rewards_history_loaded.append(np.mean(rewards))\n",
    "    dones = np.isin(rewards.numpy().flatten(), [env.WIN_REWARD, env.HIT_WALL_REWARD, env.ATE_HIMSELF_REWARD])\n",
    "\n",
    "print(f\"Avg Reward: {np.mean(rewards_history_loaded):.2f}\")\n",
    "print(f\"Avg Wall Hits: {np.mean(wall_hits_loaded):.2f}\")\n",
    "print(f\"Avg Fruits Eaten: {np.mean(fruits_eaten_loaded):.2f}\")"
   ]
  },
  {
   "cell_type": "markdown",
   "metadata": {},
   "source": [
    "### Load the weights - Testing on Partially Observable Environment"
   ]
  },
  {
   "cell_type": "code",
   "execution_count": 6,
   "metadata": {},
   "outputs": [
    {
     "name": "stdout",
     "output_type": "stream",
     "text": [
      "Model weights loaded from weights/snake_dqn_weights.h5\n"
     ]
    },
    {
     "name": "stderr",
     "output_type": "stream",
     "text": [
      "100%|██████████| 5000/5000 [01:27<00:00, 57.09it/s]"
     ]
    },
    {
     "name": "stdout",
     "output_type": "stream",
     "text": [
      "Avg Reward: -0.08\n",
      "Avg Wall Hits: 806.50\n",
      "Avg Fruits Eaten: 7.65\n"
     ]
    },
    {
     "name": "stderr",
     "output_type": "stream",
     "text": [
      "\n"
     ]
    }
   ],
   "source": [
    "env = get_env(partially_observable=True)\n",
    "agent = DQNAgent(state_shape=env.to_state().shape[1:], gamma=GAMMA, n_actions=4, epsilon_start=1., epsilon_end=0.05, epsilon_decay=0.9995, learning_rate=1e-4, target_update_freq=100)\n",
    "\n",
    "agent.load_weights(\"weights/snake_dqn_weights.h5\")\n",
    "agent.epsilon = agent.epsilon_end\n",
    "\n",
    "rewards_history_loaded_po = []\n",
    "wall_hits_loaded_po = []\n",
    "fruits_eaten_loaded_po = []\n",
    "\n",
    "for iteration in trange(ITERATIONS):\n",
    "    state = tf.constant(env.to_state())\n",
    "    actions = agent.select_action(state)\n",
    "    rewards = env.move(actions)\n",
    "    wall_hits_count = np.sum(rewards == env.HIT_WALL_REWARD)\n",
    "    wall_hits_loaded_po.append(wall_hits_count)\n",
    "    fruits_eaten_count = np.sum(rewards == env.FRUIT_REWARD)\n",
    "    fruits_eaten_loaded_po.append(fruits_eaten_count)\n",
    "    rewards_history_loaded_po.append(np.mean(rewards))\n",
    "    dones = np.isin(rewards.numpy().flatten(), [env.WIN_REWARD, env.HIT_WALL_REWARD, env.ATE_HIMSELF_REWARD])\n",
    "\n",
    "print(f\"Avg Reward: {np.mean(rewards_history_loaded_po):.2f}\")\n",
    "print(f\"Avg Wall Hits: {np.mean(wall_hits_loaded_po):.2f}\")\n",
    "print(f\"Avg Fruits Eaten: {np.mean(fruits_eaten_loaded_po):.2f}\")"
   ]
  },
  {
   "cell_type": "markdown",
   "metadata": {},
   "source": [
    "Here we retrain the model on the partially observable environment"
   ]
  },
  {
   "cell_type": "code",
   "execution_count": 7,
   "metadata": {},
   "outputs": [
    {
     "name": "stderr",
     "output_type": "stream",
     "text": [
      "  0%|          | 1/5000 [00:03<4:20:11,  3.12s/it]"
     ]
    },
    {
     "name": "stdout",
     "output_type": "stream",
     "text": [
      "Iteration 0: Avg Reward: 0.00, Avg Loss: 0.0411\n",
      "Fruits eaten: 37, Max fruits eaten: 37\n",
      "Wall hits: 179\n"
     ]
    },
    {
     "name": "stderr",
     "output_type": "stream",
     "text": [
      "  2%|▏         | 101/5000 [01:47<1:25:13,  1.04s/it]"
     ]
    },
    {
     "name": "stdout",
     "output_type": "stream",
     "text": [
      "Iteration 100: Avg Reward: -0.01, Avg Loss: 0.0079\n",
      "Fruits eaten: 13, Max fruits eaten: 37\n",
      "Wall hits: 182\n"
     ]
    },
    {
     "name": "stderr",
     "output_type": "stream",
     "text": [
      "  4%|▍         | 201/5000 [03:31<1:25:41,  1.07s/it]"
     ]
    },
    {
     "name": "stdout",
     "output_type": "stream",
     "text": [
      "Iteration 200: Avg Reward: -0.01, Avg Loss: 0.0044\n",
      "Fruits eaten: 32, Max fruits eaten: 37\n",
      "Wall hits: 117\n"
     ]
    },
    {
     "name": "stderr",
     "output_type": "stream",
     "text": [
      "  6%|▌         | 301/5000 [05:17<1:20:20,  1.03s/it]"
     ]
    },
    {
     "name": "stdout",
     "output_type": "stream",
     "text": [
      "Iteration 300: Avg Reward: -0.00, Avg Loss: 0.0049\n",
      "Fruits eaten: 20, Max fruits eaten: 37\n",
      "Wall hits: 183\n"
     ]
    },
    {
     "name": "stderr",
     "output_type": "stream",
     "text": [
      "  8%|▊         | 401/5000 [06:59<1:18:08,  1.02s/it]"
     ]
    },
    {
     "name": "stdout",
     "output_type": "stream",
     "text": [
      "Iteration 400: Avg Reward: -0.01, Avg Loss: 0.0084\n",
      "Fruits eaten: 18, Max fruits eaten: 37\n",
      "Wall hits: 195\n"
     ]
    },
    {
     "name": "stderr",
     "output_type": "stream",
     "text": [
      " 10%|█         | 501/5000 [08:42<1:17:16,  1.03s/it]"
     ]
    },
    {
     "name": "stdout",
     "output_type": "stream",
     "text": [
      "Iteration 500: Avg Reward: 0.00, Avg Loss: 0.0123\n",
      "Fruits eaten: 107, Max fruits eaten: 107\n",
      "Wall hits: 2\n"
     ]
    },
    {
     "name": "stderr",
     "output_type": "stream",
     "text": [
      " 12%|█▏        | 601/5000 [10:25<1:14:53,  1.02s/it]"
     ]
    },
    {
     "name": "stdout",
     "output_type": "stream",
     "text": [
      "Iteration 600: Avg Reward: 0.00, Avg Loss: 0.0184\n",
      "Fruits eaten: 15, Max fruits eaten: 107\n",
      "Wall hits: 193\n"
     ]
    },
    {
     "name": "stderr",
     "output_type": "stream",
     "text": [
      " 14%|█▍        | 701/5000 [12:07<1:13:48,  1.03s/it]"
     ]
    },
    {
     "name": "stdout",
     "output_type": "stream",
     "text": [
      "Iteration 700: Avg Reward: 0.02, Avg Loss: 0.0210\n",
      "Fruits eaten: 23, Max fruits eaten: 107\n",
      "Wall hits: 189\n"
     ]
    },
    {
     "name": "stderr",
     "output_type": "stream",
     "text": [
      " 16%|█▌        | 801/5000 [13:55<1:07:19,  1.04it/s]"
     ]
    },
    {
     "name": "stdout",
     "output_type": "stream",
     "text": [
      "Iteration 800: Avg Reward: 0.01, Avg Loss: 0.0243\n",
      "Fruits eaten: 35, Max fruits eaten: 107\n",
      "Wall hits: 124\n"
     ]
    },
    {
     "name": "stderr",
     "output_type": "stream",
     "text": [
      " 18%|█▊        | 901/5000 [15:47<1:10:29,  1.03s/it]"
     ]
    },
    {
     "name": "stdout",
     "output_type": "stream",
     "text": [
      "Iteration 900: Avg Reward: 0.02, Avg Loss: 0.0251\n",
      "Fruits eaten: 147, Max fruits eaten: 147\n",
      "Wall hits: 1\n"
     ]
    },
    {
     "name": "stderr",
     "output_type": "stream",
     "text": [
      " 20%|██        | 1001/5000 [17:44<1:11:07,  1.07s/it]"
     ]
    },
    {
     "name": "stdout",
     "output_type": "stream",
     "text": [
      "Iteration 1000: Avg Reward: 0.03, Avg Loss: 0.0273\n",
      "Fruits eaten: 27, Max fruits eaten: 147\n",
      "Wall hits: 176\n"
     ]
    },
    {
     "name": "stderr",
     "output_type": "stream",
     "text": [
      " 22%|██▏       | 1101/5000 [19:37<1:15:57,  1.17s/it]"
     ]
    },
    {
     "name": "stdout",
     "output_type": "stream",
     "text": [
      "Iteration 1100: Avg Reward: 0.03, Avg Loss: 0.0267\n",
      "Fruits eaten: 26, Max fruits eaten: 147\n",
      "Wall hits: 153\n"
     ]
    },
    {
     "name": "stderr",
     "output_type": "stream",
     "text": [
      " 24%|██▍       | 1201/5000 [21:35<1:31:10,  1.44s/it]"
     ]
    },
    {
     "name": "stdout",
     "output_type": "stream",
     "text": [
      "Iteration 1200: Avg Reward: 0.03, Avg Loss: 0.0285\n",
      "Fruits eaten: 60, Max fruits eaten: 147\n",
      "Wall hits: 116\n"
     ]
    },
    {
     "name": "stderr",
     "output_type": "stream",
     "text": [
      " 26%|██▌       | 1301/5000 [23:31<1:09:55,  1.13s/it]"
     ]
    },
    {
     "name": "stdout",
     "output_type": "stream",
     "text": [
      "Iteration 1300: Avg Reward: 0.04, Avg Loss: 0.0294\n",
      "Fruits eaten: 250, Max fruits eaten: 250\n",
      "Wall hits: 0\n"
     ]
    },
    {
     "name": "stderr",
     "output_type": "stream",
     "text": [
      " 28%|██▊       | 1401/5000 [25:26<1:09:23,  1.16s/it]"
     ]
    },
    {
     "name": "stdout",
     "output_type": "stream",
     "text": [
      "Iteration 1400: Avg Reward: 0.03, Avg Loss: 0.0316\n",
      "Fruits eaten: 39, Max fruits eaten: 250\n",
      "Wall hits: 154\n"
     ]
    },
    {
     "name": "stderr",
     "output_type": "stream",
     "text": [
      " 30%|███       | 1501/5000 [27:12<1:02:34,  1.07s/it]"
     ]
    },
    {
     "name": "stdout",
     "output_type": "stream",
     "text": [
      "Iteration 1500: Avg Reward: 0.04, Avg Loss: 0.0344\n",
      "Fruits eaten: 294, Max fruits eaten: 294\n",
      "Wall hits: 1\n"
     ]
    },
    {
     "name": "stderr",
     "output_type": "stream",
     "text": [
      " 32%|███▏      | 1601/5000 [29:00<1:01:44,  1.09s/it]"
     ]
    },
    {
     "name": "stdout",
     "output_type": "stream",
     "text": [
      "Iteration 1600: Avg Reward: 0.06, Avg Loss: 0.0297\n",
      "Fruits eaten: 225, Max fruits eaten: 294\n",
      "Wall hits: 2\n"
     ]
    },
    {
     "name": "stderr",
     "output_type": "stream",
     "text": [
      " 34%|███▍      | 1701/5000 [30:48<58:35,  1.07s/it]  "
     ]
    },
    {
     "name": "stdout",
     "output_type": "stream",
     "text": [
      "Iteration 1700: Avg Reward: 0.05, Avg Loss: 0.0322\n",
      "Fruits eaten: 38, Max fruits eaten: 294\n",
      "Wall hits: 156\n"
     ]
    },
    {
     "name": "stderr",
     "output_type": "stream",
     "text": [
      " 36%|███▌      | 1801/5000 [32:37<58:33,  1.10s/it]  "
     ]
    },
    {
     "name": "stdout",
     "output_type": "stream",
     "text": [
      "Iteration 1800: Avg Reward: 0.04, Avg Loss: 0.0328\n",
      "Fruits eaten: 59, Max fruits eaten: 294\n",
      "Wall hits: 122\n"
     ]
    },
    {
     "name": "stderr",
     "output_type": "stream",
     "text": [
      " 38%|███▊      | 1901/5000 [34:25<58:05,  1.12s/it]"
     ]
    },
    {
     "name": "stdout",
     "output_type": "stream",
     "text": [
      "Iteration 1900: Avg Reward: 0.05, Avg Loss: 0.0362\n",
      "Fruits eaten: 317, Max fruits eaten: 317\n",
      "Wall hits: 0\n"
     ]
    },
    {
     "name": "stderr",
     "output_type": "stream",
     "text": [
      " 40%|████      | 2001/5000 [36:13<54:21,  1.09s/it]"
     ]
    },
    {
     "name": "stdout",
     "output_type": "stream",
     "text": [
      "Iteration 2000: Avg Reward: 0.05, Avg Loss: 0.0335\n",
      "Fruits eaten: 158, Max fruits eaten: 317\n",
      "Wall hits: 2\n"
     ]
    },
    {
     "name": "stderr",
     "output_type": "stream",
     "text": [
      " 42%|████▏     | 2101/5000 [38:02<52:18,  1.08s/it]"
     ]
    },
    {
     "name": "stdout",
     "output_type": "stream",
     "text": [
      "Iteration 2100: Avg Reward: 0.07, Avg Loss: 0.0291\n",
      "Fruits eaten: 145, Max fruits eaten: 317\n",
      "Wall hits: 2\n"
     ]
    },
    {
     "name": "stderr",
     "output_type": "stream",
     "text": [
      " 44%|████▍     | 2201/5000 [39:50<50:11,  1.08s/it]"
     ]
    },
    {
     "name": "stdout",
     "output_type": "stream",
     "text": [
      "Iteration 2200: Avg Reward: 0.07, Avg Loss: 0.0303\n",
      "Fruits eaten: 92, Max fruits eaten: 317\n",
      "Wall hits: 0\n"
     ]
    },
    {
     "name": "stderr",
     "output_type": "stream",
     "text": [
      " 46%|████▌     | 2301/5000 [41:40<48:57,  1.09s/it]"
     ]
    },
    {
     "name": "stdout",
     "output_type": "stream",
     "text": [
      "Iteration 2300: Avg Reward: 0.06, Avg Loss: 0.0338\n",
      "Fruits eaten: 156, Max fruits eaten: 317\n",
      "Wall hits: 1\n"
     ]
    },
    {
     "name": "stderr",
     "output_type": "stream",
     "text": [
      " 48%|████▊     | 2401/5000 [43:27<48:47,  1.13s/it]"
     ]
    },
    {
     "name": "stdout",
     "output_type": "stream",
     "text": [
      "Iteration 2400: Avg Reward: 0.07, Avg Loss: 0.0371\n",
      "Fruits eaten: 83, Max fruits eaten: 317\n",
      "Wall hits: 120\n"
     ]
    },
    {
     "name": "stderr",
     "output_type": "stream",
     "text": [
      " 50%|█████     | 2501/5000 [45:16<45:02,  1.08s/it]"
     ]
    },
    {
     "name": "stdout",
     "output_type": "stream",
     "text": [
      "Iteration 2500: Avg Reward: 0.08, Avg Loss: 0.0322\n",
      "Fruits eaten: 282, Max fruits eaten: 317\n",
      "Wall hits: 5\n"
     ]
    },
    {
     "name": "stderr",
     "output_type": "stream",
     "text": [
      " 52%|█████▏    | 2601/5000 [47:05<43:02,  1.08s/it]"
     ]
    },
    {
     "name": "stdout",
     "output_type": "stream",
     "text": [
      "Iteration 2600: Avg Reward: 0.06, Avg Loss: 0.0355\n",
      "Fruits eaten: 72, Max fruits eaten: 317\n",
      "Wall hits: 104\n"
     ]
    },
    {
     "name": "stderr",
     "output_type": "stream",
     "text": [
      " 54%|█████▍    | 2701/5000 [48:53<41:26,  1.08s/it]"
     ]
    },
    {
     "name": "stdout",
     "output_type": "stream",
     "text": [
      "Iteration 2700: Avg Reward: 0.08, Avg Loss: 0.0333\n",
      "Fruits eaten: 63, Max fruits eaten: 317\n",
      "Wall hits: 135\n"
     ]
    },
    {
     "name": "stderr",
     "output_type": "stream",
     "text": [
      " 56%|█████▌    | 2801/5000 [50:42<39:43,  1.08s/it]"
     ]
    },
    {
     "name": "stdout",
     "output_type": "stream",
     "text": [
      "Iteration 2800: Avg Reward: 0.06, Avg Loss: 0.0456\n",
      "Fruits eaten: 117, Max fruits eaten: 317\n",
      "Wall hits: 0\n"
     ]
    },
    {
     "name": "stderr",
     "output_type": "stream",
     "text": [
      " 58%|█████▊    | 2901/5000 [52:31<37:49,  1.08s/it]"
     ]
    },
    {
     "name": "stdout",
     "output_type": "stream",
     "text": [
      "Iteration 2900: Avg Reward: 0.08, Avg Loss: 0.0419\n",
      "Fruits eaten: 279, Max fruits eaten: 317\n",
      "Wall hits: 5\n"
     ]
    },
    {
     "name": "stderr",
     "output_type": "stream",
     "text": [
      " 60%|██████    | 3001/5000 [54:19<36:06,  1.08s/it]"
     ]
    },
    {
     "name": "stdout",
     "output_type": "stream",
     "text": [
      "Iteration 3000: Avg Reward: 0.09, Avg Loss: 0.0451\n",
      "Fruits eaten: 268, Max fruits eaten: 317\n",
      "Wall hits: 5\n"
     ]
    },
    {
     "name": "stderr",
     "output_type": "stream",
     "text": [
      " 62%|██████▏   | 3101/5000 [56:08<33:58,  1.07s/it]"
     ]
    },
    {
     "name": "stdout",
     "output_type": "stream",
     "text": [
      "Iteration 3100: Avg Reward: 0.08, Avg Loss: 0.0505\n",
      "Fruits eaten: 148, Max fruits eaten: 317\n",
      "Wall hits: 1\n"
     ]
    },
    {
     "name": "stderr",
     "output_type": "stream",
     "text": [
      " 64%|██████▍   | 3201/5000 [57:56<32:09,  1.07s/it]"
     ]
    },
    {
     "name": "stdout",
     "output_type": "stream",
     "text": [
      "Iteration 3200: Avg Reward: 0.09, Avg Loss: 0.0445\n",
      "Fruits eaten: 32, Max fruits eaten: 317\n",
      "Wall hits: 149\n"
     ]
    },
    {
     "name": "stderr",
     "output_type": "stream",
     "text": [
      " 66%|██████▌   | 3301/5000 [59:45<30:29,  1.08s/it]"
     ]
    },
    {
     "name": "stdout",
     "output_type": "stream",
     "text": [
      "Iteration 3300: Avg Reward: 0.10, Avg Loss: 0.0450\n",
      "Fruits eaten: 304, Max fruits eaten: 317\n",
      "Wall hits: 0\n"
     ]
    },
    {
     "name": "stderr",
     "output_type": "stream",
     "text": [
      " 68%|██████▊   | 3401/5000 [1:01:33<28:45,  1.08s/it]"
     ]
    },
    {
     "name": "stdout",
     "output_type": "stream",
     "text": [
      "Iteration 3400: Avg Reward: 0.10, Avg Loss: 0.0522\n",
      "Fruits eaten: 254, Max fruits eaten: 317\n",
      "Wall hits: 3\n"
     ]
    },
    {
     "name": "stderr",
     "output_type": "stream",
     "text": [
      " 70%|███████   | 3501/5000 [1:03:19<26:42,  1.07s/it]"
     ]
    },
    {
     "name": "stdout",
     "output_type": "stream",
     "text": [
      "Iteration 3500: Avg Reward: 0.10, Avg Loss: 0.0475\n",
      "Fruits eaten: 248, Max fruits eaten: 317\n",
      "Wall hits: 3\n"
     ]
    },
    {
     "name": "stderr",
     "output_type": "stream",
     "text": [
      " 72%|███████▏  | 3601/5000 [1:05:06<24:32,  1.05s/it]"
     ]
    },
    {
     "name": "stdout",
     "output_type": "stream",
     "text": [
      "Iteration 3600: Avg Reward: 0.10, Avg Loss: 0.0508\n",
      "Fruits eaten: 78, Max fruits eaten: 317\n",
      "Wall hits: 126\n"
     ]
    },
    {
     "name": "stderr",
     "output_type": "stream",
     "text": [
      " 74%|███████▍  | 3701/5000 [1:06:54<23:00,  1.06s/it]"
     ]
    },
    {
     "name": "stdout",
     "output_type": "stream",
     "text": [
      "Iteration 3700: Avg Reward: 0.10, Avg Loss: 0.0500\n",
      "Fruits eaten: 257, Max fruits eaten: 317\n",
      "Wall hits: 1\n"
     ]
    },
    {
     "name": "stderr",
     "output_type": "stream",
     "text": [
      " 76%|███████▌  | 3801/5000 [1:08:41<21:38,  1.08s/it]"
     ]
    },
    {
     "name": "stdout",
     "output_type": "stream",
     "text": [
      "Iteration 3800: Avg Reward: 0.11, Avg Loss: 0.0464\n",
      "Fruits eaten: 264, Max fruits eaten: 317\n",
      "Wall hits: 4\n"
     ]
    },
    {
     "name": "stderr",
     "output_type": "stream",
     "text": [
      " 78%|███████▊  | 3901/5000 [1:10:29<20:27,  1.12s/it]"
     ]
    },
    {
     "name": "stdout",
     "output_type": "stream",
     "text": [
      "Iteration 3900: Avg Reward: 0.11, Avg Loss: 0.0494\n",
      "Fruits eaten: 275, Max fruits eaten: 317\n",
      "Wall hits: 5\n"
     ]
    },
    {
     "name": "stderr",
     "output_type": "stream",
     "text": [
      " 80%|████████  | 4001/5000 [1:12:16<17:42,  1.06s/it]"
     ]
    },
    {
     "name": "stdout",
     "output_type": "stream",
     "text": [
      "Iteration 4000: Avg Reward: 0.09, Avg Loss: 0.0580\n",
      "Fruits eaten: 270, Max fruits eaten: 317\n",
      "Wall hits: 0\n"
     ]
    },
    {
     "name": "stderr",
     "output_type": "stream",
     "text": [
      " 82%|████████▏ | 4101/5000 [1:14:03<16:01,  1.07s/it]"
     ]
    },
    {
     "name": "stdout",
     "output_type": "stream",
     "text": [
      "Iteration 4100: Avg Reward: 0.12, Avg Loss: 0.0416\n",
      "Fruits eaten: 271, Max fruits eaten: 317\n",
      "Wall hits: 0\n"
     ]
    },
    {
     "name": "stderr",
     "output_type": "stream",
     "text": [
      " 84%|████████▍ | 4201/5000 [1:15:50<14:16,  1.07s/it]"
     ]
    },
    {
     "name": "stdout",
     "output_type": "stream",
     "text": [
      "Iteration 4200: Avg Reward: 0.10, Avg Loss: 0.0604\n",
      "Fruits eaten: 279, Max fruits eaten: 317\n",
      "Wall hits: 0\n"
     ]
    },
    {
     "name": "stderr",
     "output_type": "stream",
     "text": [
      " 86%|████████▌ | 4301/5000 [1:17:38<12:33,  1.08s/it]"
     ]
    },
    {
     "name": "stdout",
     "output_type": "stream",
     "text": [
      "Iteration 4300: Avg Reward: 0.11, Avg Loss: 0.0530\n",
      "Fruits eaten: 275, Max fruits eaten: 317\n",
      "Wall hits: 0\n"
     ]
    },
    {
     "name": "stderr",
     "output_type": "stream",
     "text": [
      " 88%|████████▊ | 4401/5000 [1:19:25<11:10,  1.12s/it]"
     ]
    },
    {
     "name": "stdout",
     "output_type": "stream",
     "text": [
      "Iteration 4400: Avg Reward: 0.11, Avg Loss: 0.0437\n",
      "Fruits eaten: 271, Max fruits eaten: 317\n",
      "Wall hits: 1\n"
     ]
    },
    {
     "name": "stderr",
     "output_type": "stream",
     "text": [
      " 90%|█████████ | 4501/5000 [1:21:13<08:50,  1.06s/it]"
     ]
    },
    {
     "name": "stdout",
     "output_type": "stream",
     "text": [
      "Iteration 4500: Avg Reward: 0.11, Avg Loss: 0.0468\n",
      "Fruits eaten: 68, Max fruits eaten: 317\n",
      "Wall hits: 142\n"
     ]
    },
    {
     "name": "stderr",
     "output_type": "stream",
     "text": [
      " 92%|█████████▏| 4601/5000 [1:23:00<07:06,  1.07s/it]"
     ]
    },
    {
     "name": "stdout",
     "output_type": "stream",
     "text": [
      "Iteration 4600: Avg Reward: 0.11, Avg Loss: 0.0454\n",
      "Fruits eaten: 251, Max fruits eaten: 317\n",
      "Wall hits: 1\n"
     ]
    },
    {
     "name": "stderr",
     "output_type": "stream",
     "text": [
      " 94%|█████████▍| 4701/5000 [1:24:47<05:17,  1.06s/it]"
     ]
    },
    {
     "name": "stdout",
     "output_type": "stream",
     "text": [
      "Iteration 4700: Avg Reward: 0.11, Avg Loss: 0.0506\n",
      "Fruits eaten: 271, Max fruits eaten: 317\n",
      "Wall hits: 2\n"
     ]
    },
    {
     "name": "stderr",
     "output_type": "stream",
     "text": [
      " 96%|█████████▌| 4801/5000 [1:26:40<03:34,  1.08s/it]"
     ]
    },
    {
     "name": "stdout",
     "output_type": "stream",
     "text": [
      "Iteration 4800: Avg Reward: 0.11, Avg Loss: 0.0495\n",
      "Fruits eaten: 281, Max fruits eaten: 317\n",
      "Wall hits: 0\n"
     ]
    },
    {
     "name": "stderr",
     "output_type": "stream",
     "text": [
      " 98%|█████████▊| 4901/5000 [1:28:25<01:49,  1.10s/it]"
     ]
    },
    {
     "name": "stdout",
     "output_type": "stream",
     "text": [
      "Iteration 4900: Avg Reward: 0.12, Avg Loss: 0.0405\n",
      "Fruits eaten: 268, Max fruits eaten: 317\n",
      "Wall hits: 2\n"
     ]
    },
    {
     "name": "stderr",
     "output_type": "stream",
     "text": [
      "100%|██████████| 5000/5000 [1:30:09<00:00,  1.08s/it]"
     ]
    },
    {
     "name": "stdout",
     "output_type": "stream",
     "text": [
      "Model weights saved to weights/snake_dqn_weights_po.h5\n",
      "Weights saved to weights/snake_dqn_weights_po.h5\n"
     ]
    },
    {
     "name": "stderr",
     "output_type": "stream",
     "text": [
      "\n"
     ]
    }
   ],
   "source": [
    "env = get_env(partially_observable=True)\n",
    "agent = DQNAgent(state_shape=env.to_state().shape[1:], gamma=GAMMA, n_actions=4, epsilon_start=1., epsilon_end=0.05, epsilon_decay=0.9995, learning_rate=1e-4, target_update_freq=100)\n",
    "\n",
    "rewards_history_dqn_po, wall_hits_dqn_po, fruits_eaten_dqn_po, loss_history_dqn_po = training(ITERATIONS, env, agent, save_weights=True, save_path=\"weights/\", file_name=\"snake_dqn_weights_po.h5\")"
   ]
  },
  {
   "cell_type": "code",
   "execution_count": null,
   "metadata": {},
   "outputs": [
    {
     "data": {
      "image/png": "[encoded data removed]",
      "text/plain": [
       "<Figure size 1200x400 with 1 Axes>"
      ]
     },
     "metadata": {},
     "output_type": "display_data"
    }
   ],
   "source": [
    "window = 50\n",
    "\n",
    "def moving_average(data, window):\n",
    "    return np.convolve(data, np.ones(window)/window, mode='valid')\n",
    "\n",
    "plt.figure(figsize=(12, 4))\n",
    "\n",
    "plt.plot(moving_average(rewards_history_loaded, window), label='DQN Agent (Fully Observable) - Trained on Fully Observable')\n",
    "plt.plot(moving_average(rewards_history_loaded_po, window), label='DQN Agent (Partially Observable) - Trained on Fully Observable')\n",
    "plt.plot(moving_average(rewards_history_dqn_po, window), label='DQN Agent (Partially Observable) - Trained on Partially Observable')\n",
    "plt.title('Average Reward per Episode - DQN Agent')\n",
    "plt.xlabel('Iteration')\n",
    "plt.ylabel('Reward')\n",
    "plt.legend()\n",
    "plt.savefig(\"plots/rewards_dqn.png\", bbox_inches='tight')\n",
    "plt.show()\n",
    "plt.close()"
   ]
  },
  {
   "cell_type": "markdown",
   "metadata": {},
   "source": [
    "## A2C Agent"
   ]
  },
  {
   "cell_type": "markdown",
   "metadata": {},
   "source": [
    "### Training"
   ]
  },
  {
   "cell_type": "code",
   "execution_count": 9,
   "metadata": {},
   "outputs": [
    {
     "name": "stderr",
     "output_type": "stream",
     "text": [
      "  0%|          | 4/5000 [00:00<08:46,  9.49it/s]"
     ]
    },
    {
     "name": "stdout",
     "output_type": "stream",
     "text": [
      "Iteration 0: Avg Reward: -0.00, Avg Loss: 0.0154\n",
      "Fruits eaten: 31, Max fruits eaten: 31\n",
      "Wall hits: 204\n"
     ]
    },
    {
     "name": "stderr",
     "output_type": "stream",
     "text": [
      "  2%|▏         | 105/5000 [00:03<02:41, 30.24it/s]"
     ]
    },
    {
     "name": "stdout",
     "output_type": "stream",
     "text": [
      "Iteration 100: Avg Reward: -0.01, Avg Loss: 0.0072\n",
      "Fruits eaten: 19, Max fruits eaten: 31\n",
      "Wall hits: 206\n"
     ]
    },
    {
     "name": "stderr",
     "output_type": "stream",
     "text": [
      "  4%|▍         | 205/5000 [00:07<02:37, 30.37it/s]"
     ]
    },
    {
     "name": "stdout",
     "output_type": "stream",
     "text": [
      "Iteration 200: Avg Reward: -0.01, Avg Loss: 0.0014\n",
      "Fruits eaten: 19, Max fruits eaten: 31\n",
      "Wall hits: 174\n"
     ]
    },
    {
     "name": "stderr",
     "output_type": "stream",
     "text": [
      "  6%|▌         | 304/5000 [00:10<02:37, 29.86it/s]"
     ]
    },
    {
     "name": "stdout",
     "output_type": "stream",
     "text": [
      "Iteration 300: Avg Reward: -0.01, Avg Loss: -0.0046\n",
      "Fruits eaten: 18, Max fruits eaten: 31\n",
      "Wall hits: 169\n"
     ]
    },
    {
     "name": "stderr",
     "output_type": "stream",
     "text": [
      "  8%|▊         | 404/5000 [00:13<02:51, 26.82it/s]"
     ]
    },
    {
     "name": "stdout",
     "output_type": "stream",
     "text": [
      "Iteration 400: Avg Reward: -0.01, Avg Loss: -0.0127\n",
      "Fruits eaten: 20, Max fruits eaten: 31\n",
      "Wall hits: 159\n"
     ]
    },
    {
     "name": "stderr",
     "output_type": "stream",
     "text": [
      " 10%|█         | 504/5000 [00:17<02:29, 30.02it/s]"
     ]
    },
    {
     "name": "stdout",
     "output_type": "stream",
     "text": [
      "Iteration 500: Avg Reward: -0.01, Avg Loss: -0.0207\n",
      "Fruits eaten: 21, Max fruits eaten: 31\n",
      "Wall hits: 143\n"
     ]
    },
    {
     "name": "stderr",
     "output_type": "stream",
     "text": [
      " 12%|█▏        | 606/5000 [00:21<02:26, 30.03it/s]"
     ]
    },
    {
     "name": "stdout",
     "output_type": "stream",
     "text": [
      "Iteration 600: Avg Reward: -0.01, Avg Loss: -0.0291\n",
      "Fruits eaten: 22, Max fruits eaten: 31\n",
      "Wall hits: 122\n"
     ]
    },
    {
     "name": "stderr",
     "output_type": "stream",
     "text": [
      " 14%|█▍        | 704/5000 [00:24<02:40, 26.71it/s]"
     ]
    },
    {
     "name": "stdout",
     "output_type": "stream",
     "text": [
      "Iteration 700: Avg Reward: -0.00, Avg Loss: -0.0399\n",
      "Fruits eaten: 25, Max fruits eaten: 31\n",
      "Wall hits: 83\n"
     ]
    },
    {
     "name": "stderr",
     "output_type": "stream",
     "text": [
      " 16%|█▌        | 805/5000 [00:27<02:18, 30.34it/s]"
     ]
    },
    {
     "name": "stdout",
     "output_type": "stream",
     "text": [
      "Iteration 800: Avg Reward: -0.00, Avg Loss: -0.0457\n",
      "Fruits eaten: 29, Max fruits eaten: 31\n",
      "Wall hits: 35\n"
     ]
    },
    {
     "name": "stderr",
     "output_type": "stream",
     "text": [
      " 18%|█▊        | 904/5000 [00:31<02:17, 29.76it/s]"
     ]
    },
    {
     "name": "stdout",
     "output_type": "stream",
     "text": [
      "Iteration 900: Avg Reward: 0.00, Avg Loss: -0.0458\n",
      "Fruits eaten: 24, Max fruits eaten: 31\n",
      "Wall hits: 41\n"
     ]
    },
    {
     "name": "stderr",
     "output_type": "stream",
     "text": [
      " 20%|██        | 1007/5000 [00:34<02:21, 28.28it/s]"
     ]
    },
    {
     "name": "stdout",
     "output_type": "stream",
     "text": [
      "Iteration 1000: Avg Reward: 0.00, Avg Loss: -0.0502\n",
      "Fruits eaten: 27, Max fruits eaten: 31\n",
      "Wall hits: 18\n"
     ]
    },
    {
     "name": "stderr",
     "output_type": "stream",
     "text": [
      " 22%|██▏       | 1105/5000 [00:38<02:07, 30.44it/s]"
     ]
    },
    {
     "name": "stdout",
     "output_type": "stream",
     "text": [
      "Iteration 1100: Avg Reward: 0.01, Avg Loss: -0.0401\n",
      "Fruits eaten: 37, Max fruits eaten: 37\n",
      "Wall hits: 14\n"
     ]
    },
    {
     "name": "stderr",
     "output_type": "stream",
     "text": [
      " 24%|██▍       | 1203/5000 [00:41<02:28, 25.58it/s]"
     ]
    },
    {
     "name": "stdout",
     "output_type": "stream",
     "text": [
      "Iteration 1200: Avg Reward: 0.01, Avg Loss: -0.0580\n",
      "Fruits eaten: 30, Max fruits eaten: 37\n",
      "Wall hits: 22\n"
     ]
    },
    {
     "name": "stderr",
     "output_type": "stream",
     "text": [
      " 26%|██▌       | 1305/5000 [00:45<02:09, 28.52it/s]"
     ]
    },
    {
     "name": "stdout",
     "output_type": "stream",
     "text": [
      "Iteration 1300: Avg Reward: 0.01, Avg Loss: -0.0538\n",
      "Fruits eaten: 32, Max fruits eaten: 37\n",
      "Wall hits: 30\n"
     ]
    },
    {
     "name": "stderr",
     "output_type": "stream",
     "text": [
      " 28%|██▊       | 1403/5000 [00:49<02:07, 28.26it/s]"
     ]
    },
    {
     "name": "stdout",
     "output_type": "stream",
     "text": [
      "Iteration 1400: Avg Reward: 0.01, Avg Loss: -0.0336\n",
      "Fruits eaten: 33, Max fruits eaten: 37\n",
      "Wall hits: 22\n"
     ]
    },
    {
     "name": "stderr",
     "output_type": "stream",
     "text": [
      " 30%|███       | 1506/5000 [00:53<02:03, 28.36it/s]"
     ]
    },
    {
     "name": "stdout",
     "output_type": "stream",
     "text": [
      "Iteration 1500: Avg Reward: 0.01, Avg Loss: -0.0355\n",
      "Fruits eaten: 36, Max fruits eaten: 37\n",
      "Wall hits: 13\n"
     ]
    },
    {
     "name": "stderr",
     "output_type": "stream",
     "text": [
      " 32%|███▏      | 1606/5000 [00:56<02:16, 24.89it/s]"
     ]
    },
    {
     "name": "stdout",
     "output_type": "stream",
     "text": [
      "Iteration 1600: Avg Reward: 0.01, Avg Loss: -0.0411\n",
      "Fruits eaten: 39, Max fruits eaten: 39\n",
      "Wall hits: 9\n"
     ]
    },
    {
     "name": "stderr",
     "output_type": "stream",
     "text": [
      " 34%|███▍      | 1705/5000 [01:00<02:17, 23.97it/s]"
     ]
    },
    {
     "name": "stdout",
     "output_type": "stream",
     "text": [
      "Iteration 1700: Avg Reward: 0.02, Avg Loss: -0.0359\n",
      "Fruits eaten: 55, Max fruits eaten: 55\n",
      "Wall hits: 9\n"
     ]
    },
    {
     "name": "stderr",
     "output_type": "stream",
     "text": [
      " 36%|███▌      | 1806/5000 [01:04<01:53, 28.02it/s]"
     ]
    },
    {
     "name": "stdout",
     "output_type": "stream",
     "text": [
      "Iteration 1800: Avg Reward: 0.02, Avg Loss: -0.0287\n",
      "Fruits eaten: 38, Max fruits eaten: 55\n",
      "Wall hits: 4\n"
     ]
    },
    {
     "name": "stderr",
     "output_type": "stream",
     "text": [
      " 38%|███▊      | 1906/5000 [01:08<01:56, 26.62it/s]"
     ]
    },
    {
     "name": "stdout",
     "output_type": "stream",
     "text": [
      "Iteration 1900: Avg Reward: 0.02, Avg Loss: -0.0338\n",
      "Fruits eaten: 41, Max fruits eaten: 55\n",
      "Wall hits: 7\n"
     ]
    },
    {
     "name": "stderr",
     "output_type": "stream",
     "text": [
      " 40%|████      | 2004/5000 [01:12<02:33, 19.58it/s]"
     ]
    },
    {
     "name": "stdout",
     "output_type": "stream",
     "text": [
      "Iteration 2000: Avg Reward: 0.02, Avg Loss: -0.0227\n",
      "Fruits eaten: 62, Max fruits eaten: 62\n",
      "Wall hits: 5\n"
     ]
    },
    {
     "name": "stderr",
     "output_type": "stream",
     "text": [
      " 42%|████▏     | 2103/5000 [01:16<02:17, 21.13it/s]"
     ]
    },
    {
     "name": "stdout",
     "output_type": "stream",
     "text": [
      "Iteration 2100: Avg Reward: 0.02, Avg Loss: -0.0261\n",
      "Fruits eaten: 54, Max fruits eaten: 62\n",
      "Wall hits: 2\n"
     ]
    },
    {
     "name": "stderr",
     "output_type": "stream",
     "text": [
      " 44%|████▍     | 2204/5000 [01:21<01:44, 26.65it/s]"
     ]
    },
    {
     "name": "stdout",
     "output_type": "stream",
     "text": [
      "Iteration 2200: Avg Reward: 0.03, Avg Loss: -0.0200\n",
      "Fruits eaten: 49, Max fruits eaten: 62\n",
      "Wall hits: 1\n"
     ]
    },
    {
     "name": "stderr",
     "output_type": "stream",
     "text": [
      " 46%|████▌     | 2306/5000 [01:25<01:44, 25.78it/s]"
     ]
    },
    {
     "name": "stdout",
     "output_type": "stream",
     "text": [
      "Iteration 2300: Avg Reward: 0.03, Avg Loss: -0.0198\n",
      "Fruits eaten: 65, Max fruits eaten: 65\n",
      "Wall hits: 2\n"
     ]
    },
    {
     "name": "stderr",
     "output_type": "stream",
     "text": [
      " 48%|████▊     | 2405/5000 [01:30<01:58, 21.98it/s]"
     ]
    },
    {
     "name": "stdout",
     "output_type": "stream",
     "text": [
      "Iteration 2400: Avg Reward: 0.03, Avg Loss: -0.0166\n",
      "Fruits eaten: 53, Max fruits eaten: 65\n",
      "Wall hits: 1\n"
     ]
    },
    {
     "name": "stderr",
     "output_type": "stream",
     "text": [
      " 50%|█████     | 2504/5000 [01:34<01:49, 22.69it/s]"
     ]
    },
    {
     "name": "stdout",
     "output_type": "stream",
     "text": [
      "Iteration 2500: Avg Reward: 0.03, Avg Loss: -0.0128\n",
      "Fruits eaten: 84, Max fruits eaten: 84\n",
      "Wall hits: 2\n"
     ]
    },
    {
     "name": "stderr",
     "output_type": "stream",
     "text": [
      " 52%|█████▏    | 2606/5000 [01:38<01:35, 25.13it/s]"
     ]
    },
    {
     "name": "stdout",
     "output_type": "stream",
     "text": [
      "Iteration 2600: Avg Reward: 0.03, Avg Loss: -0.0114\n",
      "Fruits eaten: 71, Max fruits eaten: 84\n",
      "Wall hits: 3\n"
     ]
    },
    {
     "name": "stderr",
     "output_type": "stream",
     "text": [
      " 54%|█████▍    | 2705/5000 [01:42<01:44, 22.06it/s]"
     ]
    },
    {
     "name": "stdout",
     "output_type": "stream",
     "text": [
      "Iteration 2700: Avg Reward: 0.03, Avg Loss: -0.0132\n",
      "Fruits eaten: 67, Max fruits eaten: 84\n",
      "Wall hits: 2\n"
     ]
    },
    {
     "name": "stderr",
     "output_type": "stream",
     "text": [
      " 56%|█████▌    | 2804/5000 [01:46<01:36, 22.75it/s]"
     ]
    },
    {
     "name": "stdout",
     "output_type": "stream",
     "text": [
      "Iteration 2800: Avg Reward: 0.04, Avg Loss: -0.0112\n",
      "Fruits eaten: 72, Max fruits eaten: 84\n",
      "Wall hits: 0\n"
     ]
    },
    {
     "name": "stderr",
     "output_type": "stream",
     "text": [
      " 58%|█████▊    | 2903/5000 [01:51<01:39, 21.00it/s]"
     ]
    },
    {
     "name": "stdout",
     "output_type": "stream",
     "text": [
      "Iteration 2900: Avg Reward: 0.04, Avg Loss: -0.0064\n",
      "Fruits eaten: 84, Max fruits eaten: 84\n",
      "Wall hits: 0\n"
     ]
    },
    {
     "name": "stderr",
     "output_type": "stream",
     "text": [
      " 60%|██████    | 3005/5000 [01:55<01:17, 25.78it/s]"
     ]
    },
    {
     "name": "stdout",
     "output_type": "stream",
     "text": [
      "Iteration 3000: Avg Reward: 0.04, Avg Loss: -0.0012\n",
      "Fruits eaten: 80, Max fruits eaten: 84\n",
      "Wall hits: 1\n"
     ]
    },
    {
     "name": "stderr",
     "output_type": "stream",
     "text": [
      " 62%|██████▏   | 3104/5000 [01:59<01:17, 24.61it/s]"
     ]
    },
    {
     "name": "stdout",
     "output_type": "stream",
     "text": [
      "Iteration 3100: Avg Reward: 0.04, Avg Loss: -0.0047\n",
      "Fruits eaten: 95, Max fruits eaten: 95\n",
      "Wall hits: 1\n"
     ]
    },
    {
     "name": "stderr",
     "output_type": "stream",
     "text": [
      " 64%|██████▍   | 3203/5000 [02:03<01:26, 20.84it/s]"
     ]
    },
    {
     "name": "stdout",
     "output_type": "stream",
     "text": [
      "Iteration 3200: Avg Reward: 0.04, Avg Loss: 0.0051\n",
      "Fruits eaten: 88, Max fruits eaten: 95\n",
      "Wall hits: 0\n"
     ]
    },
    {
     "name": "stderr",
     "output_type": "stream",
     "text": [
      " 66%|██████▌   | 3305/5000 [02:08<01:18, 21.48it/s]"
     ]
    },
    {
     "name": "stdout",
     "output_type": "stream",
     "text": [
      "Iteration 3300: Avg Reward: 0.04, Avg Loss: -0.0013\n",
      "Fruits eaten: 96, Max fruits eaten: 96\n",
      "Wall hits: 0\n"
     ]
    },
    {
     "name": "stderr",
     "output_type": "stream",
     "text": [
      " 68%|██████▊   | 3404/5000 [02:12<01:10, 22.59it/s]"
     ]
    },
    {
     "name": "stdout",
     "output_type": "stream",
     "text": [
      "Iteration 3400: Avg Reward: 0.04, Avg Loss: 0.0072\n",
      "Fruits eaten: 87, Max fruits eaten: 96\n",
      "Wall hits: 0\n"
     ]
    },
    {
     "name": "stderr",
     "output_type": "stream",
     "text": [
      " 70%|███████   | 3503/5000 [02:16<01:07, 22.09it/s]"
     ]
    },
    {
     "name": "stdout",
     "output_type": "stream",
     "text": [
      "Iteration 3500: Avg Reward: 0.04, Avg Loss: 0.0050\n",
      "Fruits eaten: 86, Max fruits eaten: 96\n",
      "Wall hits: 0\n"
     ]
    },
    {
     "name": "stderr",
     "output_type": "stream",
     "text": [
      " 72%|███████▏  | 3605/5000 [02:21<01:00, 22.91it/s]"
     ]
    },
    {
     "name": "stdout",
     "output_type": "stream",
     "text": [
      "Iteration 3600: Avg Reward: 0.04, Avg Loss: 0.0067\n",
      "Fruits eaten: 96, Max fruits eaten: 96\n",
      "Wall hits: 1\n"
     ]
    },
    {
     "name": "stderr",
     "output_type": "stream",
     "text": [
      " 74%|███████▍  | 3705/5000 [02:25<00:58, 22.07it/s]"
     ]
    },
    {
     "name": "stdout",
     "output_type": "stream",
     "text": [
      "Iteration 3700: Avg Reward: 0.04, Avg Loss: 0.0114\n",
      "Fruits eaten: 92, Max fruits eaten: 96\n",
      "Wall hits: 0\n"
     ]
    },
    {
     "name": "stderr",
     "output_type": "stream",
     "text": [
      " 76%|███████▌  | 3804/5000 [02:30<00:52, 22.88it/s]"
     ]
    },
    {
     "name": "stdout",
     "output_type": "stream",
     "text": [
      "Iteration 3800: Avg Reward: 0.04, Avg Loss: 0.0131\n",
      "Fruits eaten: 79, Max fruits eaten: 96\n",
      "Wall hits: 0\n"
     ]
    },
    {
     "name": "stderr",
     "output_type": "stream",
     "text": [
      " 78%|███████▊  | 3903/5000 [02:34<00:47, 22.96it/s]"
     ]
    },
    {
     "name": "stdout",
     "output_type": "stream",
     "text": [
      "Iteration 3900: Avg Reward: 0.04, Avg Loss: 0.0068\n",
      "Fruits eaten: 82, Max fruits eaten: 96\n",
      "Wall hits: 2\n"
     ]
    },
    {
     "name": "stderr",
     "output_type": "stream",
     "text": [
      " 80%|████████  | 4005/5000 [02:38<00:39, 25.18it/s]"
     ]
    },
    {
     "name": "stdout",
     "output_type": "stream",
     "text": [
      "Iteration 4000: Avg Reward: 0.04, Avg Loss: 0.0115\n",
      "Fruits eaten: 85, Max fruits eaten: 96\n",
      "Wall hits: 2\n"
     ]
    },
    {
     "name": "stderr",
     "output_type": "stream",
     "text": [
      " 82%|████████▏ | 4104/5000 [02:42<00:39, 22.49it/s]"
     ]
    },
    {
     "name": "stdout",
     "output_type": "stream",
     "text": [
      "Iteration 4100: Avg Reward: 0.04, Avg Loss: 0.0071\n",
      "Fruits eaten: 103, Max fruits eaten: 103\n",
      "Wall hits: 1\n"
     ]
    },
    {
     "name": "stderr",
     "output_type": "stream",
     "text": [
      " 84%|████████▍ | 4203/5000 [02:47<00:35, 22.64it/s]"
     ]
    },
    {
     "name": "stdout",
     "output_type": "stream",
     "text": [
      "Iteration 4200: Avg Reward: 0.05, Avg Loss: 0.0163\n",
      "Fruits eaten: 77, Max fruits eaten: 103\n",
      "Wall hits: 0\n"
     ]
    },
    {
     "name": "stderr",
     "output_type": "stream",
     "text": [
      " 86%|████████▌ | 4305/5000 [02:51<00:31, 21.73it/s]"
     ]
    },
    {
     "name": "stdout",
     "output_type": "stream",
     "text": [
      "Iteration 4300: Avg Reward: 0.04, Avg Loss: 0.0169\n",
      "Fruits eaten: 100, Max fruits eaten: 103\n",
      "Wall hits: 0\n"
     ]
    },
    {
     "name": "stderr",
     "output_type": "stream",
     "text": [
      " 88%|████████▊ | 4404/5000 [02:56<00:25, 23.78it/s]"
     ]
    },
    {
     "name": "stdout",
     "output_type": "stream",
     "text": [
      "Iteration 4400: Avg Reward: 0.04, Avg Loss: 0.0118\n",
      "Fruits eaten: 99, Max fruits eaten: 103\n",
      "Wall hits: 0\n"
     ]
    },
    {
     "name": "stderr",
     "output_type": "stream",
     "text": [
      " 90%|█████████ | 4503/5000 [03:00<00:22, 22.45it/s]"
     ]
    },
    {
     "name": "stdout",
     "output_type": "stream",
     "text": [
      "Iteration 4500: Avg Reward: 0.05, Avg Loss: 0.0163\n",
      "Fruits eaten: 101, Max fruits eaten: 103\n",
      "Wall hits: 1\n"
     ]
    },
    {
     "name": "stderr",
     "output_type": "stream",
     "text": [
      " 92%|█████████▏| 4605/5000 [03:04<00:17, 22.70it/s]"
     ]
    },
    {
     "name": "stdout",
     "output_type": "stream",
     "text": [
      "Iteration 4600: Avg Reward: 0.04, Avg Loss: 0.0166\n",
      "Fruits eaten: 74, Max fruits eaten: 103\n",
      "Wall hits: 1\n"
     ]
    },
    {
     "name": "stderr",
     "output_type": "stream",
     "text": [
      " 94%|█████████▍| 4704/5000 [03:09<00:13, 22.73it/s]"
     ]
    },
    {
     "name": "stdout",
     "output_type": "stream",
     "text": [
      "Iteration 4700: Avg Reward: 0.04, Avg Loss: 0.0103\n",
      "Fruits eaten: 77, Max fruits eaten: 103\n",
      "Wall hits: 0\n"
     ]
    },
    {
     "name": "stderr",
     "output_type": "stream",
     "text": [
      " 96%|█████████▌| 4803/5000 [03:13<00:09, 21.79it/s]"
     ]
    },
    {
     "name": "stdout",
     "output_type": "stream",
     "text": [
      "Iteration 4800: Avg Reward: 0.05, Avg Loss: 0.0177\n",
      "Fruits eaten: 88, Max fruits eaten: 103\n",
      "Wall hits: 0\n"
     ]
    },
    {
     "name": "stderr",
     "output_type": "stream",
     "text": [
      " 98%|█████████▊| 4905/5000 [03:18<00:04, 22.44it/s]"
     ]
    },
    {
     "name": "stdout",
     "output_type": "stream",
     "text": [
      "Iteration 4900: Avg Reward: 0.05, Avg Loss: 0.0264\n",
      "Fruits eaten: 96, Max fruits eaten: 103\n",
      "Wall hits: 1\n"
     ]
    },
    {
     "name": "stderr",
     "output_type": "stream",
     "text": [
      "100%|██████████| 5000/5000 [03:22<00:00, 24.64it/s]"
     ]
    },
    {
     "name": "stdout",
     "output_type": "stream",
     "text": [
      "Model weights saved to weights/snake_a2c_weights.h5\n",
      "Weights saved to weights/snake_a2c_weights.h5\n"
     ]
    },
    {
     "name": "stderr",
     "output_type": "stream",
     "text": [
      "\n"
     ]
    }
   ],
   "source": [
    "from a2c import A2CAgent\n",
    "\n",
    "rewards_history_ac = []\n",
    "wall_hits_ac = []\n",
    "fruits_eaten_ac = []\n",
    "loss_history_ac = []\n",
    "\n",
    "env_ = get_env()\n",
    "\n",
    "agent = A2CAgent(state_shape=env_.to_state().shape[1:], n_actions=4, gamma=GAMMA, learning_rate=5e-5, entropy_beta=0.0001)\n",
    "\n",
    "rewards_history_ac, wall_hits_ac, fruits_eaten_ac, loss_history_ac = training(ITERATIONS, env_, agent, save_weights=True, save_path=\"weights/\", file_name=\"snake_a2c_weights.h5\")"
   ]
  },
  {
   "cell_type": "markdown",
   "metadata": {},
   "source": [
    "### Load the weights - A2C Agent"
   ]
  },
  {
   "cell_type": "code",
   "execution_count": 10,
   "metadata": {},
   "outputs": [
    {
     "name": "stdout",
     "output_type": "stream",
     "text": [
      "Model weights loaded from weights/snake_a2c_weights.h5\n"
     ]
    },
    {
     "name": "stderr",
     "output_type": "stream",
     "text": [
      "100%|██████████| 5000/5000 [01:39<00:00, 50.06it/s]"
     ]
    },
    {
     "name": "stdout",
     "output_type": "stream",
     "text": [
      "Avg Reward: 0.02\n",
      "Avg Wall Hits: 0.35\n",
      "Avg Fruits Eaten: 44.53\n"
     ]
    },
    {
     "name": "stderr",
     "output_type": "stream",
     "text": [
      "\n"
     ]
    }
   ],
   "source": [
    "env = get_env()\n",
    "agent = A2CAgent(state_shape=env.to_state().shape[1:], n_actions=4, gamma=GAMMA, learning_rate=5e-5, entropy_beta=0.0001)\n",
    "agent.load_weights(\"weights/snake_a2c_weights.h5\")\n",
    "\n",
    "rewards_history_loaded_ac = []\n",
    "wall_hits_loaded_ac = []\n",
    "fruits_eaten_loaded_ac = []\n",
    "loss_history_loaded_ac = []\n",
    "\n",
    "for iteration in trange(ITERATIONS):\n",
    "    state = tf.constant(env.to_state())\n",
    "    actions = agent.select_action(state)\n",
    "    rewards = env.move(actions)\n",
    "    wall_hits_count = np.sum(rewards == env.HIT_WALL_REWARD)\n",
    "    wall_hits_loaded_ac.append(wall_hits_count)\n",
    "    fruits_eaten_count = np.sum(rewards == env.FRUIT_REWARD)\n",
    "    fruits_eaten_loaded_ac.append(fruits_eaten_count)\n",
    "    rewards_history_loaded_ac.append(np.mean(rewards))\n",
    "    dones = np.isin(rewards.numpy().flatten(), [env.WIN_REWARD, env.HIT_WALL_REWARD, env.ATE_HIMSELF_REWARD])\n",
    "\n",
    "print(f\"Avg Reward: {np.mean(rewards_history_loaded_ac):.2f}\")\n",
    "print(f\"Avg Wall Hits: {np.mean(wall_hits_loaded_ac):.2f}\")\n",
    "print(f\"Avg Fruits Eaten: {np.mean(fruits_eaten_loaded_ac):.2f}\")"
   ]
  },
  {
   "cell_type": "markdown",
   "metadata": {},
   "source": [
    "### Load the weights - Testing on Partially Observable Environment"
   ]
  },
  {
   "cell_type": "code",
   "execution_count": 11,
   "metadata": {},
   "outputs": [
    {
     "name": "stdout",
     "output_type": "stream",
     "text": [
      "Model weights loaded from weights/snake_a2c_weights.h5\n"
     ]
    },
    {
     "name": "stderr",
     "output_type": "stream",
     "text": [
      "100%|██████████| 5000/5000 [01:35<00:00, 52.37it/s]"
     ]
    },
    {
     "name": "stdout",
     "output_type": "stream",
     "text": [
      "Avg Reward: -0.10\n",
      "Avg Wall Hits: 993.56\n",
      "Avg Fruits Eaten: 0.09\n"
     ]
    },
    {
     "name": "stderr",
     "output_type": "stream",
     "text": [
      "\n"
     ]
    }
   ],
   "source": [
    "env = get_env(partially_observable=True)\n",
    "agent = A2CAgent(state_shape=env.to_state().shape[1:], n_actions=4, gamma=GAMMA, learning_rate=5e-5, entropy_beta=0.0001)\n",
    "agent.load_weights(\"weights/snake_a2c_weights.h5\")\n",
    "\n",
    "rewards_history_loaded_ac_po = []\n",
    "wall_hits_loaded_ac_po = []\n",
    "fruits_eaten_loaded_ac_po = []\n",
    "loss_history_loaded_ac_po = []\n",
    "\n",
    "for iteration in trange(ITERATIONS):\n",
    "    state = tf.constant(env.to_state())\n",
    "    actions = agent.select_action(state)\n",
    "    rewards = env.move(actions)\n",
    "    wall_hits_count = np.sum(rewards == env.HIT_WALL_REWARD)\n",
    "    wall_hits_loaded_ac_po.append(wall_hits_count)\n",
    "    fruits_eaten_count = np.sum(rewards == env.FRUIT_REWARD)\n",
    "    fruits_eaten_loaded_ac_po.append(fruits_eaten_count)\n",
    "    rewards_history_loaded_ac_po.append(np.mean(rewards))\n",
    "    dones = np.isin(rewards.numpy().flatten(), [env.WIN_REWARD, env.HIT_WALL_REWARD, env.ATE_HIMSELF_REWARD])\n",
    "\n",
    "print(f\"Avg Reward: {np.mean(rewards_history_loaded_ac_po):.2f}\")\n",
    "print(f\"Avg Wall Hits: {np.mean(wall_hits_loaded_ac_po):.2f}\")\n",
    "print(f\"Avg Fruits Eaten: {np.mean(fruits_eaten_loaded_ac_po):.2f}\")"
   ]
  },
  {
   "cell_type": "markdown",
   "metadata": {},
   "source": [
    "Here we retrain the model on the partially observable environment"
   ]
  },
  {
   "cell_type": "code",
   "execution_count": 13,
   "metadata": {},
   "outputs": [
    {
     "name": "stderr",
     "output_type": "stream",
     "text": [
      "  0%|          | 2/5000 [00:00<10:19,  8.07it/s]"
     ]
    },
    {
     "name": "stdout",
     "output_type": "stream",
     "text": [
      "Iteration 0: Avg Reward: -0.01, Avg Loss: 0.0153\n",
      "Fruits eaten: 31, Max fruits eaten: 31\n",
      "Wall hits: 234\n"
     ]
    },
    {
     "name": "stderr",
     "output_type": "stream",
     "text": [
      "  2%|▏         | 106/5000 [00:05<03:50, 21.27it/s]"
     ]
    },
    {
     "name": "stdout",
     "output_type": "stream",
     "text": [
      "Iteration 100: Avg Reward: -0.01, Avg Loss: -0.0056\n",
      "Fruits eaten: 11, Max fruits eaten: 31\n",
      "Wall hits: 95\n"
     ]
    },
    {
     "name": "stderr",
     "output_type": "stream",
     "text": [
      "  4%|▍         | 203/5000 [00:09<04:06, 19.46it/s]"
     ]
    },
    {
     "name": "stdout",
     "output_type": "stream",
     "text": [
      "Iteration 200: Avg Reward: 0.00, Avg Loss: -0.0251\n",
      "Fruits eaten: 17, Max fruits eaten: 31\n",
      "Wall hits: 29\n"
     ]
    },
    {
     "name": "stderr",
     "output_type": "stream",
     "text": [
      "  6%|▌         | 305/5000 [00:14<03:39, 21.38it/s]"
     ]
    },
    {
     "name": "stdout",
     "output_type": "stream",
     "text": [
      "Iteration 300: Avg Reward: 0.00, Avg Loss: -0.0430\n",
      "Fruits eaten: 19, Max fruits eaten: 31\n",
      "Wall hits: 25\n"
     ]
    },
    {
     "name": "stderr",
     "output_type": "stream",
     "text": [
      "  8%|▊         | 404/5000 [00:18<03:34, 21.40it/s]"
     ]
    },
    {
     "name": "stdout",
     "output_type": "stream",
     "text": [
      "Iteration 400: Avg Reward: 0.01, Avg Loss: -0.0752\n",
      "Fruits eaten: 32, Max fruits eaten: 32\n",
      "Wall hits: 19\n"
     ]
    },
    {
     "name": "stderr",
     "output_type": "stream",
     "text": [
      " 10%|█         | 503/5000 [00:22<03:18, 22.68it/s]"
     ]
    },
    {
     "name": "stdout",
     "output_type": "stream",
     "text": [
      "Iteration 500: Avg Reward: 0.01, Avg Loss: -0.0995\n",
      "Fruits eaten: 45, Max fruits eaten: 45\n",
      "Wall hits: 21\n"
     ]
    },
    {
     "name": "stderr",
     "output_type": "stream",
     "text": [
      " 12%|█▏        | 605/5000 [00:27<03:31, 20.73it/s]"
     ]
    },
    {
     "name": "stdout",
     "output_type": "stream",
     "text": [
      "Iteration 600: Avg Reward: 0.02, Avg Loss: -0.0846\n",
      "Fruits eaten: 52, Max fruits eaten: 52\n",
      "Wall hits: 16\n"
     ]
    },
    {
     "name": "stderr",
     "output_type": "stream",
     "text": [
      " 14%|█▍        | 703/5000 [00:32<03:42, 19.31it/s]"
     ]
    },
    {
     "name": "stdout",
     "output_type": "stream",
     "text": [
      "Iteration 700: Avg Reward: 0.02, Avg Loss: -0.0672\n",
      "Fruits eaten: 62, Max fruits eaten: 62\n",
      "Wall hits: 18\n"
     ]
    },
    {
     "name": "stderr",
     "output_type": "stream",
     "text": [
      " 16%|█▌        | 804/5000 [00:37<03:32, 19.75it/s]"
     ]
    },
    {
     "name": "stdout",
     "output_type": "stream",
     "text": [
      "Iteration 800: Avg Reward: 0.02, Avg Loss: -0.0515\n",
      "Fruits eaten: 60, Max fruits eaten: 62\n",
      "Wall hits: 21\n"
     ]
    },
    {
     "name": "stderr",
     "output_type": "stream",
     "text": [
      " 18%|█▊        | 904/5000 [00:42<03:24, 19.99it/s]"
     ]
    },
    {
     "name": "stdout",
     "output_type": "stream",
     "text": [
      "Iteration 900: Avg Reward: 0.03, Avg Loss: -0.0398\n",
      "Fruits eaten: 59, Max fruits eaten: 62\n",
      "Wall hits: 42\n"
     ]
    },
    {
     "name": "stderr",
     "output_type": "stream",
     "text": [
      " 20%|██        | 1004/5000 [00:47<03:25, 19.44it/s]"
     ]
    },
    {
     "name": "stdout",
     "output_type": "stream",
     "text": [
      "Iteration 1000: Avg Reward: 0.03, Avg Loss: -0.0359\n",
      "Fruits eaten: 72, Max fruits eaten: 72\n",
      "Wall hits: 34\n"
     ]
    },
    {
     "name": "stderr",
     "output_type": "stream",
     "text": [
      " 22%|██▏       | 1104/5000 [00:52<03:27, 18.82it/s]"
     ]
    },
    {
     "name": "stdout",
     "output_type": "stream",
     "text": [
      "Iteration 1100: Avg Reward: 0.03, Avg Loss: -0.0224\n",
      "Fruits eaten: 62, Max fruits eaten: 72\n",
      "Wall hits: 45\n"
     ]
    },
    {
     "name": "stderr",
     "output_type": "stream",
     "text": [
      " 24%|██▍       | 1204/5000 [00:58<03:22, 18.79it/s]"
     ]
    },
    {
     "name": "stdout",
     "output_type": "stream",
     "text": [
      "Iteration 1200: Avg Reward: 0.03, Avg Loss: -0.0143\n",
      "Fruits eaten: 61, Max fruits eaten: 72\n",
      "Wall hits: 50\n"
     ]
    },
    {
     "name": "stderr",
     "output_type": "stream",
     "text": [
      " 26%|██▌       | 1304/5000 [01:03<03:12, 19.18it/s]"
     ]
    },
    {
     "name": "stdout",
     "output_type": "stream",
     "text": [
      "Iteration 1300: Avg Reward: 0.02, Avg Loss: -0.0133\n",
      "Fruits eaten: 72, Max fruits eaten: 72\n",
      "Wall hits: 40\n"
     ]
    },
    {
     "name": "stderr",
     "output_type": "stream",
     "text": [
      " 28%|██▊       | 1403/5000 [01:08<03:09, 18.99it/s]"
     ]
    },
    {
     "name": "stdout",
     "output_type": "stream",
     "text": [
      "Iteration 1400: Avg Reward: 0.02, Avg Loss: -0.0085\n",
      "Fruits eaten: 54, Max fruits eaten: 72\n",
      "Wall hits: 43\n"
     ]
    },
    {
     "name": "stderr",
     "output_type": "stream",
     "text": [
      " 30%|███       | 1504/5000 [01:14<03:06, 18.77it/s]"
     ]
    },
    {
     "name": "stdout",
     "output_type": "stream",
     "text": [
      "Iteration 1500: Avg Reward: 0.03, Avg Loss: -0.0050\n",
      "Fruits eaten: 73, Max fruits eaten: 73\n",
      "Wall hits: 70\n"
     ]
    },
    {
     "name": "stderr",
     "output_type": "stream",
     "text": [
      " 32%|███▏      | 1604/5000 [01:19<02:53, 19.52it/s]"
     ]
    },
    {
     "name": "stdout",
     "output_type": "stream",
     "text": [
      "Iteration 1600: Avg Reward: 0.03, Avg Loss: -0.0016\n",
      "Fruits eaten: 66, Max fruits eaten: 73\n",
      "Wall hits: 54\n"
     ]
    },
    {
     "name": "stderr",
     "output_type": "stream",
     "text": [
      " 34%|███▍      | 1703/5000 [01:24<02:55, 18.78it/s]"
     ]
    },
    {
     "name": "stdout",
     "output_type": "stream",
     "text": [
      "Iteration 1700: Avg Reward: 0.03, Avg Loss: -0.0057\n",
      "Fruits eaten: 75, Max fruits eaten: 75\n",
      "Wall hits: 64\n"
     ]
    },
    {
     "name": "stderr",
     "output_type": "stream",
     "text": [
      " 36%|███▌      | 1804/5000 [01:30<02:51, 18.67it/s]"
     ]
    },
    {
     "name": "stdout",
     "output_type": "stream",
     "text": [
      "Iteration 1800: Avg Reward: 0.02, Avg Loss: -0.0027\n",
      "Fruits eaten: 65, Max fruits eaten: 75\n",
      "Wall hits: 67\n"
     ]
    },
    {
     "name": "stderr",
     "output_type": "stream",
     "text": [
      " 38%|███▊      | 1904/5000 [01:35<02:43, 18.88it/s]"
     ]
    },
    {
     "name": "stdout",
     "output_type": "stream",
     "text": [
      "Iteration 1900: Avg Reward: 0.02, Avg Loss: -0.0007\n",
      "Fruits eaten: 74, Max fruits eaten: 75\n",
      "Wall hits: 89\n"
     ]
    },
    {
     "name": "stderr",
     "output_type": "stream",
     "text": [
      " 40%|████      | 2004/5000 [01:40<02:36, 19.10it/s]"
     ]
    },
    {
     "name": "stdout",
     "output_type": "stream",
     "text": [
      "Iteration 2000: Avg Reward: 0.02, Avg Loss: -0.0005\n",
      "Fruits eaten: 63, Max fruits eaten: 75\n",
      "Wall hits: 75\n"
     ]
    },
    {
     "name": "stderr",
     "output_type": "stream",
     "text": [
      " 42%|████▏     | 2103/5000 [01:46<02:38, 18.29it/s]"
     ]
    },
    {
     "name": "stdout",
     "output_type": "stream",
     "text": [
      "Iteration 2100: Avg Reward: 0.02, Avg Loss: 0.0025\n",
      "Fruits eaten: 82, Max fruits eaten: 82\n",
      "Wall hits: 67\n"
     ]
    },
    {
     "name": "stderr",
     "output_type": "stream",
     "text": [
      " 44%|████▍     | 2204/5000 [01:52<03:04, 15.17it/s]"
     ]
    },
    {
     "name": "stdout",
     "output_type": "stream",
     "text": [
      "Iteration 2200: Avg Reward: 0.03, Avg Loss: 0.0087\n",
      "Fruits eaten: 74, Max fruits eaten: 82\n",
      "Wall hits: 81\n"
     ]
    },
    {
     "name": "stderr",
     "output_type": "stream",
     "text": [
      " 46%|████▌     | 2303/5000 [01:58<02:32, 17.73it/s]"
     ]
    },
    {
     "name": "stdout",
     "output_type": "stream",
     "text": [
      "Iteration 2300: Avg Reward: 0.03, Avg Loss: 0.0067\n",
      "Fruits eaten: 72, Max fruits eaten: 82\n",
      "Wall hits: 68\n"
     ]
    },
    {
     "name": "stderr",
     "output_type": "stream",
     "text": [
      " 48%|████▊     | 2403/5000 [02:03<02:18, 18.70it/s]"
     ]
    },
    {
     "name": "stdout",
     "output_type": "stream",
     "text": [
      "Iteration 2400: Avg Reward: 0.02, Avg Loss: 0.0061\n",
      "Fruits eaten: 60, Max fruits eaten: 82\n",
      "Wall hits: 64\n"
     ]
    },
    {
     "name": "stderr",
     "output_type": "stream",
     "text": [
      " 50%|█████     | 2504/5000 [02:09<02:13, 18.76it/s]"
     ]
    },
    {
     "name": "stdout",
     "output_type": "stream",
     "text": [
      "Iteration 2500: Avg Reward: 0.03, Avg Loss: 0.0122\n",
      "Fruits eaten: 76, Max fruits eaten: 82\n",
      "Wall hits: 74\n"
     ]
    },
    {
     "name": "stderr",
     "output_type": "stream",
     "text": [
      " 52%|█████▏    | 2603/5000 [02:14<02:09, 18.53it/s]"
     ]
    },
    {
     "name": "stdout",
     "output_type": "stream",
     "text": [
      "Iteration 2600: Avg Reward: 0.02, Avg Loss: 0.0066\n",
      "Fruits eaten: 88, Max fruits eaten: 88\n",
      "Wall hits: 91\n"
     ]
    },
    {
     "name": "stderr",
     "output_type": "stream",
     "text": [
      " 54%|█████▍    | 2704/5000 [02:19<02:02, 18.78it/s]"
     ]
    },
    {
     "name": "stdout",
     "output_type": "stream",
     "text": [
      "Iteration 2700: Avg Reward: 0.02, Avg Loss: 0.0103\n",
      "Fruits eaten: 50, Max fruits eaten: 88\n",
      "Wall hits: 82\n"
     ]
    },
    {
     "name": "stderr",
     "output_type": "stream",
     "text": [
      " 56%|█████▌    | 2804/5000 [02:25<01:55, 19.08it/s]"
     ]
    },
    {
     "name": "stdout",
     "output_type": "stream",
     "text": [
      "Iteration 2800: Avg Reward: 0.02, Avg Loss: 0.0129\n",
      "Fruits eaten: 44, Max fruits eaten: 88\n",
      "Wall hits: 98\n"
     ]
    },
    {
     "name": "stderr",
     "output_type": "stream",
     "text": [
      " 58%|█████▊    | 2904/5000 [02:30<01:58, 17.68it/s]"
     ]
    },
    {
     "name": "stdout",
     "output_type": "stream",
     "text": [
      "Iteration 2900: Avg Reward: 0.02, Avg Loss: 0.0078\n",
      "Fruits eaten: 68, Max fruits eaten: 88\n",
      "Wall hits: 53\n"
     ]
    },
    {
     "name": "stderr",
     "output_type": "stream",
     "text": [
      " 60%|██████    | 3003/5000 [02:35<01:51, 17.90it/s]"
     ]
    },
    {
     "name": "stdout",
     "output_type": "stream",
     "text": [
      "Iteration 3000: Avg Reward: 0.02, Avg Loss: 0.0117\n",
      "Fruits eaten: 68, Max fruits eaten: 88\n",
      "Wall hits: 86\n"
     ]
    },
    {
     "name": "stderr",
     "output_type": "stream",
     "text": [
      " 62%|██████▏   | 3103/5000 [02:41<01:41, 18.70it/s]"
     ]
    },
    {
     "name": "stdout",
     "output_type": "stream",
     "text": [
      "Iteration 3100: Avg Reward: 0.02, Avg Loss: 0.0072\n",
      "Fruits eaten: 32, Max fruits eaten: 88\n",
      "Wall hits: 89\n"
     ]
    },
    {
     "name": "stderr",
     "output_type": "stream",
     "text": [
      " 64%|██████▍   | 3203/5000 [02:46<01:28, 20.30it/s]"
     ]
    },
    {
     "name": "stdout",
     "output_type": "stream",
     "text": [
      "Iteration 3200: Avg Reward: 0.01, Avg Loss: 0.0048\n",
      "Fruits eaten: 18, Max fruits eaten: 88\n",
      "Wall hits: 81\n"
     ]
    },
    {
     "name": "stderr",
     "output_type": "stream",
     "text": [
      " 66%|██████▌   | 3305/5000 [02:51<01:24, 20.18it/s]"
     ]
    },
    {
     "name": "stdout",
     "output_type": "stream",
     "text": [
      "Iteration 3300: Avg Reward: 0.01, Avg Loss: 0.0021\n",
      "Fruits eaten: 33, Max fruits eaten: 88\n",
      "Wall hits: 59\n"
     ]
    },
    {
     "name": "stderr",
     "output_type": "stream",
     "text": [
      " 68%|██████▊   | 3404/5000 [02:56<01:23, 19.04it/s]"
     ]
    },
    {
     "name": "stdout",
     "output_type": "stream",
     "text": [
      "Iteration 3400: Avg Reward: 0.02, Avg Loss: 0.0059\n",
      "Fruits eaten: 82, Max fruits eaten: 88\n",
      "Wall hits: 46\n"
     ]
    },
    {
     "name": "stderr",
     "output_type": "stream",
     "text": [
      " 70%|███████   | 3503/5000 [03:01<01:18, 19.00it/s]"
     ]
    },
    {
     "name": "stdout",
     "output_type": "stream",
     "text": [
      "Iteration 3500: Avg Reward: 0.02, Avg Loss: 0.0108\n",
      "Fruits eaten: 60, Max fruits eaten: 88\n",
      "Wall hits: 83\n"
     ]
    },
    {
     "name": "stderr",
     "output_type": "stream",
     "text": [
      " 72%|███████▏  | 3604/5000 [03:07<01:16, 18.15it/s]"
     ]
    },
    {
     "name": "stdout",
     "output_type": "stream",
     "text": [
      "Iteration 3600: Avg Reward: 0.02, Avg Loss: 0.0101\n",
      "Fruits eaten: 46, Max fruits eaten: 88\n",
      "Wall hits: 68\n"
     ]
    },
    {
     "name": "stderr",
     "output_type": "stream",
     "text": [
      " 74%|███████▍  | 3703/5000 [03:12<01:05, 19.91it/s]"
     ]
    },
    {
     "name": "stdout",
     "output_type": "stream",
     "text": [
      "Iteration 3700: Avg Reward: 0.02, Avg Loss: 0.0094\n",
      "Fruits eaten: 42, Max fruits eaten: 88\n",
      "Wall hits: 71\n"
     ]
    },
    {
     "name": "stderr",
     "output_type": "stream",
     "text": [
      " 76%|███████▌  | 3804/5000 [03:17<00:59, 20.27it/s]"
     ]
    },
    {
     "name": "stdout",
     "output_type": "stream",
     "text": [
      "Iteration 3800: Avg Reward: 0.02, Avg Loss: 0.0086\n",
      "Fruits eaten: 50, Max fruits eaten: 88\n",
      "Wall hits: 43\n"
     ]
    },
    {
     "name": "stderr",
     "output_type": "stream",
     "text": [
      " 78%|███████▊  | 3903/5000 [03:22<00:58, 18.70it/s]"
     ]
    },
    {
     "name": "stdout",
     "output_type": "stream",
     "text": [
      "Iteration 3900: Avg Reward: 0.02, Avg Loss: 0.0176\n",
      "Fruits eaten: 66, Max fruits eaten: 88\n",
      "Wall hits: 68\n"
     ]
    },
    {
     "name": "stderr",
     "output_type": "stream",
     "text": [
      " 80%|████████  | 4004/5000 [03:27<00:52, 18.86it/s]"
     ]
    },
    {
     "name": "stdout",
     "output_type": "stream",
     "text": [
      "Iteration 4000: Avg Reward: 0.02, Avg Loss: 0.0077\n",
      "Fruits eaten: 35, Max fruits eaten: 88\n",
      "Wall hits: 78\n"
     ]
    },
    {
     "name": "stderr",
     "output_type": "stream",
     "text": [
      " 82%|████████▏ | 4104/5000 [03:33<00:45, 19.66it/s]"
     ]
    },
    {
     "name": "stdout",
     "output_type": "stream",
     "text": [
      "Iteration 4100: Avg Reward: 0.01, Avg Loss: -0.0026\n",
      "Fruits eaten: 34, Max fruits eaten: 88\n",
      "Wall hits: 68\n"
     ]
    },
    {
     "name": "stderr",
     "output_type": "stream",
     "text": [
      " 84%|████████▍ | 4204/5000 [03:38<00:42, 18.62it/s]"
     ]
    },
    {
     "name": "stdout",
     "output_type": "stream",
     "text": [
      "Iteration 4200: Avg Reward: 0.01, Avg Loss: 0.0028\n",
      "Fruits eaten: 29, Max fruits eaten: 88\n",
      "Wall hits: 36\n"
     ]
    },
    {
     "name": "stderr",
     "output_type": "stream",
     "text": [
      " 86%|████████▌ | 4304/5000 [03:43<00:36, 19.32it/s]"
     ]
    },
    {
     "name": "stdout",
     "output_type": "stream",
     "text": [
      "Iteration 4300: Avg Reward: 0.01, Avg Loss: 0.0067\n",
      "Fruits eaten: 47, Max fruits eaten: 88\n",
      "Wall hits: 34\n"
     ]
    },
    {
     "name": "stderr",
     "output_type": "stream",
     "text": [
      " 88%|████████▊ | 4402/5000 [03:48<00:32, 18.57it/s]"
     ]
    },
    {
     "name": "stdout",
     "output_type": "stream",
     "text": [
      "Iteration 4400: Avg Reward: 0.02, Avg Loss: 0.0121\n",
      "Fruits eaten: 62, Max fruits eaten: 88\n",
      "Wall hits: 77\n"
     ]
    },
    {
     "name": "stderr",
     "output_type": "stream",
     "text": [
      " 90%|█████████ | 4504/5000 [03:54<00:27, 17.83it/s]"
     ]
    },
    {
     "name": "stdout",
     "output_type": "stream",
     "text": [
      "Iteration 4500: Avg Reward: 0.02, Avg Loss: 0.0087\n",
      "Fruits eaten: 68, Max fruits eaten: 88\n",
      "Wall hits: 67\n"
     ]
    },
    {
     "name": "stderr",
     "output_type": "stream",
     "text": [
      " 92%|█████████▏| 4605/5000 [03:59<00:21, 18.57it/s]"
     ]
    },
    {
     "name": "stdout",
     "output_type": "stream",
     "text": [
      "Iteration 4600: Avg Reward: 0.02, Avg Loss: 0.0155\n",
      "Fruits eaten: 62, Max fruits eaten: 88\n",
      "Wall hits: 93\n"
     ]
    },
    {
     "name": "stderr",
     "output_type": "stream",
     "text": [
      " 94%|█████████▍| 4704/5000 [04:05<00:15, 18.75it/s]"
     ]
    },
    {
     "name": "stdout",
     "output_type": "stream",
     "text": [
      "Iteration 4700: Avg Reward: 0.02, Avg Loss: 0.0151\n",
      "Fruits eaten: 72, Max fruits eaten: 88\n",
      "Wall hits: 96\n"
     ]
    },
    {
     "name": "stderr",
     "output_type": "stream",
     "text": [
      " 96%|█████████▌| 4804/5000 [04:10<00:10, 18.36it/s]"
     ]
    },
    {
     "name": "stdout",
     "output_type": "stream",
     "text": [
      "Iteration 4800: Avg Reward: 0.02, Avg Loss: 0.0135\n",
      "Fruits eaten: 52, Max fruits eaten: 88\n",
      "Wall hits: 83\n"
     ]
    },
    {
     "name": "stderr",
     "output_type": "stream",
     "text": [
      " 98%|█████████▊| 4903/5000 [04:15<00:05, 18.77it/s]"
     ]
    },
    {
     "name": "stdout",
     "output_type": "stream",
     "text": [
      "Iteration 4900: Avg Reward: 0.01, Avg Loss: 0.0077\n",
      "Fruits eaten: 47, Max fruits eaten: 88\n",
      "Wall hits: 76\n"
     ]
    },
    {
     "name": "stderr",
     "output_type": "stream",
     "text": [
      "100%|██████████| 5000/5000 [04:20<00:00, 19.17it/s]"
     ]
    },
    {
     "name": "stdout",
     "output_type": "stream",
     "text": [
      "Model weights saved to weights/snake_a2c_weights_po.h5\n",
      "Weights saved to weights/snake_a2c_weights_po.h5\n"
     ]
    },
    {
     "name": "stderr",
     "output_type": "stream",
     "text": [
      "\n"
     ]
    }
   ],
   "source": [
    "env = get_env(partially_observable=True)\n",
    "agent = A2CAgent(state_shape=env.to_state().shape[1:], n_actions=4, gamma=GAMMA, learning_rate=5e-5, entropy_beta=0.0001)\n",
    "\n",
    "rewards_history_a2c_po, wall_hits_a2c_po, fruits_eaten_a2c_po, loss_history_a2c_po = training(ITERATIONS, env, agent, save_weights=True, save_path=\"weights/\", file_name=\"snake_a2c_weights_po.h5\")"
   ]
  },
  {
   "cell_type": "code",
   "execution_count": 21,
   "metadata": {},
   "outputs": [
    {
     "data": {
      "image/png": "[encoded data removed]",
      "text/plain": [
       "<Figure size 1200x400 with 1 Axes>"
      ]
     },
     "metadata": {},
     "output_type": "display_data"
    }
   ],
   "source": [
    "plt.figure(figsize=(12, 4))\n",
    "\n",
    "plt.plot(moving_average(rewards_history_ac, window), label='A2C Agent (Fully Observable) - Trained on Fully Observable')\n",
    "plt.plot(moving_average(rewards_history_loaded_ac, window), label='A2C Agent (Partially Observable) - Trained on Fully Observable')\n",
    "plt.plot(moving_average(rewards_history_a2c_po, window), label='A2C Agent (Partially Observable) - Trained on Partially Observable')\n",
    "plt.title('Average Reward per Episode - A2C Agent')\n",
    "plt.xlabel('Iteration')\n",
    "plt.ylabel('Reward')\n",
    "plt.legend()\n",
    "plt.savefig(\"plots/rewards_a2c.png\", bbox_inches='tight')\n",
    "plt.show()\n",
    "plt.close()"
   ]
  },
  {
   "cell_type": "markdown",
   "metadata": {},
   "source": [
    "## Double DQN"
   ]
  },
  {
   "cell_type": "markdown",
   "metadata": {},
   "source": [
    "### Training"
   ]
  },
  {
   "cell_type": "code",
   "execution_count": 10,
   "metadata": {},
   "outputs": [
    {
     "name": "stderr",
     "output_type": "stream",
     "text": [
      "  0%|          | 1/5000 [00:01<1:53:19,  1.36s/it]"
     ]
    },
    {
     "name": "stdout",
     "output_type": "stream",
     "text": [
      "Iteration 0: Avg Reward: -0.00, Avg Loss: 0.0230\n",
      "Fruits eaten: 36, Max fruits eaten: 36\n",
      "Wall hits: 192\n"
     ]
    },
    {
     "name": "stderr",
     "output_type": "stream",
     "text": [
      "  2%|▏         | 101/5000 [01:43<1:17:04,  1.06it/s]"
     ]
    },
    {
     "name": "stdout",
     "output_type": "stream",
     "text": [
      "Iteration 100: Avg Reward: -0.01, Avg Loss: 0.0109\n",
      "Fruits eaten: 9, Max fruits eaten: 36\n",
      "Wall hits: 201\n"
     ]
    },
    {
     "name": "stderr",
     "output_type": "stream",
     "text": [
      "  4%|▍         | 201/5000 [03:20<1:18:42,  1.02it/s]"
     ]
    },
    {
     "name": "stdout",
     "output_type": "stream",
     "text": [
      "Iteration 200: Avg Reward: -0.01, Avg Loss: 0.0071\n",
      "Fruits eaten: 30, Max fruits eaten: 36\n",
      "Wall hits: 1\n"
     ]
    },
    {
     "name": "stderr",
     "output_type": "stream",
     "text": [
      "  6%|▌         | 301/5000 [05:04<1:14:57,  1.04it/s]"
     ]
    },
    {
     "name": "stdout",
     "output_type": "stream",
     "text": [
      "Iteration 300: Avg Reward: -0.01, Avg Loss: 0.0065\n",
      "Fruits eaten: 42, Max fruits eaten: 42\n",
      "Wall hits: 2\n"
     ]
    },
    {
     "name": "stderr",
     "output_type": "stream",
     "text": [
      "  8%|▊         | 401/5000 [06:44<1:23:45,  1.09s/it]"
     ]
    },
    {
     "name": "stdout",
     "output_type": "stream",
     "text": [
      "Iteration 400: Avg Reward: -0.01, Avg Loss: 0.0068\n",
      "Fruits eaten: 44, Max fruits eaten: 44\n",
      "Wall hits: 2\n"
     ]
    },
    {
     "name": "stderr",
     "output_type": "stream",
     "text": [
      " 10%|█         | 501/5000 [08:31<1:18:35,  1.05s/it]"
     ]
    },
    {
     "name": "stdout",
     "output_type": "stream",
     "text": [
      "Iteration 500: Avg Reward: -0.01, Avg Loss: 0.0065\n",
      "Fruits eaten: 17, Max fruits eaten: 44\n",
      "Wall hits: 188\n"
     ]
    },
    {
     "name": "stderr",
     "output_type": "stream",
     "text": [
      " 12%|█▏        | 601/5000 [10:22<1:19:01,  1.08s/it]"
     ]
    },
    {
     "name": "stdout",
     "output_type": "stream",
     "text": [
      "Iteration 600: Avg Reward: -0.00, Avg Loss: 0.0079\n",
      "Fruits eaten: 17, Max fruits eaten: 44\n",
      "Wall hits: 205\n"
     ]
    },
    {
     "name": "stderr",
     "output_type": "stream",
     "text": [
      " 14%|█▍        | 701/5000 [12:13<1:14:39,  1.04s/it]"
     ]
    },
    {
     "name": "stdout",
     "output_type": "stream",
     "text": [
      "Iteration 700: Avg Reward: -0.00, Avg Loss: 0.0081\n",
      "Fruits eaten: 21, Max fruits eaten: 44\n",
      "Wall hits: 185\n"
     ]
    },
    {
     "name": "stderr",
     "output_type": "stream",
     "text": [
      " 16%|█▌        | 801/5000 [13:55<1:13:07,  1.04s/it]"
     ]
    },
    {
     "name": "stdout",
     "output_type": "stream",
     "text": [
      "Iteration 800: Avg Reward: 0.00, Avg Loss: 0.0096\n",
      "Fruits eaten: 49, Max fruits eaten: 49\n",
      "Wall hits: 149\n"
     ]
    },
    {
     "name": "stderr",
     "output_type": "stream",
     "text": [
      " 18%|█▊        | 901/5000 [15:40<1:05:34,  1.04it/s]"
     ]
    },
    {
     "name": "stdout",
     "output_type": "stream",
     "text": [
      "Iteration 900: Avg Reward: -0.00, Avg Loss: 0.0093\n",
      "Fruits eaten: 20, Max fruits eaten: 49\n",
      "Wall hits: 193\n"
     ]
    },
    {
     "name": "stderr",
     "output_type": "stream",
     "text": [
      " 20%|██        | 1001/5000 [17:21<1:02:34,  1.06it/s]"
     ]
    },
    {
     "name": "stdout",
     "output_type": "stream",
     "text": [
      "Iteration 1000: Avg Reward: 0.01, Avg Loss: 0.0106\n",
      "Fruits eaten: 113, Max fruits eaten: 113\n",
      "Wall hits: 2\n"
     ]
    },
    {
     "name": "stderr",
     "output_type": "stream",
     "text": [
      " 22%|██▏       | 1101/5000 [18:54<1:01:29,  1.06it/s]"
     ]
    },
    {
     "name": "stdout",
     "output_type": "stream",
     "text": [
      "Iteration 1100: Avg Reward: 0.02, Avg Loss: 0.0136\n",
      "Fruits eaten: 110, Max fruits eaten: 113\n",
      "Wall hits: 2\n"
     ]
    },
    {
     "name": "stderr",
     "output_type": "stream",
     "text": [
      " 24%|██▍       | 1201/5000 [20:30<1:03:11,  1.00it/s]"
     ]
    },
    {
     "name": "stdout",
     "output_type": "stream",
     "text": [
      "Iteration 1200: Avg Reward: 0.02, Avg Loss: 0.0145\n",
      "Fruits eaten: 24, Max fruits eaten: 113\n",
      "Wall hits: 176\n"
     ]
    },
    {
     "name": "stderr",
     "output_type": "stream",
     "text": [
      " 26%|██▌       | 1301/5000 [22:12<58:28,  1.05it/s]  "
     ]
    },
    {
     "name": "stdout",
     "output_type": "stream",
     "text": [
      "Iteration 1300: Avg Reward: 0.04, Avg Loss: 0.0150\n",
      "Fruits eaten: 89, Max fruits eaten: 113\n",
      "Wall hits: 2\n"
     ]
    },
    {
     "name": "stderr",
     "output_type": "stream",
     "text": [
      " 28%|██▊       | 1401/5000 [23:59<1:02:48,  1.05s/it]"
     ]
    },
    {
     "name": "stdout",
     "output_type": "stream",
     "text": [
      "Iteration 1400: Avg Reward: 0.04, Avg Loss: 0.0190\n",
      "Fruits eaten: 31, Max fruits eaten: 113\n",
      "Wall hits: 158\n"
     ]
    },
    {
     "name": "stderr",
     "output_type": "stream",
     "text": [
      " 30%|███       | 1501/5000 [25:42<59:53,  1.03s/it]  "
     ]
    },
    {
     "name": "stdout",
     "output_type": "stream",
     "text": [
      "Iteration 1500: Avg Reward: 0.04, Avg Loss: 0.0212\n",
      "Fruits eaten: 118, Max fruits eaten: 118\n",
      "Wall hits: 6\n"
     ]
    },
    {
     "name": "stderr",
     "output_type": "stream",
     "text": [
      " 32%|███▏      | 1601/5000 [27:28<53:18,  1.06it/s]  "
     ]
    },
    {
     "name": "stdout",
     "output_type": "stream",
     "text": [
      "Iteration 1600: Avg Reward: 0.04, Avg Loss: 0.0231\n",
      "Fruits eaten: 32, Max fruits eaten: 118\n",
      "Wall hits: 146\n"
     ]
    },
    {
     "name": "stderr",
     "output_type": "stream",
     "text": [
      " 34%|███▍      | 1701/5000 [29:05<1:07:29,  1.23s/it]"
     ]
    },
    {
     "name": "stdout",
     "output_type": "stream",
     "text": [
      "Iteration 1700: Avg Reward: 0.04, Avg Loss: 0.0243\n",
      "Fruits eaten: 137, Max fruits eaten: 137\n",
      "Wall hits: 3\n"
     ]
    },
    {
     "name": "stderr",
     "output_type": "stream",
     "text": [
      " 36%|███▌      | 1801/5000 [30:48<52:45,  1.01it/s]  "
     ]
    },
    {
     "name": "stdout",
     "output_type": "stream",
     "text": [
      "Iteration 1800: Avg Reward: 0.05, Avg Loss: 0.0269\n",
      "Fruits eaten: 28, Max fruits eaten: 137\n",
      "Wall hits: 150\n"
     ]
    },
    {
     "name": "stderr",
     "output_type": "stream",
     "text": [
      " 38%|███▊      | 1901/5000 [32:28<57:51,  1.12s/it]"
     ]
    },
    {
     "name": "stdout",
     "output_type": "stream",
     "text": [
      "Iteration 1900: Avg Reward: 0.05, Avg Loss: 0.0292\n",
      "Fruits eaten: 233, Max fruits eaten: 233\n",
      "Wall hits: 1\n"
     ]
    },
    {
     "name": "stderr",
     "output_type": "stream",
     "text": [
      " 40%|████      | 2001/5000 [34:13<53:56,  1.08s/it]  "
     ]
    },
    {
     "name": "stdout",
     "output_type": "stream",
     "text": [
      "Iteration 2000: Avg Reward: 0.06, Avg Loss: 0.0282\n",
      "Fruits eaten: 66, Max fruits eaten: 233\n",
      "Wall hits: 121\n"
     ]
    },
    {
     "name": "stderr",
     "output_type": "stream",
     "text": [
      " 42%|████▏     | 2101/5000 [36:00<54:51,  1.14s/it]"
     ]
    },
    {
     "name": "stdout",
     "output_type": "stream",
     "text": [
      "Iteration 2100: Avg Reward: 0.07, Avg Loss: 0.0299\n",
      "Fruits eaten: 285, Max fruits eaten: 285\n",
      "Wall hits: 4\n"
     ]
    },
    {
     "name": "stderr",
     "output_type": "stream",
     "text": [
      " 44%|████▍     | 2201/5000 [37:45<47:28,  1.02s/it]"
     ]
    },
    {
     "name": "stdout",
     "output_type": "stream",
     "text": [
      "Iteration 2200: Avg Reward: 0.06, Avg Loss: 0.0343\n",
      "Fruits eaten: 96, Max fruits eaten: 285\n",
      "Wall hits: 115\n"
     ]
    },
    {
     "name": "stderr",
     "output_type": "stream",
     "text": [
      " 46%|████▌     | 2301/5000 [39:29<47:29,  1.06s/it]"
     ]
    },
    {
     "name": "stdout",
     "output_type": "stream",
     "text": [
      "Iteration 2300: Avg Reward: 0.07, Avg Loss: 0.0330\n",
      "Fruits eaten: 256, Max fruits eaten: 285\n",
      "Wall hits: 10\n"
     ]
    },
    {
     "name": "stderr",
     "output_type": "stream",
     "text": [
      " 48%|████▊     | 2401/5000 [41:17<44:17,  1.02s/it]"
     ]
    },
    {
     "name": "stdout",
     "output_type": "stream",
     "text": [
      "Iteration 2400: Avg Reward: 0.06, Avg Loss: 0.0347\n",
      "Fruits eaten: 75, Max fruits eaten: 285\n",
      "Wall hits: 137\n"
     ]
    },
    {
     "name": "stderr",
     "output_type": "stream",
     "text": [
      " 50%|█████     | 2501/5000 [43:02<40:33,  1.03it/s]"
     ]
    },
    {
     "name": "stdout",
     "output_type": "stream",
     "text": [
      "Iteration 2500: Avg Reward: 0.07, Avg Loss: 0.0381\n",
      "Fruits eaten: 240, Max fruits eaten: 285\n",
      "Wall hits: 1\n"
     ]
    },
    {
     "name": "stderr",
     "output_type": "stream",
     "text": [
      " 52%|█████▏    | 2601/5000 [44:41<39:10,  1.02it/s]"
     ]
    },
    {
     "name": "stdout",
     "output_type": "stream",
     "text": [
      "Iteration 2600: Avg Reward: 0.08, Avg Loss: 0.0376\n",
      "Fruits eaten: 65, Max fruits eaten: 285\n",
      "Wall hits: 116\n"
     ]
    },
    {
     "name": "stderr",
     "output_type": "stream",
     "text": [
      " 54%|█████▍    | 2701/5000 [46:20<37:22,  1.03it/s]"
     ]
    },
    {
     "name": "stdout",
     "output_type": "stream",
     "text": [
      "Iteration 2700: Avg Reward: 0.07, Avg Loss: 0.0393\n",
      "Fruits eaten: 80, Max fruits eaten: 285\n",
      "Wall hits: 113\n"
     ]
    },
    {
     "name": "stderr",
     "output_type": "stream",
     "text": [
      " 56%|█████▌    | 2801/5000 [47:59<35:48,  1.02it/s]"
     ]
    },
    {
     "name": "stdout",
     "output_type": "stream",
     "text": [
      "Iteration 2800: Avg Reward: 0.08, Avg Loss: 0.0343\n",
      "Fruits eaten: 81, Max fruits eaten: 285\n",
      "Wall hits: 91\n"
     ]
    },
    {
     "name": "stderr",
     "output_type": "stream",
     "text": [
      " 58%|█████▊    | 2901/5000 [49:38<34:33,  1.01it/s]"
     ]
    },
    {
     "name": "stdout",
     "output_type": "stream",
     "text": [
      "Iteration 2900: Avg Reward: 0.10, Avg Loss: 0.0294\n",
      "Fruits eaten: 243, Max fruits eaten: 285\n",
      "Wall hits: 18\n"
     ]
    },
    {
     "name": "stderr",
     "output_type": "stream",
     "text": [
      " 60%|██████    | 3001/5000 [51:17<33:31,  1.01s/it]"
     ]
    },
    {
     "name": "stdout",
     "output_type": "stream",
     "text": [
      "Iteration 3000: Avg Reward: 0.08, Avg Loss: 0.0403\n",
      "Fruits eaten: 291, Max fruits eaten: 291\n",
      "Wall hits: 1\n"
     ]
    },
    {
     "name": "stderr",
     "output_type": "stream",
     "text": [
      " 62%|██████▏   | 3101/5000 [52:55<31:04,  1.02it/s]"
     ]
    },
    {
     "name": "stdout",
     "output_type": "stream",
     "text": [
      "Iteration 3100: Avg Reward: 0.08, Avg Loss: 0.0377\n",
      "Fruits eaten: 128, Max fruits eaten: 291\n",
      "Wall hits: 3\n"
     ]
    },
    {
     "name": "stderr",
     "output_type": "stream",
     "text": [
      " 64%|██████▍   | 3201/5000 [54:34<29:32,  1.02it/s]"
     ]
    },
    {
     "name": "stdout",
     "output_type": "stream",
     "text": [
      "Iteration 3200: Avg Reward: 0.09, Avg Loss: 0.0402\n",
      "Fruits eaten: 330, Max fruits eaten: 330\n",
      "Wall hits: 3\n"
     ]
    },
    {
     "name": "stderr",
     "output_type": "stream",
     "text": [
      " 66%|██████▌   | 3301/5000 [56:13<27:39,  1.02it/s]"
     ]
    },
    {
     "name": "stdout",
     "output_type": "stream",
     "text": [
      "Iteration 3300: Avg Reward: 0.08, Avg Loss: 0.0427\n",
      "Fruits eaten: 143, Max fruits eaten: 330\n",
      "Wall hits: 1\n"
     ]
    },
    {
     "name": "stderr",
     "output_type": "stream",
     "text": [
      " 68%|██████▊   | 3401/5000 [57:52<26:11,  1.02it/s]"
     ]
    },
    {
     "name": "stdout",
     "output_type": "stream",
     "text": [
      "Iteration 3400: Avg Reward: 0.10, Avg Loss: 0.0311\n",
      "Fruits eaten: 264, Max fruits eaten: 330\n",
      "Wall hits: 4\n"
     ]
    },
    {
     "name": "stderr",
     "output_type": "stream",
     "text": [
      " 70%|███████   | 3501/5000 [59:35<27:46,  1.11s/it]"
     ]
    },
    {
     "name": "stdout",
     "output_type": "stream",
     "text": [
      "Iteration 3500: Avg Reward: 0.10, Avg Loss: 0.0314\n",
      "Fruits eaten: 82, Max fruits eaten: 330\n",
      "Wall hits: 110\n"
     ]
    },
    {
     "name": "stderr",
     "output_type": "stream",
     "text": [
      " 72%|███████▏  | 3601/5000 [1:01:11<22:08,  1.05it/s]"
     ]
    },
    {
     "name": "stdout",
     "output_type": "stream",
     "text": [
      "Iteration 3600: Avg Reward: 0.09, Avg Loss: 0.0337\n",
      "Fruits eaten: 238, Max fruits eaten: 330\n",
      "Wall hits: 2\n"
     ]
    },
    {
     "name": "stderr",
     "output_type": "stream",
     "text": [
      " 74%|███████▍  | 3701/5000 [1:02:47<20:29,  1.06it/s]"
     ]
    },
    {
     "name": "stdout",
     "output_type": "stream",
     "text": [
      "Iteration 3700: Avg Reward: 0.10, Avg Loss: 0.0357\n",
      "Fruits eaten: 80, Max fruits eaten: 330\n",
      "Wall hits: 121\n"
     ]
    },
    {
     "name": "stderr",
     "output_type": "stream",
     "text": [
      " 76%|███████▌  | 3801/5000 [1:04:24<18:51,  1.06it/s]"
     ]
    },
    {
     "name": "stdout",
     "output_type": "stream",
     "text": [
      "Iteration 3800: Avg Reward: 0.09, Avg Loss: 0.0398\n",
      "Fruits eaten: 287, Max fruits eaten: 330\n",
      "Wall hits: 1\n"
     ]
    },
    {
     "name": "stderr",
     "output_type": "stream",
     "text": [
      " 78%|███████▊  | 3901/5000 [1:06:08<20:42,  1.13s/it]"
     ]
    },
    {
     "name": "stdout",
     "output_type": "stream",
     "text": [
      "Iteration 3900: Avg Reward: 0.09, Avg Loss: 0.0388\n",
      "Fruits eaten: 308, Max fruits eaten: 330\n",
      "Wall hits: 0\n"
     ]
    },
    {
     "name": "stderr",
     "output_type": "stream",
     "text": [
      " 80%|████████  | 4001/5000 [1:07:46<16:14,  1.03it/s]"
     ]
    },
    {
     "name": "stdout",
     "output_type": "stream",
     "text": [
      "Iteration 4000: Avg Reward: 0.11, Avg Loss: 0.0350\n",
      "Fruits eaten: 279, Max fruits eaten: 330\n",
      "Wall hits: 6\n"
     ]
    },
    {
     "name": "stderr",
     "output_type": "stream",
     "text": [
      " 82%|████████▏ | 4101/5000 [1:09:22<14:22,  1.04it/s]"
     ]
    },
    {
     "name": "stdout",
     "output_type": "stream",
     "text": [
      "Iteration 4100: Avg Reward: 0.10, Avg Loss: 0.0404\n",
      "Fruits eaten: 281, Max fruits eaten: 330\n",
      "Wall hits: 3\n"
     ]
    },
    {
     "name": "stderr",
     "output_type": "stream",
     "text": [
      " 84%|████████▍ | 4201/5000 [1:10:57<12:49,  1.04it/s]"
     ]
    },
    {
     "name": "stdout",
     "output_type": "stream",
     "text": [
      "Iteration 4200: Avg Reward: 0.10, Avg Loss: 0.0386\n",
      "Fruits eaten: 295, Max fruits eaten: 330\n",
      "Wall hits: 0\n"
     ]
    },
    {
     "name": "stderr",
     "output_type": "stream",
     "text": [
      " 86%|████████▌ | 4301/5000 [1:12:33<11:19,  1.03it/s]"
     ]
    },
    {
     "name": "stdout",
     "output_type": "stream",
     "text": [
      "Iteration 4300: Avg Reward: 0.10, Avg Loss: 0.0370\n",
      "Fruits eaten: 277, Max fruits eaten: 330\n",
      "Wall hits: 4\n"
     ]
    },
    {
     "name": "stderr",
     "output_type": "stream",
     "text": [
      " 88%|████████▊ | 4401/5000 [1:14:08<09:30,  1.05it/s]"
     ]
    },
    {
     "name": "stdout",
     "output_type": "stream",
     "text": [
      "Iteration 4400: Avg Reward: 0.10, Avg Loss: 0.0388\n",
      "Fruits eaten: 290, Max fruits eaten: 330\n",
      "Wall hits: 0\n"
     ]
    },
    {
     "name": "stderr",
     "output_type": "stream",
     "text": [
      " 90%|█████████ | 4501/5000 [1:15:44<07:54,  1.05it/s]"
     ]
    },
    {
     "name": "stdout",
     "output_type": "stream",
     "text": [
      "Iteration 4500: Avg Reward: 0.11, Avg Loss: 0.0388\n",
      "Fruits eaten: 282, Max fruits eaten: 330\n",
      "Wall hits: 2\n"
     ]
    },
    {
     "name": "stderr",
     "output_type": "stream",
     "text": [
      " 92%|█████████▏| 4601/5000 [1:17:20<06:27,  1.03it/s]"
     ]
    },
    {
     "name": "stdout",
     "output_type": "stream",
     "text": [
      "Iteration 4600: Avg Reward: 0.11, Avg Loss: 0.0451\n",
      "Fruits eaten: 273, Max fruits eaten: 330\n",
      "Wall hits: 2\n"
     ]
    },
    {
     "name": "stderr",
     "output_type": "stream",
     "text": [
      " 94%|█████████▍| 4701/5000 [1:18:57<04:46,  1.04it/s]"
     ]
    },
    {
     "name": "stdout",
     "output_type": "stream",
     "text": [
      "Iteration 4700: Avg Reward: 0.10, Avg Loss: 0.0461\n",
      "Fruits eaten: 83, Max fruits eaten: 330\n",
      "Wall hits: 139\n"
     ]
    },
    {
     "name": "stderr",
     "output_type": "stream",
     "text": [
      " 96%|█████████▌| 4801/5000 [1:20:34<03:12,  1.03it/s]"
     ]
    },
    {
     "name": "stdout",
     "output_type": "stream",
     "text": [
      "Iteration 4800: Avg Reward: 0.11, Avg Loss: 0.0420\n",
      "Fruits eaten: 280, Max fruits eaten: 330\n",
      "Wall hits: 2\n"
     ]
    },
    {
     "name": "stderr",
     "output_type": "stream",
     "text": [
      " 98%|█████████▊| 4901/5000 [1:22:11<01:36,  1.03it/s]"
     ]
    },
    {
     "name": "stdout",
     "output_type": "stream",
     "text": [
      "Iteration 4900: Avg Reward: 0.11, Avg Loss: 0.0366\n",
      "Fruits eaten: 296, Max fruits eaten: 330\n",
      "Wall hits: 2\n"
     ]
    },
    {
     "name": "stderr",
     "output_type": "stream",
     "text": [
      "100%|██████████| 5000/5000 [1:23:47<00:00,  1.01s/it]"
     ]
    },
    {
     "name": "stdout",
     "output_type": "stream",
     "text": [
      "Model weights saved to weights/snake_ddqn_weights.h5\n",
      "Weights saved to weights/snake_ddqn_weights.h5\n"
     ]
    },
    {
     "name": "stderr",
     "output_type": "stream",
     "text": [
      "\n"
     ]
    }
   ],
   "source": [
    "from ddqn import DoubleDQNAgent\n",
    "\n",
    "rewards_history_ddqn = []\n",
    "wall_hits_ddqn = []\n",
    "fruits_eaten_ddqn = []\n",
    "loss_history_ddqn = []\n",
    "\n",
    "env_ = get_env()\n",
    "\n",
    "agent = DoubleDQNAgent(state_shape=env_.to_state().shape[1:], n_actions=4, buffer_size=10000, batch_size=128, epsilon_start=1., epsilon_end=0.1, epsilon_decay=0.9995, learning_rate=1e-4, gamma=GAMMA, target_update_freq=100)\n",
    "rewards_history_ddqn, wall_hits_ddqn, fruits_eaten_ddqn, loss_history_ddqn = training(ITERATIONS, env_, agent, save_weights=True, save_path=\"weights/\", file_name=\"snake_ddqn_weights.h5\")"
   ]
  },
  {
   "cell_type": "markdown",
   "metadata": {},
   "source": [
    "### Load the weights - DDQN Agent"
   ]
  },
  {
   "cell_type": "code",
   "execution_count": 16,
   "metadata": {},
   "outputs": [
    {
     "name": "stdout",
     "output_type": "stream",
     "text": [
      "Model weights loaded from weights/snake_ddqn_weights.h5\n"
     ]
    },
    {
     "name": "stderr",
     "output_type": "stream",
     "text": [
      "100%|██████████| 5000/5000 [02:34<00:00, 32.36it/s]"
     ]
    },
    {
     "name": "stdout",
     "output_type": "stream",
     "text": [
      "Avg Reward: 0.11\n",
      "Avg Wall Hits: 15.05\n",
      "Avg Fruits Eaten: 247.50\n"
     ]
    },
    {
     "name": "stderr",
     "output_type": "stream",
     "text": [
      "\n"
     ]
    }
   ],
   "source": [
    "from ddqn import DoubleDQNAgent\n",
    "\n",
    "env = get_env()\n",
    "agent = DoubleDQNAgent(state_shape=env.to_state().shape[1:], n_actions=4, buffer_size=10000, batch_size=128, epsilon_start=1., epsilon_end=0.1, epsilon_decay=0.9995, learning_rate=1e-4, gamma=GAMMA, target_update_freq=100)\n",
    "agent.load_weights(\"weights/snake_ddqn_weights.h5\")\n",
    "\n",
    "rewards_history_loaded_ddqn = []\n",
    "wall_hits_loaded_ddqn = []\n",
    "fruits_eaten_loaded_ddqn = []\n",
    "loss_history_loaded_ddqn = []\n",
    "\n",
    "for iteration in trange(ITERATIONS):\n",
    "    state = tf.constant(env.to_state())\n",
    "    actions = agent.select_action(state)\n",
    "    rewards = env.move(actions)\n",
    "    wall_hits_count = np.sum(rewards == env.HIT_WALL_REWARD)\n",
    "    wall_hits_loaded_ddqn.append(wall_hits_count)\n",
    "    fruits_eaten_count = np.sum(rewards == env.FRUIT_REWARD)\n",
    "    fruits_eaten_loaded_ddqn.append(fruits_eaten_count)\n",
    "    rewards_history_loaded_ddqn.append(np.mean(rewards))\n",
    "    dones = np.isin(rewards.numpy().flatten(), [env.WIN_REWARD, env.HIT_WALL_REWARD, env.ATE_HIMSELF_REWARD])\n",
    "\n",
    "print(f\"Avg Reward: {np.mean(rewards_history_loaded_ddqn):.2f}\")\n",
    "print(f\"Avg Wall Hits: {np.mean(wall_hits_loaded_ddqn):.2f}\")\n",
    "print(f\"Avg Fruits Eaten: {np.mean(fruits_eaten_loaded_ddqn):.2f}\")"
   ]
  },
  {
   "cell_type": "markdown",
   "metadata": {},
   "source": [
    "### Load the weights - Testing on Partially Observable Environment"
   ]
  },
  {
   "cell_type": "code",
   "execution_count": 17,
   "metadata": {},
   "outputs": [
    {
     "name": "stdout",
     "output_type": "stream",
     "text": [
      "Model weights loaded from weights/snake_ddqn_weights.h5\n"
     ]
    },
    {
     "name": "stderr",
     "output_type": "stream",
     "text": [
      "100%|██████████| 5000/5000 [01:37<00:00, 51.53it/s]"
     ]
    },
    {
     "name": "stdout",
     "output_type": "stream",
     "text": [
      "Avg Reward: -0.09\n",
      "Avg Wall Hits: 891.02\n",
      "Avg Fruits Eaten: 2.06\n"
     ]
    },
    {
     "name": "stderr",
     "output_type": "stream",
     "text": [
      "\n"
     ]
    }
   ],
   "source": [
    "env = get_env(partially_observable=True)\n",
    "agent = DoubleDQNAgent(state_shape=env.to_state().shape[1:], n_actions=4, buffer_size=10000, batch_size=128, epsilon_start=1., epsilon_end=0.1, epsilon_decay=0.9995, learning_rate=1e-4, gamma=GAMMA, target_update_freq=100)\n",
    "agent.load_weights(\"weights/snake_ddqn_weights.h5\")\n",
    "\n",
    "rewards_history_loaded_ddqn_po = []\n",
    "wall_hits_loaded_ddqn_po = []\n",
    "fruits_eaten_loaded_ddqn_po = []\n",
    "loss_history_loaded_ddqn_po = []\n",
    "\n",
    "for iteration in trange(ITERATIONS):\n",
    "    state = tf.constant(env.to_state())\n",
    "    actions = agent.select_action(state)\n",
    "    rewards = env.move(actions)\n",
    "    wall_hits_count = np.sum(rewards == env.HIT_WALL_REWARD)\n",
    "    wall_hits_loaded_ddqn_po.append(wall_hits_count)\n",
    "    fruits_eaten_count = np.sum(rewards == env.FRUIT_REWARD)\n",
    "    fruits_eaten_loaded_ddqn_po.append(fruits_eaten_count)\n",
    "    rewards_history_loaded_ddqn_po.append(np.mean(rewards))\n",
    "    dones = np.isin(rewards.numpy().flatten(), [env.WIN_REWARD, env.HIT_WALL_REWARD, env.ATE_HIMSELF_REWARD])\n",
    "\n",
    "print(f\"Avg Reward: {np.mean(rewards_history_loaded_ddqn_po):.2f}\")\n",
    "print(f\"Avg Wall Hits: {np.mean(wall_hits_loaded_ddqn_po):.2f}\")\n",
    "print(f\"Avg Fruits Eaten: {np.mean(fruits_eaten_loaded_ddqn_po):.2f}\")"
   ]
  },
  {
   "cell_type": "markdown",
   "metadata": {},
   "source": [
    "Here we retrain the model on the partially observable environment"
   ]
  },
  {
   "cell_type": "code",
   "execution_count": 18,
   "metadata": {},
   "outputs": [
    {
     "name": "stderr",
     "output_type": "stream",
     "text": [
      "  0%|          | 1/5000 [00:01<2:02:10,  1.47s/it]"
     ]
    },
    {
     "name": "stdout",
     "output_type": "stream",
     "text": [
      "Iteration 0: Avg Reward: -0.00, Avg Loss: 0.0195\n",
      "Fruits eaten: 34, Max fruits eaten: 34\n",
      "Wall hits: 216\n"
     ]
    },
    {
     "name": "stderr",
     "output_type": "stream",
     "text": [
      "  2%|▏         | 101/5000 [01:49<1:29:55,  1.10s/it]"
     ]
    },
    {
     "name": "stdout",
     "output_type": "stream",
     "text": [
      "Iteration 100: Avg Reward: -0.01, Avg Loss: 0.0087\n",
      "Fruits eaten: 21, Max fruits eaten: 34\n",
      "Wall hits: 176\n"
     ]
    },
    {
     "name": "stderr",
     "output_type": "stream",
     "text": [
      "  4%|▍         | 201/5000 [03:35<1:24:19,  1.05s/it]"
     ]
    },
    {
     "name": "stdout",
     "output_type": "stream",
     "text": [
      "Iteration 200: Avg Reward: -0.01, Avg Loss: 0.0040\n",
      "Fruits eaten: 10, Max fruits eaten: 34\n",
      "Wall hits: 209\n"
     ]
    },
    {
     "name": "stderr",
     "output_type": "stream",
     "text": [
      "  6%|▌         | 301/5000 [05:21<1:22:47,  1.06s/it]"
     ]
    },
    {
     "name": "stdout",
     "output_type": "stream",
     "text": [
      "Iteration 300: Avg Reward: -0.00, Avg Loss: 0.0034\n",
      "Fruits eaten: 49, Max fruits eaten: 49\n",
      "Wall hits: 135\n"
     ]
    },
    {
     "name": "stderr",
     "output_type": "stream",
     "text": [
      "  8%|▊         | 401/5000 [07:06<1:22:14,  1.07s/it]"
     ]
    },
    {
     "name": "stdout",
     "output_type": "stream",
     "text": [
      "Iteration 400: Avg Reward: -0.00, Avg Loss: 0.0076\n",
      "Fruits eaten: 108, Max fruits eaten: 108\n",
      "Wall hits: 1\n"
     ]
    },
    {
     "name": "stderr",
     "output_type": "stream",
     "text": [
      " 10%|█         | 501/5000 [08:52<1:19:31,  1.06s/it]"
     ]
    },
    {
     "name": "stdout",
     "output_type": "stream",
     "text": [
      "Iteration 500: Avg Reward: 0.01, Avg Loss: 0.0132\n",
      "Fruits eaten: 32, Max fruits eaten: 108\n",
      "Wall hits: 153\n"
     ]
    },
    {
     "name": "stderr",
     "output_type": "stream",
     "text": [
      " 12%|█▏        | 601/5000 [10:38<1:17:50,  1.06s/it]"
     ]
    },
    {
     "name": "stdout",
     "output_type": "stream",
     "text": [
      "Iteration 600: Avg Reward: 0.01, Avg Loss: 0.0164\n",
      "Fruits eaten: 101, Max fruits eaten: 108\n",
      "Wall hits: 0\n"
     ]
    },
    {
     "name": "stderr",
     "output_type": "stream",
     "text": [
      " 14%|█▍        | 701/5000 [12:25<1:16:54,  1.07s/it]"
     ]
    },
    {
     "name": "stdout",
     "output_type": "stream",
     "text": [
      "Iteration 700: Avg Reward: 0.01, Avg Loss: 0.0206\n",
      "Fruits eaten: 81, Max fruits eaten: 108\n",
      "Wall hits: 0\n"
     ]
    },
    {
     "name": "stderr",
     "output_type": "stream",
     "text": [
      " 16%|█▌        | 801/5000 [14:11<1:13:59,  1.06s/it]"
     ]
    },
    {
     "name": "stdout",
     "output_type": "stream",
     "text": [
      "Iteration 800: Avg Reward: 0.02, Avg Loss: 0.0218\n",
      "Fruits eaten: 59, Max fruits eaten: 108\n",
      "Wall hits: 105\n"
     ]
    },
    {
     "name": "stderr",
     "output_type": "stream",
     "text": [
      " 18%|█▊        | 901/5000 [15:56<1:12:11,  1.06s/it]"
     ]
    },
    {
     "name": "stdout",
     "output_type": "stream",
     "text": [
      "Iteration 900: Avg Reward: 0.02, Avg Loss: 0.0251\n",
      "Fruits eaten: 121, Max fruits eaten: 121\n",
      "Wall hits: 0\n"
     ]
    },
    {
     "name": "stderr",
     "output_type": "stream",
     "text": [
      " 20%|██        | 1001/5000 [17:42<1:10:57,  1.06s/it]"
     ]
    },
    {
     "name": "stdout",
     "output_type": "stream",
     "text": [
      "Iteration 1000: Avg Reward: 0.02, Avg Loss: 0.0267\n",
      "Fruits eaten: 111, Max fruits eaten: 121\n",
      "Wall hits: 0\n"
     ]
    },
    {
     "name": "stderr",
     "output_type": "stream",
     "text": [
      " 22%|██▏       | 1101/5000 [19:29<1:10:33,  1.09s/it]"
     ]
    },
    {
     "name": "stdout",
     "output_type": "stream",
     "text": [
      "Iteration 1100: Avg Reward: 0.04, Avg Loss: 0.0291\n",
      "Fruits eaten: 88, Max fruits eaten: 121\n",
      "Wall hits: 118\n"
     ]
    },
    {
     "name": "stderr",
     "output_type": "stream",
     "text": [
      " 24%|██▍       | 1201/5000 [21:15<1:06:27,  1.05s/it]"
     ]
    },
    {
     "name": "stdout",
     "output_type": "stream",
     "text": [
      "Iteration 1200: Avg Reward: 0.04, Avg Loss: 0.0260\n",
      "Fruits eaten: 59, Max fruits eaten: 121\n",
      "Wall hits: 124\n"
     ]
    },
    {
     "name": "stderr",
     "output_type": "stream",
     "text": [
      " 26%|██▌       | 1301/5000 [23:01<1:05:25,  1.06s/it]"
     ]
    },
    {
     "name": "stdout",
     "output_type": "stream",
     "text": [
      "Iteration 1300: Avg Reward: 0.04, Avg Loss: 0.0290\n",
      "Fruits eaten: 226, Max fruits eaten: 226\n",
      "Wall hits: 1\n"
     ]
    },
    {
     "name": "stderr",
     "output_type": "stream",
     "text": [
      " 28%|██▊       | 1401/5000 [24:49<1:04:04,  1.07s/it]"
     ]
    },
    {
     "name": "stdout",
     "output_type": "stream",
     "text": [
      "Iteration 1400: Avg Reward: 0.05, Avg Loss: 0.0336\n",
      "Fruits eaten: 128, Max fruits eaten: 226\n",
      "Wall hits: 1\n"
     ]
    },
    {
     "name": "stderr",
     "output_type": "stream",
     "text": [
      " 30%|███       | 1501/5000 [26:35<1:02:51,  1.08s/it]"
     ]
    },
    {
     "name": "stdout",
     "output_type": "stream",
     "text": [
      "Iteration 1500: Avg Reward: 0.03, Avg Loss: 0.0376\n",
      "Fruits eaten: 334, Max fruits eaten: 334\n",
      "Wall hits: 3\n"
     ]
    },
    {
     "name": "stderr",
     "output_type": "stream",
     "text": [
      " 32%|███▏      | 1601/5000 [28:22<1:01:20,  1.08s/it]"
     ]
    },
    {
     "name": "stdout",
     "output_type": "stream",
     "text": [
      "Iteration 1600: Avg Reward: 0.03, Avg Loss: 0.0432\n",
      "Fruits eaten: 62, Max fruits eaten: 334\n",
      "Wall hits: 114\n"
     ]
    },
    {
     "name": "stderr",
     "output_type": "stream",
     "text": [
      " 34%|███▍      | 1701/5000 [30:08<59:35,  1.08s/it]  "
     ]
    },
    {
     "name": "stdout",
     "output_type": "stream",
     "text": [
      "Iteration 1700: Avg Reward: 0.05, Avg Loss: 0.0437\n",
      "Fruits eaten: 89, Max fruits eaten: 334\n",
      "Wall hits: 97\n"
     ]
    },
    {
     "name": "stderr",
     "output_type": "stream",
     "text": [
      " 36%|███▌      | 1801/5000 [31:55<56:27,  1.06s/it]"
     ]
    },
    {
     "name": "stdout",
     "output_type": "stream",
     "text": [
      "Iteration 1800: Avg Reward: 0.05, Avg Loss: 0.0449\n",
      "Fruits eaten: 71, Max fruits eaten: 334\n",
      "Wall hits: 120\n"
     ]
    },
    {
     "name": "stderr",
     "output_type": "stream",
     "text": [
      " 38%|███▊      | 1901/5000 [33:41<55:00,  1.06s/it]"
     ]
    },
    {
     "name": "stdout",
     "output_type": "stream",
     "text": [
      "Iteration 1900: Avg Reward: 0.07, Avg Loss: 0.0400\n",
      "Fruits eaten: 70, Max fruits eaten: 334\n",
      "Wall hits: 123\n"
     ]
    },
    {
     "name": "stderr",
     "output_type": "stream",
     "text": [
      " 40%|████      | 2001/5000 [35:27<54:37,  1.09s/it]"
     ]
    },
    {
     "name": "stdout",
     "output_type": "stream",
     "text": [
      "Iteration 2000: Avg Reward: 0.06, Avg Loss: 0.0386\n",
      "Fruits eaten: 311, Max fruits eaten: 334\n",
      "Wall hits: 0\n"
     ]
    },
    {
     "name": "stderr",
     "output_type": "stream",
     "text": [
      " 42%|████▏     | 2101/5000 [37:15<51:14,  1.06s/it]"
     ]
    },
    {
     "name": "stdout",
     "output_type": "stream",
     "text": [
      "Iteration 2100: Avg Reward: 0.06, Avg Loss: 0.0403\n",
      "Fruits eaten: 298, Max fruits eaten: 334\n",
      "Wall hits: 3\n"
     ]
    },
    {
     "name": "stderr",
     "output_type": "stream",
     "text": [
      " 44%|████▍     | 2201/5000 [39:02<49:38,  1.06s/it]"
     ]
    },
    {
     "name": "stdout",
     "output_type": "stream",
     "text": [
      "Iteration 2200: Avg Reward: 0.06, Avg Loss: 0.0417\n",
      "Fruits eaten: 61, Max fruits eaten: 334\n",
      "Wall hits: 139\n"
     ]
    },
    {
     "name": "stderr",
     "output_type": "stream",
     "text": [
      " 46%|████▌     | 2301/5000 [40:48<47:57,  1.07s/it]"
     ]
    },
    {
     "name": "stdout",
     "output_type": "stream",
     "text": [
      "Iteration 2300: Avg Reward: 0.07, Avg Loss: 0.0359\n",
      "Fruits eaten: 84, Max fruits eaten: 334\n",
      "Wall hits: 109\n"
     ]
    },
    {
     "name": "stderr",
     "output_type": "stream",
     "text": [
      " 48%|████▊     | 2401/5000 [42:36<46:14,  1.07s/it]"
     ]
    },
    {
     "name": "stdout",
     "output_type": "stream",
     "text": [
      "Iteration 2400: Avg Reward: 0.07, Avg Loss: 0.0389\n",
      "Fruits eaten: 309, Max fruits eaten: 334\n",
      "Wall hits: 1\n"
     ]
    },
    {
     "name": "stderr",
     "output_type": "stream",
     "text": [
      " 50%|█████     | 2501/5000 [44:23<44:16,  1.06s/it]"
     ]
    },
    {
     "name": "stdout",
     "output_type": "stream",
     "text": [
      "Iteration 2500: Avg Reward: 0.07, Avg Loss: 0.0353\n",
      "Fruits eaten: 25, Max fruits eaten: 334\n",
      "Wall hits: 154\n"
     ]
    },
    {
     "name": "stderr",
     "output_type": "stream",
     "text": [
      " 52%|█████▏    | 2601/5000 [46:10<43:03,  1.08s/it]"
     ]
    },
    {
     "name": "stdout",
     "output_type": "stream",
     "text": [
      "Iteration 2600: Avg Reward: 0.08, Avg Loss: 0.0401\n",
      "Fruits eaten: 275, Max fruits eaten: 334\n",
      "Wall hits: 4\n"
     ]
    },
    {
     "name": "stderr",
     "output_type": "stream",
     "text": [
      " 54%|█████▍    | 2701/5000 [47:56<40:35,  1.06s/it]"
     ]
    },
    {
     "name": "stdout",
     "output_type": "stream",
     "text": [
      "Iteration 2700: Avg Reward: 0.08, Avg Loss: 0.0377\n",
      "Fruits eaten: 309, Max fruits eaten: 334\n",
      "Wall hits: 0\n"
     ]
    },
    {
     "name": "stderr",
     "output_type": "stream",
     "text": [
      " 56%|█████▌    | 2801/5000 [49:43<39:53,  1.09s/it]"
     ]
    },
    {
     "name": "stdout",
     "output_type": "stream",
     "text": [
      "Iteration 2800: Avg Reward: 0.09, Avg Loss: 0.0399\n",
      "Fruits eaten: 268, Max fruits eaten: 334\n",
      "Wall hits: 0\n"
     ]
    },
    {
     "name": "stderr",
     "output_type": "stream",
     "text": [
      " 58%|█████▊    | 2901/5000 [51:30<37:30,  1.07s/it]"
     ]
    },
    {
     "name": "stdout",
     "output_type": "stream",
     "text": [
      "Iteration 2900: Avg Reward: 0.07, Avg Loss: 0.0424\n",
      "Fruits eaten: 270, Max fruits eaten: 334\n",
      "Wall hits: 1\n"
     ]
    },
    {
     "name": "stderr",
     "output_type": "stream",
     "text": [
      " 60%|██████    | 3001/5000 [53:17<36:37,  1.10s/it]"
     ]
    },
    {
     "name": "stdout",
     "output_type": "stream",
     "text": [
      "Iteration 3000: Avg Reward: 0.07, Avg Loss: 0.0388\n",
      "Fruits eaten: 267, Max fruits eaten: 334\n",
      "Wall hits: 0\n"
     ]
    },
    {
     "name": "stderr",
     "output_type": "stream",
     "text": [
      " 62%|██████▏   | 3101/5000 [55:05<33:57,  1.07s/it]"
     ]
    },
    {
     "name": "stdout",
     "output_type": "stream",
     "text": [
      "Iteration 3100: Avg Reward: 0.09, Avg Loss: 0.0303\n",
      "Fruits eaten: 238, Max fruits eaten: 334\n",
      "Wall hits: 6\n"
     ]
    },
    {
     "name": "stderr",
     "output_type": "stream",
     "text": [
      " 64%|██████▍   | 3201/5000 [56:52<31:55,  1.06s/it]"
     ]
    },
    {
     "name": "stdout",
     "output_type": "stream",
     "text": [
      "Iteration 3200: Avg Reward: 0.10, Avg Loss: 0.0353\n",
      "Fruits eaten: 321, Max fruits eaten: 334\n",
      "Wall hits: 1\n"
     ]
    },
    {
     "name": "stderr",
     "output_type": "stream",
     "text": [
      " 66%|██████▌   | 3301/5000 [58:38<30:12,  1.07s/it]"
     ]
    },
    {
     "name": "stdout",
     "output_type": "stream",
     "text": [
      "Iteration 3300: Avg Reward: 0.09, Avg Loss: 0.0397\n",
      "Fruits eaten: 284, Max fruits eaten: 334\n",
      "Wall hits: 2\n"
     ]
    },
    {
     "name": "stderr",
     "output_type": "stream",
     "text": [
      " 68%|██████▊   | 3401/5000 [1:00:25<29:09,  1.09s/it]"
     ]
    },
    {
     "name": "stdout",
     "output_type": "stream",
     "text": [
      "Iteration 3400: Avg Reward: 0.10, Avg Loss: 0.0329\n",
      "Fruits eaten: 260, Max fruits eaten: 334\n",
      "Wall hits: 2\n"
     ]
    },
    {
     "name": "stderr",
     "output_type": "stream",
     "text": [
      " 70%|███████   | 3501/5000 [1:02:13<26:34,  1.06s/it]"
     ]
    },
    {
     "name": "stdout",
     "output_type": "stream",
     "text": [
      "Iteration 3500: Avg Reward: 0.10, Avg Loss: 0.0377\n",
      "Fruits eaten: 118, Max fruits eaten: 334\n",
      "Wall hits: 0\n"
     ]
    },
    {
     "name": "stderr",
     "output_type": "stream",
     "text": [
      " 72%|███████▏  | 3601/5000 [1:04:00<24:52,  1.07s/it]"
     ]
    },
    {
     "name": "stdout",
     "output_type": "stream",
     "text": [
      "Iteration 3600: Avg Reward: 0.11, Avg Loss: 0.0322\n",
      "Fruits eaten: 245, Max fruits eaten: 334\n",
      "Wall hits: 4\n"
     ]
    },
    {
     "name": "stderr",
     "output_type": "stream",
     "text": [
      " 74%|███████▍  | 3701/5000 [1:05:47<23:20,  1.08s/it]"
     ]
    },
    {
     "name": "stdout",
     "output_type": "stream",
     "text": [
      "Iteration 3700: Avg Reward: 0.08, Avg Loss: 0.0424\n",
      "Fruits eaten: 313, Max fruits eaten: 334\n",
      "Wall hits: 1\n"
     ]
    },
    {
     "name": "stderr",
     "output_type": "stream",
     "text": [
      " 76%|███████▌  | 3801/5000 [1:07:34<21:21,  1.07s/it]"
     ]
    },
    {
     "name": "stdout",
     "output_type": "stream",
     "text": [
      "Iteration 3800: Avg Reward: 0.08, Avg Loss: 0.0424\n",
      "Fruits eaten: 300, Max fruits eaten: 334\n",
      "Wall hits: 2\n"
     ]
    },
    {
     "name": "stderr",
     "output_type": "stream",
     "text": [
      " 78%|███████▊  | 3901/5000 [1:09:21<20:05,  1.10s/it]"
     ]
    },
    {
     "name": "stdout",
     "output_type": "stream",
     "text": [
      "Iteration 3900: Avg Reward: 0.10, Avg Loss: 0.0317\n",
      "Fruits eaten: 292, Max fruits eaten: 334\n",
      "Wall hits: 3\n"
     ]
    },
    {
     "name": "stderr",
     "output_type": "stream",
     "text": [
      " 80%|████████  | 4001/5000 [1:11:08<17:49,  1.07s/it]"
     ]
    },
    {
     "name": "stdout",
     "output_type": "stream",
     "text": [
      "Iteration 4000: Avg Reward: 0.11, Avg Loss: 0.0311\n",
      "Fruits eaten: 278, Max fruits eaten: 334\n",
      "Wall hits: 5\n"
     ]
    },
    {
     "name": "stderr",
     "output_type": "stream",
     "text": [
      " 82%|████████▏ | 4101/5000 [1:12:55<16:03,  1.07s/it]"
     ]
    },
    {
     "name": "stdout",
     "output_type": "stream",
     "text": [
      "Iteration 4100: Avg Reward: 0.11, Avg Loss: 0.0326\n",
      "Fruits eaten: 267, Max fruits eaten: 334\n",
      "Wall hits: 0\n"
     ]
    },
    {
     "name": "stderr",
     "output_type": "stream",
     "text": [
      " 84%|████████▍ | 4201/5000 [1:14:43<14:14,  1.07s/it]"
     ]
    },
    {
     "name": "stdout",
     "output_type": "stream",
     "text": [
      "Iteration 4200: Avg Reward: 0.11, Avg Loss: 0.0292\n",
      "Fruits eaten: 282, Max fruits eaten: 334\n",
      "Wall hits: 5\n"
     ]
    },
    {
     "name": "stderr",
     "output_type": "stream",
     "text": [
      " 86%|████████▌ | 4301/5000 [1:16:30<12:33,  1.08s/it]"
     ]
    },
    {
     "name": "stdout",
     "output_type": "stream",
     "text": [
      "Iteration 4300: Avg Reward: 0.11, Avg Loss: 0.0352\n",
      "Fruits eaten: 272, Max fruits eaten: 334\n",
      "Wall hits: 1\n"
     ]
    },
    {
     "name": "stderr",
     "output_type": "stream",
     "text": [
      " 88%|████████▊ | 4401/5000 [1:18:17<10:40,  1.07s/it]"
     ]
    },
    {
     "name": "stdout",
     "output_type": "stream",
     "text": [
      "Iteration 4400: Avg Reward: 0.10, Avg Loss: 0.0446\n",
      "Fruits eaten: 273, Max fruits eaten: 334\n",
      "Wall hits: 0\n"
     ]
    },
    {
     "name": "stderr",
     "output_type": "stream",
     "text": [
      " 90%|█████████ | 4501/5000 [1:20:03<08:49,  1.06s/it]"
     ]
    },
    {
     "name": "stdout",
     "output_type": "stream",
     "text": [
      "Iteration 4500: Avg Reward: 0.11, Avg Loss: 0.0417\n",
      "Fruits eaten: 56, Max fruits eaten: 334\n",
      "Wall hits: 111\n"
     ]
    },
    {
     "name": "stderr",
     "output_type": "stream",
     "text": [
      " 92%|█████████▏| 4601/5000 [1:21:51<07:05,  1.07s/it]"
     ]
    },
    {
     "name": "stdout",
     "output_type": "stream",
     "text": [
      "Iteration 4600: Avg Reward: 0.10, Avg Loss: 0.0464\n",
      "Fruits eaten: 75, Max fruits eaten: 334\n",
      "Wall hits: 143\n"
     ]
    },
    {
     "name": "stderr",
     "output_type": "stream",
     "text": [
      " 94%|█████████▍| 4701/5000 [1:23:37<05:17,  1.06s/it]"
     ]
    },
    {
     "name": "stdout",
     "output_type": "stream",
     "text": [
      "Iteration 4700: Avg Reward: 0.11, Avg Loss: 0.0452\n",
      "Fruits eaten: 283, Max fruits eaten: 334\n",
      "Wall hits: 0\n"
     ]
    },
    {
     "name": "stderr",
     "output_type": "stream",
     "text": [
      " 96%|█████████▌| 4801/5000 [1:25:24<03:32,  1.07s/it]"
     ]
    },
    {
     "name": "stdout",
     "output_type": "stream",
     "text": [
      "Iteration 4800: Avg Reward: 0.11, Avg Loss: 0.0481\n",
      "Fruits eaten: 281, Max fruits eaten: 334\n",
      "Wall hits: 0\n"
     ]
    },
    {
     "name": "stderr",
     "output_type": "stream",
     "text": [
      " 98%|█████████▊| 4901/5000 [1:27:11<01:45,  1.07s/it]"
     ]
    },
    {
     "name": "stdout",
     "output_type": "stream",
     "text": [
      "Iteration 4900: Avg Reward: 0.10, Avg Loss: 0.0444\n",
      "Fruits eaten: 275, Max fruits eaten: 334\n",
      "Wall hits: 0\n"
     ]
    },
    {
     "name": "stderr",
     "output_type": "stream",
     "text": [
      "100%|██████████| 5000/5000 [1:28:57<00:00,  1.07s/it]"
     ]
    },
    {
     "name": "stdout",
     "output_type": "stream",
     "text": [
      "Model weights saved to weights/snake_ddqn_weights_po.h5\n",
      "Weights saved to weights/snake_ddqn_weights_po.h5\n"
     ]
    },
    {
     "name": "stderr",
     "output_type": "stream",
     "text": [
      "\n"
     ]
    }
   ],
   "source": [
    "env = get_env(partially_observable=True)\n",
    "agent = DoubleDQNAgent(state_shape=env.to_state().shape[1:], n_actions=4, buffer_size=10000, batch_size=128, epsilon_start=1., epsilon_end=0.1, epsilon_decay=0.9995, learning_rate=1e-4, gamma=GAMMA, target_update_freq=100)\n",
    "\n",
    "rewards_history_ddqn_po, wall_hits_ddqn_po, fruits_eaten_ddqn_po, loss_history_ddqn_po = training(ITERATIONS, env, agent, save_weights=True, save_path=\"weights/\", file_name=\"snake_ddqn_weights_po.h5\")"
   ]
  },
  {
   "cell_type": "code",
   "execution_count": 20,
   "metadata": {},
   "outputs": [
    {
     "data": {
      "image/png": "[encoded data removed]",
      "text/plain": [
       "<Figure size 1200x400 with 1 Axes>"
      ]
     },
     "metadata": {},
     "output_type": "display_data"
    }
   ],
   "source": [
    "plt.figure(figsize=(12, 4))\n",
    "plt.plot(moving_average(rewards_history_loaded_ddqn, window), label='DDQN Agent (Fully Observable) - Trained on Fully Observable')\n",
    "plt.plot(moving_average(rewards_history_loaded_ddqn_po, window), label='DDQN Agent (Partially Observable) - Trained on Fully Observable')\n",
    "plt.plot(moving_average(rewards_history_ddqn_po, window), label='DDQN Agent (Partially Observable) - Trained on Partially Observable')\n",
    "plt.title('Average Reward per Episode - DDQN Agent')\n",
    "plt.xlabel('Iteration')\n",
    "plt.ylabel('Reward')\n",
    "plt.legend()\n",
    "plt.savefig(\"plots/rewards_ddqn.png\", bbox_inches='tight')\n",
    "plt.show()\n",
    "plt.close()"
   ]
  },
  {
   "cell_type": "markdown",
   "metadata": {},
   "source": [
    "## Heuristic/Baseline Policy\n",
    "\n",
    "1. **Greedy move toward the fruit**: trying to reduce the Manhattan distance between the head of the snake and the fruit.\n",
    "2. **Obstacle avoidance**: before moving in the greedy direction, ensure to not hit an obstacle or eat itself\n",
    "3. **Fallback strategy**: if the snake cannot reach the greedy direction, try the second best one, and so forth so on"
   ]
  },
  {
   "cell_type": "code",
   "execution_count": 24,
   "metadata": {},
   "outputs": [
    {
     "name": "stderr",
     "output_type": "stream",
     "text": [
      "100%|██████████| 5000/5000 [03:50<00:00, 21.67it/s]\n"
     ]
    }
   ],
   "source": [
    "UP, RIGHT, DOWN, LEFT = 0, 1, 2, 3\n",
    "ACTIONS = [UP, RIGHT, DOWN, LEFT]\n",
    "\n",
    "DIRS = {\n",
    "    UP: (-1, 0),\n",
    "    RIGHT: (0, 1),\n",
    "    DOWN: (1, 0),\n",
    "    LEFT: (0, -1)\n",
    "}\n",
    "\n",
    "def heuristic_policy(env):\n",
    "    boards = env.boards\n",
    "    n_boards, board_size, _ = boards.shape\n",
    "    actions = []\n",
    "\n",
    "    for i in range(n_boards):\n",
    "        board = boards[i]\n",
    "        head = tuple(map(int, np.argwhere(board == env.HEAD)[0]))\n",
    "        fruit = tuple(map(int, np.argwhere(board == env.FRUIT)[0]))\n",
    "        candidates = []\n",
    "        for action in ACTIONS:\n",
    "            dy, dx = DIRS[action]\n",
    "            next_pos = (head[0] + dy, head[1] + dx)\n",
    "\n",
    "            if(0 <= next_pos[0] < board_size) and (0 <= next_pos[1] < board_size):\n",
    "                target_cell = board[next_pos]\n",
    "                if target_cell != env.WALL and target_cell != env.BODY:\n",
    "                    distance = abs(next_pos[0] - fruit[0]) + abs(next_pos[1] - fruit[1])\n",
    "                    candidates.append((action, distance))\n",
    "        \n",
    "        if not candidates:\n",
    "            action = np.random.choice(ACTIONS)\n",
    "        else:\n",
    "            candidates.sort(key=lambda x: x[1])\n",
    "            action = candidates[0][0]\n",
    "        actions.append(action)\n",
    "    \n",
    "    return tf.convert_to_tensor(actions, dtype=tf.int32)[:, None]\n",
    "\n",
    "env = get_env()\n",
    "heuristic_rewards = []\n",
    "fruits_eaten_heuristic = []\n",
    "wall_hits_heuristic = []\n",
    "\n",
    "for iteration in trange(ITERATIONS):\n",
    "    actions = heuristic_policy(env)\n",
    "    rewards = env.move(actions)\n",
    "    wall_hits_count = np.sum(rewards == env.HIT_WALL_REWARD)\n",
    "    wall_hits_heuristic.append(wall_hits_count)\n",
    "    fruits_eaten_count = np.sum(rewards == env.FRUIT_REWARD)\n",
    "    fruits_eaten_heuristic.append(fruits_eaten_count)\n",
    "    heuristic_rewards.append(np.mean(rewards))\n",
    "    dones = np.isin(rewards.numpy().flatten(), [env.WIN_REWARD, env.HIT_WALL_REWARD, env.ATE_HIMSELF_REWARD])\n",
    "\n",
    "    if np.sum(dones) > actions.shape[0] / 2:\n",
    "        env = get_env() # if all the boards are done, reset the environment"
   ]
  },
  {
   "cell_type": "markdown",
   "metadata": {},
   "source": [
    "### Heuristic - Partially Observable Environment"
   ]
  },
  {
   "cell_type": "code",
   "execution_count": 25,
   "metadata": {},
   "outputs": [
    {
     "name": "stderr",
     "output_type": "stream",
     "text": [
      "100%|██████████| 5000/5000 [03:58<00:00, 20.97it/s]\n"
     ]
    }
   ],
   "source": [
    "env = get_env(partially_observable=True)\n",
    "heuristic_rewards_po = []\n",
    "fruits_eaten_heuristic_po = []\n",
    "wall_hits_heuristic_po = []\n",
    "\n",
    "for iteration in trange(ITERATIONS):\n",
    "    actions = heuristic_policy(env)\n",
    "    rewards = env.move(actions)\n",
    "    wall_hits_count = np.sum(rewards == env.HIT_WALL_REWARD)\n",
    "    wall_hits_heuristic_po.append(wall_hits_count)\n",
    "    fruits_eaten_count = np.sum(rewards == env.FRUIT_REWARD)\n",
    "    fruits_eaten_heuristic_po.append(fruits_eaten_count)\n",
    "    heuristic_rewards_po.append(np.mean(rewards))\n",
    "    dones = np.isin(rewards.numpy().flatten(), [env.WIN_REWARD, env.HIT_WALL_REWARD, env.ATE_HIMSELF_REWARD])\n",
    "\n",
    "    if np.sum(dones) > actions.shape[0] / 2:\n",
    "        env = get_env(partially_observable=True) # if all the boards are done, reset the environment"
   ]
  },
  {
   "cell_type": "code",
   "execution_count": 26,
   "metadata": {},
   "outputs": [
    {
     "data": {
      "image/png": "[encoded data removed]",
      "text/plain": [
       "<Figure size 1200x400 with 1 Axes>"
      ]
     },
     "metadata": {},
     "output_type": "display_data"
    }
   ],
   "source": [
    "plt.figure(figsize=(12, 4))\n",
    "plt.plot(moving_average(heuristic_rewards, window), label='Heuristic Agent (Fully Observable)')\n",
    "plt.plot(moving_average(heuristic_rewards_po, window), label='Heuristic Agent (Partially Observable)')\n",
    "plt.title('Average Reward per Episode - Heuristic Agent')\n",
    "plt.xlabel('Iteration')\n",
    "plt.ylabel('Reward')\n",
    "plt.legend()\n",
    "plt.savefig(\"plots/rewards_heuristic.png\", bbox_inches='tight')\n",
    "plt.show()\n",
    "plt.close()"
   ]
  },
  {
   "cell_type": "markdown",
   "metadata": {
    "collapsed": false
   },
   "source": [
    " ### Random policy reward\n",
    " \n",
    "Just a baseline (not the one you are supposed to develop)"
   ]
  },
  {
   "cell_type": "code",
   "execution_count": 28,
   "metadata": {
    "collapsed": false
   },
   "outputs": [
    {
     "name": "stderr",
     "output_type": "stream",
     "text": [
      "100%|██████████| 5000/5000 [00:18<00:00, 266.31it/s]\n"
     ]
    }
   ],
   "source": [
    "random_env = get_env(100)\n",
    "random_rewards = []\n",
    "\n",
    "for _ in trange(ITERATIONS):\n",
    "    probs = tf.convert_to_tensor([[.25]*4]*random_env.n_boards)\n",
    "    #sample actions\n",
    "    actions =  tf.random.categorical(tf.math.log(probs), 1, dtype=tf.int32)\n",
    "    # MDP update\n",
    "    rewards = random_env.move(actions)\n",
    "    random_rewards.append(np.mean(rewards))"
   ]
  },
  {
   "cell_type": "code",
   "execution_count": null,
   "metadata": {},
   "outputs": [
    {
     "data": {
      "image/png": "[encoded data removed]",
      "text/plain": [
       "<Figure size 1200x400 with 1 Axes>"
      ]
     },
     "metadata": {},
     "output_type": "display_data"
    }
   ],
   "source": [
    "window = 50\n",
    "\n",
    "def moving_average(data, window):\n",
    "    return np.convolve(data, np.ones(window)/window, mode='valid')\n",
    "\n",
    "plt.figure(figsize=(12, 4))\n",
    "\n",
    "plt.plot(moving_average(rewards_history, window), label='DQN Agent')\n",
    "plt.plot(moving_average(rewards_history_ac, window), label='A2C Agent')\n",
    "plt.plot(moving_average(rewards_history_ddqn, window), label='Double DQN Agent')\n",
    "plt.plot(moving_average(random_rewards, window), label='Random Agent')\n",
    "plt.plot(moving_average(heuristic_rewards, window), label='Heuristic Agent')\n",
    "plt.title('Average Reward per Episode')\n",
    "plt.xlabel('Iteration')\n",
    "plt.ylabel('Reward')\n",
    "plt.legend()\n",
    "plt.savefig(\"plots/rewards.png\", bbox_inches='tight')\n",
    "plt.show()\n",
    "plt.close()"
   ]
  },
  {
   "cell_type": "code",
   "execution_count": 30,
   "metadata": {},
   "outputs": [
    {
     "data": {
      "image/png": "[encoded data removed]",
      "text/plain": [
       "<Figure size 1200x400 with 1 Axes>"
      ]
     },
     "metadata": {},
     "output_type": "display_data"
    }
   ],
   "source": [
    "# Plot the fruits eaten\n",
    "plt.figure(figsize=(12, 4))\n",
    "plt.plot(moving_average(fruits_eaten_, window), label='Fruits Eaten - DQN Agent')\n",
    "plt.plot(moving_average(fruits_eaten_ac, window), label='Fruits Eaten - A2C Agent')\n",
    "plt.plot(moving_average(fruits_eaten_ddqn, window), label='Fruits Eaten - Double DQN Agent')\n",
    "plt.plot(moving_average(fruits_eaten_heuristic, window), label='Fruits Eaten - Heuristic Agent')\n",
    "plt.title('Fruits eaten per Episode')\n",
    "plt.xlabel('Iteration')\n",
    "plt.ylabel('Fruits Eaten')\n",
    "plt.legend()\n",
    "plt.savefig(\"plots/fruits_eaten.png\", bbox_inches='tight')\n",
    "plt.show()\n",
    "plt.close()"
   ]
  },
  {
   "cell_type": "code",
   "execution_count": 31,
   "metadata": {},
   "outputs": [
    {
     "data": {
      "image/png": "[encoded data removed]",
      "text/plain": [
       "<Figure size 1200x400 with 1 Axes>"
      ]
     },
     "metadata": {},
     "output_type": "display_data"
    }
   ],
   "source": [
    "plt.figure(figsize=(12, 4))\n",
    "plt.plot(moving_average(wall_hits, window), label='Wall Hits - DQN Agent')\n",
    "plt.plot(moving_average(wall_hits_ac, window), label='Wall Hits - A2C Agent')\n",
    "plt.plot(moving_average(wall_hits_ddqn, window), label='Wall Hits - Double DQN Agent')\n",
    "plt.plot(moving_average(wall_hits_heuristic, window), label='Wall Hits - Heuristic Agent')\n",
    "plt.title('Wall Hits per Episode - DQN Agent')\n",
    "plt.xlabel('Iteration')\n",
    "plt.ylabel('Wall Hits')\n",
    "plt.legend()\n",
    "plt.savefig(\"plots/wall_hits.png\", dpi=300, bbox_inches='tight')\n",
    "plt.show()\n",
    "plt.close()"
   ]
  }
 ],
 "metadata": {
  "kernelspec": {
   "display_name": "snake",
   "language": "python",
   "name": "python3"
  },
  "language_info": {
   "codemirror_mode": {
    "name": "ipython",
    "version": 3
   },
   "file_extension": ".py",
   "mimetype": "text/x-python",
   "name": "python",
   "nbconvert_exporter": "python",
   "pygments_lexer": "ipython3",
   "version": "3.9.21"
  }
 },
 "nbformat": 4,
 "nbformat_minor": 1
}
