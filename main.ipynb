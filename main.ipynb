{
 "cells": [
  {
   "cell_type": "markdown",
   "metadata": {},
   "source": [
    "# Snake"
   ]
  },
  {
   "cell_type": "code",
   "execution_count": 1,
   "metadata": {
    "ExecuteTime": {
     "end_time": "2024-01-05T21:49:54.740569Z",
     "start_time": "2024-01-05T21:49:54.724713Z"
    },
    "collapsed": true
   },
   "outputs": [
    {
     "name": "stdout",
     "output_type": "stream",
     "text": [
      "[PhysicalDevice(name='/physical_device:GPU:0', device_type='GPU')]\n",
      "Num GPUs Available:  1\n",
      "TensorFlow version: 2.10.1\n"
     ]
    }
   ],
   "source": [
    "import tensorflow as tf\n",
    "\n",
    "physical_devices = tf.config.list_physical_devices('GPU')\n",
    "print(physical_devices)\n",
    "for gpu in physical_devices:\n",
    "    tf.config.experimental.set_memory_growth(gpu, True)\n",
    "\n",
    "tf.random.set_seed(0)\n",
    "\n",
    "import environments_fully_observable \n",
    "import environments_partially_observable\n",
    "import numpy as np\n",
    "from tqdm import trange\n",
    "import matplotlib.pyplot as plt\n",
    "import os\n",
    "import random\n",
    "# import tensorflow as tf\n",
    "# tf.random.set_seed(0)\n",
    "random.seed(0)\n",
    "np.random.seed(0)\n",
    "\n",
    "# GPU configuration\n",
    "print(\"Num GPUs Available: \", len(tf.config.list_physical_devices('GPU')))\n",
    "print(\"TensorFlow version:\", tf.__version__)"
   ]
  },
  {
   "cell_type": "markdown",
   "metadata": {},
   "source": [
    "## Environment definition"
   ]
  },
  {
   "cell_type": "code",
   "execution_count": 2,
   "metadata": {
    "ExecuteTime": {
     "end_time": "2024-01-05T21:51:24.586654Z",
     "start_time": "2024-01-05T21:51:24.492663Z"
    },
    "collapsed": false
   },
   "outputs": [
    {
     "data": {
      "image/png": "[encoded data removed]",
      "text/plain": [
       "<Figure size 1000x300 with 5 Axes>"
      ]
     },
     "metadata": {},
     "output_type": "display_data"
    }
   ],
   "source": [
    "%matplotlib inline\n",
    "# function to standardize getting an env for the whole notebook\n",
    "def get_env(n=1000, partially_observable=False):\n",
    "    # n is the number of boards that you want to simulate parallely\n",
    "    # size is the size of each board, also considering the borders\n",
    "    # mask for the partially observable, is the size of the local neighborhood\n",
    "    size = 7\n",
    "    if partially_observable:\n",
    "        e = environments_partially_observable.OriginalSnakeEnvironment(n, size, 3)\n",
    "    else:\n",
    "        e = environments_fully_observable.OriginalSnakeEnvironment(n, size)\n",
    "    # or environments_partially_observable.OriginalSnakeEnvironment(n, size, 2)\n",
    "    return e\n",
    "env_ = get_env()\n",
    "GAMMA = .9\n",
    "ITERATIONS = 5000\n",
    "\n",
    "fig,axs=plt.subplots(1,min(len(env_.boards), 5), figsize=(10,3))\n",
    "for ax, board in zip(axs, env_.boards):\n",
    "    ax.get_yaxis().set_visible(False)\n",
    "    ax.get_xaxis().set_visible(False)\n",
    "    ax.imshow(board, origin=\"lower\")"
   ]
  },
  {
   "cell_type": "markdown",
   "metadata": {
    "collapsed": false
   },
   "source": [
    "## DQN Agent"
   ]
  },
  {
   "cell_type": "code",
   "execution_count": 3,
   "metadata": {},
   "outputs": [],
   "source": [
    "from dqn import DQNAgent\n",
    "\n",
    "agent = DQNAgent(state_shape=env_.to_state().shape[1:], gamma=GAMMA, n_actions=4, epsilon_start=1., epsilon_end=0.05, epsilon_decay=0.9995, learning_rate=1e-4, target_update_freq=100)"
   ]
  },
  {
   "cell_type": "markdown",
   "metadata": {
    "collapsed": false
   },
   "source": [
    "## Training"
   ]
  },
  {
   "cell_type": "code",
   "execution_count": 4,
   "metadata": {},
   "outputs": [],
   "source": [
    "def training(iterations, env, agent, save_weights=True, save_path=\"weights/\", file_name=\"weights.h5\"):\n",
    "    rewards_hist = []\n",
    "    walls_hist = []\n",
    "    fruit_hist = []\n",
    "    loss_hist = []\n",
    "    max_fruits_eaten = 0\n",
    "\n",
    "    for iteration in trange(iterations):\n",
    "        state = tf.constant(env.to_state())\n",
    "        actions = agent.select_action(state)\n",
    "        rewards = env.move(actions)\n",
    "        new_state = tf.constant(env.to_state())\n",
    "        dones = np.isin(rewards, [env_.WIN_REWARD, env_.HIT_WALL_REWARD, env_.ATE_HIMSELF_REWARD])\n",
    "        loss = agent.train(state, actions, rewards, new_state, dones)\n",
    "        mean_reward = tf.reduce_mean(rewards).numpy()\n",
    "        rewards_hist.append(mean_reward)\n",
    "        if loss is not None:\n",
    "            loss_hist.append(loss)\n",
    "        wall_hits_count = np.sum(rewards == env_.HIT_WALL_REWARD)\n",
    "        walls_hist.append(wall_hits_count)\n",
    "\n",
    "        fruits_eaten_count = np.sum(rewards == env_.FRUIT_REWARD)\n",
    "        fruit_hist.append(fruits_eaten_count)\n",
    "\n",
    "        if iteration % 100 == 0:\n",
    "            avg_reward = np.mean(rewards_hist[-100:]) if rewards_hist else 0\n",
    "            avg_loss = np.mean(loss_hist[-100:]) if loss_hist else 0\n",
    "\n",
    "            fruits_eaten = tf.reduce_sum(tf.cast(rewards == 0.5, tf.int32)).numpy()\n",
    "            max_fruits_eaten = max(max_fruits_eaten, fruits_eaten)\n",
    "            print(f\"Iteration {iteration}: Avg Reward: {avg_reward:.2f}, Avg Loss: {avg_loss:.4f}\")\n",
    "            print(f\"Fruits eaten: {fruits_eaten}, Max fruits eaten: {max_fruits_eaten}\")\n",
    "            print(f\"Wall hits: {wall_hits_count}\")\n",
    "\n",
    "    if save_weights:\n",
    "        if not os.path.exists(save_path):\n",
    "            os.makedirs(save_path)\n",
    "        agent.save_weights(os.path.join(save_path, file_name))\n",
    "        print(f\"Weights saved to {os.path.join(save_path, file_name)}\")\n",
    "\n",
    "    return rewards_hist, walls_hist, fruit_hist, loss_hist"
   ]
  },
  {
   "cell_type": "code",
   "execution_count": 5,
   "metadata": {},
   "outputs": [
    {
     "name": "stderr",
     "output_type": "stream",
     "text": [
      "  0%|          | 1/5000 [00:01<2:03:30,  1.48s/it]"
     ]
    },
    {
     "name": "stdout",
     "output_type": "stream",
     "text": [
      "Iteration 0: Avg Reward: 0.00, Avg Loss: 0.0428\n",
      "Fruits eaten: 40, Max fruits eaten: 40\n",
      "Wall hits: 192\n"
     ]
    },
    {
     "name": "stderr",
     "output_type": "stream",
     "text": [
      "  2%|▏         | 101/5000 [01:37<1:18:15,  1.04it/s]"
     ]
    },
    {
     "name": "stdout",
     "output_type": "stream",
     "text": [
      "Iteration 100: Avg Reward: -0.01, Avg Loss: 0.0088\n",
      "Fruits eaten: 11, Max fruits eaten: 40\n",
      "Wall hits: 181\n"
     ]
    },
    {
     "name": "stderr",
     "output_type": "stream",
     "text": [
      "  4%|▍         | 201/5000 [03:12<1:16:21,  1.05it/s]"
     ]
    },
    {
     "name": "stdout",
     "output_type": "stream",
     "text": [
      "Iteration 200: Avg Reward: -0.01, Avg Loss: 0.0058\n",
      "Fruits eaten: 29, Max fruits eaten: 40\n",
      "Wall hits: 174\n"
     ]
    },
    {
     "name": "stderr",
     "output_type": "stream",
     "text": [
      "  6%|▌         | 301/5000 [04:47<1:14:10,  1.06it/s]"
     ]
    },
    {
     "name": "stdout",
     "output_type": "stream",
     "text": [
      "Iteration 300: Avg Reward: -0.01, Avg Loss: 0.0064\n",
      "Fruits eaten: 12, Max fruits eaten: 40\n",
      "Wall hits: 178\n"
     ]
    },
    {
     "name": "stderr",
     "output_type": "stream",
     "text": [
      "  8%|▊         | 401/5000 [06:28<1:29:47,  1.17s/it]"
     ]
    },
    {
     "name": "stdout",
     "output_type": "stream",
     "text": [
      "Iteration 400: Avg Reward: -0.01, Avg Loss: 0.0066\n",
      "Fruits eaten: 31, Max fruits eaten: 40\n",
      "Wall hits: 159\n"
     ]
    },
    {
     "name": "stderr",
     "output_type": "stream",
     "text": [
      " 10%|█         | 501/5000 [08:17<1:12:34,  1.03it/s]"
     ]
    },
    {
     "name": "stdout",
     "output_type": "stream",
     "text": [
      "Iteration 500: Avg Reward: -0.00, Avg Loss: 0.0077\n",
      "Fruits eaten: 43, Max fruits eaten: 43\n",
      "Wall hits: 0\n"
     ]
    },
    {
     "name": "stderr",
     "output_type": "stream",
     "text": [
      " 12%|█▏        | 601/5000 [09:58<1:09:19,  1.06it/s]"
     ]
    },
    {
     "name": "stdout",
     "output_type": "stream",
     "text": [
      "Iteration 600: Avg Reward: -0.00, Avg Loss: 0.0083\n",
      "Fruits eaten: 21, Max fruits eaten: 43\n",
      "Wall hits: 197\n"
     ]
    },
    {
     "name": "stderr",
     "output_type": "stream",
     "text": [
      " 14%|█▍        | 701/5000 [11:33<1:08:47,  1.04it/s]"
     ]
    },
    {
     "name": "stdout",
     "output_type": "stream",
     "text": [
      "Iteration 700: Avg Reward: 0.00, Avg Loss: 0.0092\n",
      "Fruits eaten: 34, Max fruits eaten: 43\n",
      "Wall hits: 170\n"
     ]
    },
    {
     "name": "stderr",
     "output_type": "stream",
     "text": [
      " 16%|█▌        | 801/5000 [13:09<1:09:02,  1.01it/s]"
     ]
    },
    {
     "name": "stdout",
     "output_type": "stream",
     "text": [
      "Iteration 800: Avg Reward: 0.00, Avg Loss: 0.0087\n",
      "Fruits eaten: 194, Max fruits eaten: 194\n",
      "Wall hits: 0\n"
     ]
    },
    {
     "name": "stderr",
     "output_type": "stream",
     "text": [
      " 18%|█▊        | 901/5000 [14:45<1:05:02,  1.05it/s]"
     ]
    },
    {
     "name": "stdout",
     "output_type": "stream",
     "text": [
      "Iteration 900: Avg Reward: 0.01, Avg Loss: 0.0114\n",
      "Fruits eaten: 193, Max fruits eaten: 194\n",
      "Wall hits: 3\n"
     ]
    },
    {
     "name": "stderr",
     "output_type": "stream",
     "text": [
      " 20%|██        | 1001/5000 [16:26<1:03:00,  1.06it/s]"
     ]
    },
    {
     "name": "stdout",
     "output_type": "stream",
     "text": [
      "Iteration 1000: Avg Reward: 0.02, Avg Loss: 0.0115\n",
      "Fruits eaten: 26, Max fruits eaten: 194\n",
      "Wall hits: 162\n"
     ]
    },
    {
     "name": "stderr",
     "output_type": "stream",
     "text": [
      " 22%|██▏       | 1101/5000 [18:02<1:01:45,  1.05it/s]"
     ]
    },
    {
     "name": "stdout",
     "output_type": "stream",
     "text": [
      "Iteration 1100: Avg Reward: 0.03, Avg Loss: 0.0140\n",
      "Fruits eaten: 56, Max fruits eaten: 194\n",
      "Wall hits: 150\n"
     ]
    },
    {
     "name": "stderr",
     "output_type": "stream",
     "text": [
      " 24%|██▍       | 1201/5000 [19:39<1:00:49,  1.04it/s]"
     ]
    },
    {
     "name": "stdout",
     "output_type": "stream",
     "text": [
      "Iteration 1200: Avg Reward: 0.03, Avg Loss: 0.0166\n",
      "Fruits eaten: 113, Max fruits eaten: 194\n",
      "Wall hits: 2\n"
     ]
    },
    {
     "name": "stderr",
     "output_type": "stream",
     "text": [
      " 26%|██▌       | 1301/5000 [21:15<58:36,  1.05it/s]  "
     ]
    },
    {
     "name": "stdout",
     "output_type": "stream",
     "text": [
      "Iteration 1300: Avg Reward: 0.04, Avg Loss: 0.0181\n",
      "Fruits eaten: 71, Max fruits eaten: 194\n",
      "Wall hits: 117\n"
     ]
    },
    {
     "name": "stderr",
     "output_type": "stream",
     "text": [
      " 28%|██▊       | 1401/5000 [22:51<56:38,  1.06it/s]  "
     ]
    },
    {
     "name": "stdout",
     "output_type": "stream",
     "text": [
      "Iteration 1400: Avg Reward: 0.04, Avg Loss: 0.0229\n",
      "Fruits eaten: 165, Max fruits eaten: 194\n",
      "Wall hits: 0\n"
     ]
    },
    {
     "name": "stderr",
     "output_type": "stream",
     "text": [
      " 30%|███       | 1501/5000 [24:26<55:58,  1.04it/s]"
     ]
    },
    {
     "name": "stdout",
     "output_type": "stream",
     "text": [
      "Iteration 1500: Avg Reward: 0.05, Avg Loss: 0.0219\n",
      "Fruits eaten: 70, Max fruits eaten: 194\n",
      "Wall hits: 104\n"
     ]
    },
    {
     "name": "stderr",
     "output_type": "stream",
     "text": [
      " 32%|███▏      | 1601/5000 [26:02<53:58,  1.05it/s]"
     ]
    },
    {
     "name": "stdout",
     "output_type": "stream",
     "text": [
      "Iteration 1600: Avg Reward: 0.05, Avg Loss: 0.0246\n",
      "Fruits eaten: 285, Max fruits eaten: 285\n",
      "Wall hits: 3\n"
     ]
    },
    {
     "name": "stderr",
     "output_type": "stream",
     "text": [
      " 34%|███▍      | 1701/5000 [27:38<53:06,  1.04it/s]"
     ]
    },
    {
     "name": "stdout",
     "output_type": "stream",
     "text": [
      "Iteration 1700: Avg Reward: 0.06, Avg Loss: 0.0235\n",
      "Fruits eaten: 250, Max fruits eaten: 285\n",
      "Wall hits: 3\n"
     ]
    },
    {
     "name": "stderr",
     "output_type": "stream",
     "text": [
      " 36%|███▌      | 1801/5000 [29:13<51:21,  1.04it/s]"
     ]
    },
    {
     "name": "stdout",
     "output_type": "stream",
     "text": [
      "Iteration 1800: Avg Reward: 0.05, Avg Loss: 0.0285\n",
      "Fruits eaten: 257, Max fruits eaten: 285\n",
      "Wall hits: 7\n"
     ]
    },
    {
     "name": "stderr",
     "output_type": "stream",
     "text": [
      " 38%|███▊      | 1901/5000 [30:50<49:21,  1.05it/s]"
     ]
    },
    {
     "name": "stdout",
     "output_type": "stream",
     "text": [
      "Iteration 1900: Avg Reward: 0.06, Avg Loss: 0.0305\n",
      "Fruits eaten: 26, Max fruits eaten: 285\n",
      "Wall hits: 166\n"
     ]
    },
    {
     "name": "stderr",
     "output_type": "stream",
     "text": [
      " 40%|████      | 2001/5000 [32:25<47:16,  1.06it/s]"
     ]
    },
    {
     "name": "stdout",
     "output_type": "stream",
     "text": [
      "Iteration 2000: Avg Reward: 0.05, Avg Loss: 0.0319\n",
      "Fruits eaten: 77, Max fruits eaten: 285\n",
      "Wall hits: 111\n"
     ]
    },
    {
     "name": "stderr",
     "output_type": "stream",
     "text": [
      " 42%|████▏     | 2101/5000 [34:01<46:52,  1.03it/s]"
     ]
    },
    {
     "name": "stdout",
     "output_type": "stream",
     "text": [
      "Iteration 2100: Avg Reward: 0.05, Avg Loss: 0.0311\n",
      "Fruits eaten: 138, Max fruits eaten: 285\n",
      "Wall hits: 0\n"
     ]
    },
    {
     "name": "stderr",
     "output_type": "stream",
     "text": [
      " 44%|████▍     | 2201/5000 [35:38<44:38,  1.05it/s]"
     ]
    },
    {
     "name": "stdout",
     "output_type": "stream",
     "text": [
      "Iteration 2200: Avg Reward: 0.06, Avg Loss: 0.0343\n",
      "Fruits eaten: 66, Max fruits eaten: 285\n",
      "Wall hits: 100\n"
     ]
    },
    {
     "name": "stderr",
     "output_type": "stream",
     "text": [
      " 46%|████▌     | 2301/5000 [37:15<43:43,  1.03it/s]"
     ]
    },
    {
     "name": "stdout",
     "output_type": "stream",
     "text": [
      "Iteration 2300: Avg Reward: 0.07, Avg Loss: 0.0286\n",
      "Fruits eaten: 147, Max fruits eaten: 285\n",
      "Wall hits: 11\n"
     ]
    },
    {
     "name": "stderr",
     "output_type": "stream",
     "text": [
      " 48%|████▊     | 2401/5000 [38:51<41:25,  1.05it/s]"
     ]
    },
    {
     "name": "stdout",
     "output_type": "stream",
     "text": [
      "Iteration 2400: Avg Reward: 0.08, Avg Loss: 0.0313\n",
      "Fruits eaten: 277, Max fruits eaten: 285\n",
      "Wall hits: 0\n"
     ]
    },
    {
     "name": "stderr",
     "output_type": "stream",
     "text": [
      " 50%|█████     | 2501/5000 [40:27<39:57,  1.04it/s]"
     ]
    },
    {
     "name": "stdout",
     "output_type": "stream",
     "text": [
      "Iteration 2500: Avg Reward: 0.07, Avg Loss: 0.0333\n",
      "Fruits eaten: 328, Max fruits eaten: 328\n",
      "Wall hits: 1\n"
     ]
    },
    {
     "name": "stderr",
     "output_type": "stream",
     "text": [
      " 52%|█████▏    | 2601/5000 [42:04<38:22,  1.04it/s]"
     ]
    },
    {
     "name": "stdout",
     "output_type": "stream",
     "text": [
      "Iteration 2600: Avg Reward: 0.07, Avg Loss: 0.0340\n",
      "Fruits eaten: 75, Max fruits eaten: 328\n",
      "Wall hits: 113\n"
     ]
    },
    {
     "name": "stderr",
     "output_type": "stream",
     "text": [
      " 54%|█████▍    | 2701/5000 [43:41<37:05,  1.03it/s]"
     ]
    },
    {
     "name": "stdout",
     "output_type": "stream",
     "text": [
      "Iteration 2700: Avg Reward: 0.09, Avg Loss: 0.0348\n",
      "Fruits eaten: 138, Max fruits eaten: 328\n",
      "Wall hits: 9\n"
     ]
    },
    {
     "name": "stderr",
     "output_type": "stream",
     "text": [
      " 56%|█████▌    | 2801/5000 [45:18<35:13,  1.04it/s]"
     ]
    },
    {
     "name": "stdout",
     "output_type": "stream",
     "text": [
      "Iteration 2800: Avg Reward: 0.07, Avg Loss: 0.0415\n",
      "Fruits eaten: 40, Max fruits eaten: 328\n",
      "Wall hits: 164\n"
     ]
    },
    {
     "name": "stderr",
     "output_type": "stream",
     "text": [
      " 58%|█████▊    | 2901/5000 [46:54<33:34,  1.04it/s]"
     ]
    },
    {
     "name": "stdout",
     "output_type": "stream",
     "text": [
      "Iteration 2900: Avg Reward: 0.08, Avg Loss: 0.0436\n",
      "Fruits eaten: 304, Max fruits eaten: 328\n",
      "Wall hits: 2\n"
     ]
    },
    {
     "name": "stderr",
     "output_type": "stream",
     "text": [
      " 60%|██████    | 3001/5000 [48:30<31:59,  1.04it/s]"
     ]
    },
    {
     "name": "stdout",
     "output_type": "stream",
     "text": [
      "Iteration 3000: Avg Reward: 0.08, Avg Loss: 0.0413\n",
      "Fruits eaten: 63, Max fruits eaten: 328\n",
      "Wall hits: 143\n"
     ]
    },
    {
     "name": "stderr",
     "output_type": "stream",
     "text": [
      " 62%|██████▏   | 3101/5000 [50:07<30:48,  1.03it/s]"
     ]
    },
    {
     "name": "stdout",
     "output_type": "stream",
     "text": [
      "Iteration 3100: Avg Reward: 0.09, Avg Loss: 0.0334\n",
      "Fruits eaten: 271, Max fruits eaten: 328\n",
      "Wall hits: 11\n"
     ]
    },
    {
     "name": "stderr",
     "output_type": "stream",
     "text": [
      " 64%|██████▍   | 3201/5000 [51:43<28:41,  1.05it/s]"
     ]
    },
    {
     "name": "stdout",
     "output_type": "stream",
     "text": [
      "Iteration 3200: Avg Reward: 0.08, Avg Loss: 0.0386\n",
      "Fruits eaten: 218, Max fruits eaten: 328\n",
      "Wall hits: 0\n"
     ]
    },
    {
     "name": "stderr",
     "output_type": "stream",
     "text": [
      " 66%|██████▌   | 3301/5000 [53:19<27:06,  1.04it/s]"
     ]
    },
    {
     "name": "stdout",
     "output_type": "stream",
     "text": [
      "Iteration 3300: Avg Reward: 0.09, Avg Loss: 0.0357\n",
      "Fruits eaten: 264, Max fruits eaten: 328\n",
      "Wall hits: 9\n"
     ]
    },
    {
     "name": "stderr",
     "output_type": "stream",
     "text": [
      " 68%|██████▊   | 3401/5000 [54:56<25:49,  1.03it/s]"
     ]
    },
    {
     "name": "stdout",
     "output_type": "stream",
     "text": [
      "Iteration 3400: Avg Reward: 0.10, Avg Loss: 0.0358\n",
      "Fruits eaten: 257, Max fruits eaten: 328\n",
      "Wall hits: 8\n"
     ]
    },
    {
     "name": "stderr",
     "output_type": "stream",
     "text": [
      " 70%|███████   | 3501/5000 [56:33<24:16,  1.03it/s]"
     ]
    },
    {
     "name": "stdout",
     "output_type": "stream",
     "text": [
      "Iteration 3500: Avg Reward: 0.09, Avg Loss: 0.0428\n",
      "Fruits eaten: 257, Max fruits eaten: 328\n",
      "Wall hits: 8\n"
     ]
    },
    {
     "name": "stderr",
     "output_type": "stream",
     "text": [
      " 72%|███████▏  | 3601/5000 [58:10<22:15,  1.05it/s]"
     ]
    },
    {
     "name": "stdout",
     "output_type": "stream",
     "text": [
      "Iteration 3600: Avg Reward: 0.10, Avg Loss: 0.0427\n",
      "Fruits eaten: 317, Max fruits eaten: 328\n",
      "Wall hits: 1\n"
     ]
    },
    {
     "name": "stderr",
     "output_type": "stream",
     "text": [
      " 74%|███████▍  | 3701/5000 [59:46<20:59,  1.03it/s]"
     ]
    },
    {
     "name": "stdout",
     "output_type": "stream",
     "text": [
      "Iteration 3700: Avg Reward: 0.09, Avg Loss: 0.0490\n",
      "Fruits eaten: 80, Max fruits eaten: 328\n",
      "Wall hits: 132\n"
     ]
    },
    {
     "name": "stderr",
     "output_type": "stream",
     "text": [
      " 76%|███████▌  | 3801/5000 [1:01:26<21:51,  1.09s/it]"
     ]
    },
    {
     "name": "stdout",
     "output_type": "stream",
     "text": [
      "Iteration 3800: Avg Reward: 0.10, Avg Loss: 0.0501\n",
      "Fruits eaten: 256, Max fruits eaten: 328\n",
      "Wall hits: 0\n"
     ]
    },
    {
     "name": "stderr",
     "output_type": "stream",
     "text": [
      " 78%|███████▊  | 3901/5000 [1:03:06<17:51,  1.03it/s]"
     ]
    },
    {
     "name": "stdout",
     "output_type": "stream",
     "text": [
      "Iteration 3900: Avg Reward: 0.10, Avg Loss: 0.0416\n",
      "Fruits eaten: 246, Max fruits eaten: 328\n",
      "Wall hits: 4\n"
     ]
    },
    {
     "name": "stderr",
     "output_type": "stream",
     "text": [
      " 80%|████████  | 4001/5000 [1:04:45<16:15,  1.02it/s]"
     ]
    },
    {
     "name": "stdout",
     "output_type": "stream",
     "text": [
      "Iteration 4000: Avg Reward: 0.10, Avg Loss: 0.0408\n",
      "Fruits eaten: 293, Max fruits eaten: 328\n",
      "Wall hits: 2\n"
     ]
    },
    {
     "name": "stderr",
     "output_type": "stream",
     "text": [
      " 82%|████████▏ | 4101/5000 [1:06:23<14:41,  1.02it/s]"
     ]
    },
    {
     "name": "stdout",
     "output_type": "stream",
     "text": [
      "Iteration 4100: Avg Reward: 0.09, Avg Loss: 0.0441\n",
      "Fruits eaten: 283, Max fruits eaten: 328\n",
      "Wall hits: 1\n"
     ]
    },
    {
     "name": "stderr",
     "output_type": "stream",
     "text": [
      " 84%|████████▍ | 4201/5000 [1:08:02<12:59,  1.02it/s]"
     ]
    },
    {
     "name": "stdout",
     "output_type": "stream",
     "text": [
      "Iteration 4200: Avg Reward: 0.11, Avg Loss: 0.0337\n",
      "Fruits eaten: 65, Max fruits eaten: 328\n",
      "Wall hits: 141\n"
     ]
    },
    {
     "name": "stderr",
     "output_type": "stream",
     "text": [
      " 86%|████████▌ | 4301/5000 [1:09:39<11:20,  1.03it/s]"
     ]
    },
    {
     "name": "stdout",
     "output_type": "stream",
     "text": [
      "Iteration 4300: Avg Reward: 0.10, Avg Loss: 0.0417\n",
      "Fruits eaten: 69, Max fruits eaten: 328\n",
      "Wall hits: 127\n"
     ]
    },
    {
     "name": "stderr",
     "output_type": "stream",
     "text": [
      " 88%|████████▊ | 4401/5000 [1:11:17<09:49,  1.02it/s]"
     ]
    },
    {
     "name": "stdout",
     "output_type": "stream",
     "text": [
      "Iteration 4400: Avg Reward: 0.11, Avg Loss: 0.0414\n",
      "Fruits eaten: 281, Max fruits eaten: 328\n",
      "Wall hits: 4\n"
     ]
    },
    {
     "name": "stderr",
     "output_type": "stream",
     "text": [
      " 90%|█████████ | 4501/5000 [1:12:56<08:06,  1.03it/s]"
     ]
    },
    {
     "name": "stdout",
     "output_type": "stream",
     "text": [
      "Iteration 4500: Avg Reward: 0.11, Avg Loss: 0.0417\n",
      "Fruits eaten: 281, Max fruits eaten: 328\n",
      "Wall hits: 0\n"
     ]
    },
    {
     "name": "stderr",
     "output_type": "stream",
     "text": [
      " 92%|█████████▏| 4601/5000 [1:14:35<06:30,  1.02it/s]"
     ]
    },
    {
     "name": "stdout",
     "output_type": "stream",
     "text": [
      "Iteration 4600: Avg Reward: 0.11, Avg Loss: 0.0396\n",
      "Fruits eaten: 249, Max fruits eaten: 328\n",
      "Wall hits: 2\n"
     ]
    },
    {
     "name": "stderr",
     "output_type": "stream",
     "text": [
      " 94%|█████████▍| 4701/5000 [1:16:15<04:52,  1.02it/s]"
     ]
    },
    {
     "name": "stdout",
     "output_type": "stream",
     "text": [
      "Iteration 4700: Avg Reward: 0.11, Avg Loss: 0.0399\n",
      "Fruits eaten: 283, Max fruits eaten: 328\n",
      "Wall hits: 3\n"
     ]
    },
    {
     "name": "stderr",
     "output_type": "stream",
     "text": [
      " 96%|█████████▌| 4801/5000 [1:17:53<03:16,  1.01it/s]"
     ]
    },
    {
     "name": "stdout",
     "output_type": "stream",
     "text": [
      "Iteration 4800: Avg Reward: 0.11, Avg Loss: 0.0457\n",
      "Fruits eaten: 269, Max fruits eaten: 328\n",
      "Wall hits: 3\n"
     ]
    },
    {
     "name": "stderr",
     "output_type": "stream",
     "text": [
      " 98%|█████████▊| 4901/5000 [1:19:31<01:38,  1.01it/s]"
     ]
    },
    {
     "name": "stdout",
     "output_type": "stream",
     "text": [
      "Iteration 4900: Avg Reward: 0.12, Avg Loss: 0.0352\n",
      "Fruits eaten: 285, Max fruits eaten: 328\n",
      "Wall hits: 3\n"
     ]
    },
    {
     "name": "stderr",
     "output_type": "stream",
     "text": [
      "100%|██████████| 5000/5000 [1:21:09<00:00,  1.03it/s]"
     ]
    },
    {
     "name": "stdout",
     "output_type": "stream",
     "text": [
      "Model weights saved to weights/snake_dqn_weights.h5\n",
      "Weights saved to weights/snake_dqn_weights.h5\n"
     ]
    },
    {
     "name": "stderr",
     "output_type": "stream",
     "text": [
      "\n"
     ]
    }
   ],
   "source": [
    "rewards_history = []\n",
    "wall_hits = []\n",
    "fruits_eaten_ = []\n",
    "loss_history = []\n",
    "\n",
    "rewards_history, wall_hits, fruits_eaten_, loss_history = training(ITERATIONS, env_, agent, save_weights=True, save_path=\"weights/\", file_name=\"snake_dqn_weights.h5\")"
   ]
  },
  {
   "cell_type": "markdown",
   "metadata": {},
   "source": [
    "### Load the weights - DQN Agent"
   ]
  },
  {
   "cell_type": "code",
   "execution_count": null,
   "metadata": {},
   "outputs": [
    {
     "name": "stdout",
     "output_type": "stream",
     "text": [
      "Model weights loaded from snake_dqn_weights.h5\n"
     ]
    },
    {
     "name": "stderr",
     "output_type": "stream",
     "text": [
      "100%|██████████| 5000/5000 [02:26<00:00, 34.09it/s]"
     ]
    },
    {
     "name": "stdout",
     "output_type": "stream",
     "text": [
      "Avg Reward: 0.12\n",
      "Avg Wall Hits: 9.71\n",
      "Avg Fruits Eaten: 263.35\n"
     ]
    },
    {
     "name": "stderr",
     "output_type": "stream",
     "text": [
      "\n"
     ]
    }
   ],
   "source": [
    "env = get_env()\n",
    "agent = DQNAgent(state_shape=env.to_state().shape[1:], gamma=GAMMA, n_actions=4, epsilon_start=1., epsilon_end=0.05, epsilon_decay=0.9995, learning_rate=1e-4, target_update_freq=100)\n",
    "\n",
    "agent.load_weights(\"weights/snake_dqn_weights.h5\")\n",
    "agent.epsilon = agent.epsilon_end\n",
    "\n",
    "rewards_history_loaded = []\n",
    "wall_hits_loaded = []\n",
    "fruits_eaten_loaded = []\n",
    "\n",
    "for iteration in trange(ITERATIONS):\n",
    "    state = tf.constant(env.to_state())\n",
    "    actions = agent.select_action(state)\n",
    "    rewards = env.move(actions)\n",
    "    wall_hits_count = np.sum(rewards == env.HIT_WALL_REWARD)\n",
    "    wall_hits_loaded.append(wall_hits_count)\n",
    "    fruits_eaten_count = np.sum(rewards == env.FRUIT_REWARD)\n",
    "    fruits_eaten_loaded.append(fruits_eaten_count)\n",
    "    rewards_history_loaded.append(np.mean(rewards))\n",
    "    dones = np.isin(rewards.numpy().flatten(), [env.WIN_REWARD, env.HIT_WALL_REWARD, env.ATE_HIMSELF_REWARD])\n",
    "\n",
    "print(f\"Avg Reward: {np.mean(rewards_history_loaded):.2f}\")\n",
    "print(f\"Avg Wall Hits: {np.mean(wall_hits_loaded):.2f}\")\n",
    "print(f\"Avg Fruits Eaten: {np.mean(fruits_eaten_loaded):.2f}\")"
   ]
  },
  {
   "cell_type": "code",
   "execution_count": 32,
   "metadata": {},
   "outputs": [
    {
     "data": {
      "image/png": "[encoded data removed]",
      "text/plain": [
       "<Figure size 1000x500 with 1 Axes>"
      ]
     },
     "metadata": {},
     "output_type": "display_data"
    }
   ],
   "source": [
    "# Plot a bar chart of the average rewards, wall hits, and fruits eaten\n",
    "plt.figure(figsize=(10, 5))\n",
    "plt.bar(['Avg Reward', 'Avg Wall Hits', 'Avg Fruits Eaten'], [np.mean(rewards_history_loaded), np.mean(wall_hits_loaded), np.mean(fruits_eaten_loaded)], color=['blue', 'red', 'green'])\n",
    "plt.ylabel('Average Count')\n",
    "plt.title('Average Rewards, Wall Hits, and Fruits Eaten')\n",
    "plt.show()\n"
   ]
  },
  {
   "cell_type": "markdown",
   "metadata": {},
   "source": [
    "### Load the weights - Testing on Partially Observable Environment"
   ]
  },
  {
   "cell_type": "code",
   "execution_count": null,
   "metadata": {},
   "outputs": [
    {
     "name": "stdout",
     "output_type": "stream",
     "text": [
      "Model weights loaded from snake_dqn_weights.h5\n"
     ]
    },
    {
     "name": "stderr",
     "output_type": "stream",
     "text": [
      "100%|██████████| 5000/5000 [01:23<00:00, 59.63it/s]"
     ]
    },
    {
     "name": "stdout",
     "output_type": "stream",
     "text": [
      "Avg Reward: -0.09\n",
      "Avg Wall Hits: 931.52\n",
      "Avg Fruits Eaten: 3.33\n"
     ]
    },
    {
     "name": "stderr",
     "output_type": "stream",
     "text": [
      "\n"
     ]
    }
   ],
   "source": [
    "env = get_env(partially_observable=True)\n",
    "agent = DQNAgent(state_shape=env.to_state().shape[1:], gamma=GAMMA, n_actions=4, epsilon_start=1., epsilon_end=0.05, epsilon_decay=0.9995, learning_rate=1e-4, target_update_freq=100)\n",
    "\n",
    "agent.load_weights(\"weights/snake_dqn_weights.h5\")\n",
    "agent.epsilon = agent.epsilon_end\n",
    "\n",
    "rewards_history_loaded_po = []\n",
    "wall_hits_loaded_po = []\n",
    "fruits_eaten_loaded_po = []\n",
    "\n",
    "for iteration in trange(ITERATIONS):\n",
    "    state = tf.constant(env.to_state())\n",
    "    actions = agent.select_action(state)\n",
    "    rewards = env.move(actions)\n",
    "    wall_hits_count = np.sum(rewards == env.HIT_WALL_REWARD)\n",
    "    wall_hits_loaded_po.append(wall_hits_count)\n",
    "    fruits_eaten_count = np.sum(rewards == env.FRUIT_REWARD)\n",
    "    fruits_eaten_loaded_po.append(fruits_eaten_count)\n",
    "    rewards_history_loaded_po.append(np.mean(rewards))\n",
    "    dones = np.isin(rewards.numpy().flatten(), [env.WIN_REWARD, env.HIT_WALL_REWARD, env.ATE_HIMSELF_REWARD])\n",
    "\n",
    "print(f\"Avg Reward: {np.mean(rewards_history_loaded_po):.2f}\")\n",
    "print(f\"Avg Wall Hits: {np.mean(wall_hits_loaded_po):.2f}\")\n",
    "print(f\"Avg Fruits Eaten: {np.mean(fruits_eaten_loaded_po):.2f}\")"
   ]
  },
  {
   "cell_type": "code",
   "execution_count": 8,
   "metadata": {},
   "outputs": [
    {
     "data": {
      "image/png": "[encoded data removed]",
      "text/plain": [
       "<Figure size 1200x400 with 1 Axes>"
      ]
     },
     "metadata": {},
     "output_type": "display_data"
    }
   ],
   "source": [
    "window = 50  # Adjust window size for more/less smoothing\n",
    "\n",
    "def moving_average(data, window):\n",
    "    return np.convolve(data, np.ones(window)/window, mode='valid')\n",
    "\n",
    "plt.figure(figsize=(12, 4))\n",
    "\n",
    "plt.plot(moving_average(rewards_history_loaded, window), label='DQN Agent (Fully Observable)')\n",
    "plt.plot(moving_average(rewards_history_loaded_po, window), label='DQN Agent (Partially Observable)')\n",
    "# plt.plot(moving_average(random_rewards, window), label='Random Agent')\n",
    "# plt.plot(moving_average(heuristic_rewards, window), label='Heuristic Agent')\n",
    "plt.title('Average Reward per Episode')\n",
    "plt.xlabel('Iteration')\n",
    "plt.ylabel('Reward')\n",
    "plt.legend()\n",
    "plt.savefig(\"plots/rewards.png\", bbox_inches='tight')\n",
    "plt.show()\n",
    "plt.close()"
   ]
  },
  {
   "cell_type": "markdown",
   "metadata": {},
   "source": [
    "## A2C Agent"
   ]
  },
  {
   "cell_type": "markdown",
   "metadata": {},
   "source": [
    "### Training"
   ]
  },
  {
   "cell_type": "code",
   "execution_count": 9,
   "metadata": {},
   "outputs": [
    {
     "name": "stderr",
     "output_type": "stream",
     "text": [
      "  0%|          | 4/5000 [00:00<07:53, 10.56it/s]"
     ]
    },
    {
     "name": "stdout",
     "output_type": "stream",
     "text": [
      "Iteration 0: Avg Reward: -0.01, Avg Loss: 0.0126\n",
      "Fruits eaten: 31, Max fruits eaten: 31\n",
      "Wall hits: 219\n"
     ]
    },
    {
     "name": "stderr",
     "output_type": "stream",
     "text": [
      "  2%|▏         | 105/5000 [00:03<02:34, 31.78it/s]"
     ]
    },
    {
     "name": "stdout",
     "output_type": "stream",
     "text": [
      "Iteration 100: Avg Reward: -0.01, Avg Loss: 0.0064\n",
      "Fruits eaten: 22, Max fruits eaten: 31\n",
      "Wall hits: 206\n"
     ]
    },
    {
     "name": "stderr",
     "output_type": "stream",
     "text": [
      "  4%|▍         | 205/5000 [00:07<02:53, 27.59it/s]"
     ]
    },
    {
     "name": "stdout",
     "output_type": "stream",
     "text": [
      "Iteration 200: Avg Reward: -0.01, Avg Loss: 0.0014\n",
      "Fruits eaten: 15, Max fruits eaten: 31\n",
      "Wall hits: 184\n"
     ]
    },
    {
     "name": "stderr",
     "output_type": "stream",
     "text": [
      "  6%|▌         | 306/5000 [00:10<02:28, 31.67it/s]"
     ]
    },
    {
     "name": "stdout",
     "output_type": "stream",
     "text": [
      "Iteration 300: Avg Reward: -0.01, Avg Loss: -0.0041\n",
      "Fruits eaten: 23, Max fruits eaten: 31\n",
      "Wall hits: 182\n"
     ]
    },
    {
     "name": "stderr",
     "output_type": "stream",
     "text": [
      "  8%|▊         | 407/5000 [00:13<02:32, 30.04it/s]"
     ]
    },
    {
     "name": "stdout",
     "output_type": "stream",
     "text": [
      "Iteration 400: Avg Reward: -0.01, Avg Loss: -0.0108\n",
      "Fruits eaten: 19, Max fruits eaten: 31\n",
      "Wall hits: 210\n"
     ]
    },
    {
     "name": "stderr",
     "output_type": "stream",
     "text": [
      " 10%|█         | 505/5000 [00:17<03:04, 24.30it/s]"
     ]
    },
    {
     "name": "stdout",
     "output_type": "stream",
     "text": [
      "Iteration 500: Avg Reward: -0.01, Avg Loss: -0.0195\n",
      "Fruits eaten: 30, Max fruits eaten: 31\n",
      "Wall hits: 220\n"
     ]
    },
    {
     "name": "stderr",
     "output_type": "stream",
     "text": [
      " 12%|█▏        | 603/5000 [00:20<02:25, 30.21it/s]"
     ]
    },
    {
     "name": "stdout",
     "output_type": "stream",
     "text": [
      "Iteration 600: Avg Reward: -0.01, Avg Loss: -0.0227\n",
      "Fruits eaten: 16, Max fruits eaten: 31\n",
      "Wall hits: 121\n"
     ]
    },
    {
     "name": "stderr",
     "output_type": "stream",
     "text": [
      " 14%|█▍        | 705/5000 [00:24<02:46, 25.79it/s]"
     ]
    },
    {
     "name": "stdout",
     "output_type": "stream",
     "text": [
      "Iteration 700: Avg Reward: -0.01, Avg Loss: -0.0332\n",
      "Fruits eaten: 29, Max fruits eaten: 31\n",
      "Wall hits: 104\n"
     ]
    },
    {
     "name": "stderr",
     "output_type": "stream",
     "text": [
      " 16%|█▌        | 805/5000 [00:27<02:21, 29.55it/s]"
     ]
    },
    {
     "name": "stdout",
     "output_type": "stream",
     "text": [
      "Iteration 800: Avg Reward: -0.00, Avg Loss: -0.0404\n",
      "Fruits eaten: 22, Max fruits eaten: 31\n",
      "Wall hits: 67\n"
     ]
    },
    {
     "name": "stderr",
     "output_type": "stream",
     "text": [
      " 18%|█▊        | 903/5000 [00:31<02:20, 29.13it/s]"
     ]
    },
    {
     "name": "stdout",
     "output_type": "stream",
     "text": [
      "Iteration 900: Avg Reward: -0.00, Avg Loss: -0.0412\n",
      "Fruits eaten: 21, Max fruits eaten: 31\n",
      "Wall hits: 100\n"
     ]
    },
    {
     "name": "stderr",
     "output_type": "stream",
     "text": [
      " 20%|██        | 1007/5000 [00:34<02:14, 29.75it/s]"
     ]
    },
    {
     "name": "stdout",
     "output_type": "stream",
     "text": [
      "Iteration 1000: Avg Reward: -0.00, Avg Loss: -0.0402\n",
      "Fruits eaten: 25, Max fruits eaten: 31\n",
      "Wall hits: 33\n"
     ]
    },
    {
     "name": "stderr",
     "output_type": "stream",
     "text": [
      " 22%|██▏       | 1105/5000 [00:38<02:07, 30.60it/s]"
     ]
    },
    {
     "name": "stdout",
     "output_type": "stream",
     "text": [
      "Iteration 1100: Avg Reward: 0.00, Avg Loss: -0.0394\n",
      "Fruits eaten: 17, Max fruits eaten: 31\n",
      "Wall hits: 24\n"
     ]
    },
    {
     "name": "stderr",
     "output_type": "stream",
     "text": [
      " 24%|██▍       | 1206/5000 [00:41<02:12, 28.58it/s]"
     ]
    },
    {
     "name": "stdout",
     "output_type": "stream",
     "text": [
      "Iteration 1200: Avg Reward: 0.00, Avg Loss: -0.0410\n",
      "Fruits eaten: 32, Max fruits eaten: 32\n",
      "Wall hits: 19\n"
     ]
    },
    {
     "name": "stderr",
     "output_type": "stream",
     "text": [
      " 26%|██▌       | 1304/5000 [00:45<02:01, 30.42it/s]"
     ]
    },
    {
     "name": "stdout",
     "output_type": "stream",
     "text": [
      "Iteration 1300: Avg Reward: 0.01, Avg Loss: -0.0359\n",
      "Fruits eaten: 18, Max fruits eaten: 32\n",
      "Wall hits: 4\n"
     ]
    },
    {
     "name": "stderr",
     "output_type": "stream",
     "text": [
      " 28%|██▊       | 1406/5000 [00:48<02:01, 29.53it/s]"
     ]
    },
    {
     "name": "stdout",
     "output_type": "stream",
     "text": [
      "Iteration 1400: Avg Reward: 0.01, Avg Loss: -0.0403\n",
      "Fruits eaten: 46, Max fruits eaten: 46\n",
      "Wall hits: 18\n"
     ]
    },
    {
     "name": "stderr",
     "output_type": "stream",
     "text": [
      " 30%|███       | 1503/5000 [00:52<02:01, 28.75it/s]"
     ]
    },
    {
     "name": "stdout",
     "output_type": "stream",
     "text": [
      "Iteration 1500: Avg Reward: 0.01, Avg Loss: -0.0483\n",
      "Fruits eaten: 39, Max fruits eaten: 46\n",
      "Wall hits: 13\n"
     ]
    },
    {
     "name": "stderr",
     "output_type": "stream",
     "text": [
      " 32%|███▏      | 1605/5000 [00:55<02:19, 24.35it/s]"
     ]
    },
    {
     "name": "stdout",
     "output_type": "stream",
     "text": [
      "Iteration 1600: Avg Reward: 0.02, Avg Loss: -0.0584\n",
      "Fruits eaten: 59, Max fruits eaten: 59\n",
      "Wall hits: 14\n"
     ]
    },
    {
     "name": "stderr",
     "output_type": "stream",
     "text": [
      " 34%|███▍      | 1706/5000 [00:59<01:59, 27.59it/s]"
     ]
    },
    {
     "name": "stdout",
     "output_type": "stream",
     "text": [
      "Iteration 1700: Avg Reward: 0.02, Avg Loss: -0.0497\n",
      "Fruits eaten: 42, Max fruits eaten: 59\n",
      "Wall hits: 19\n"
     ]
    },
    {
     "name": "stderr",
     "output_type": "stream",
     "text": [
      " 36%|███▌      | 1803/5000 [01:03<02:04, 25.74it/s]"
     ]
    },
    {
     "name": "stdout",
     "output_type": "stream",
     "text": [
      "Iteration 1800: Avg Reward: 0.02, Avg Loss: -0.0449\n",
      "Fruits eaten: 62, Max fruits eaten: 62\n",
      "Wall hits: 18\n"
     ]
    },
    {
     "name": "stderr",
     "output_type": "stream",
     "text": [
      " 38%|███▊      | 1905/5000 [01:07<02:01, 25.40it/s]"
     ]
    },
    {
     "name": "stdout",
     "output_type": "stream",
     "text": [
      "Iteration 1900: Avg Reward: 0.02, Avg Loss: -0.0487\n",
      "Fruits eaten: 48, Max fruits eaten: 62\n",
      "Wall hits: 14\n"
     ]
    },
    {
     "name": "stderr",
     "output_type": "stream",
     "text": [
      " 40%|████      | 2004/5000 [01:10<02:08, 23.26it/s]"
     ]
    },
    {
     "name": "stdout",
     "output_type": "stream",
     "text": [
      "Iteration 2000: Avg Reward: 0.02, Avg Loss: -0.0498\n",
      "Fruits eaten: 57, Max fruits eaten: 62\n",
      "Wall hits: 10\n"
     ]
    },
    {
     "name": "stderr",
     "output_type": "stream",
     "text": [
      " 42%|████▏     | 2105/5000 [01:15<02:03, 23.48it/s]"
     ]
    },
    {
     "name": "stdout",
     "output_type": "stream",
     "text": [
      "Iteration 2100: Avg Reward: 0.02, Avg Loss: -0.0460\n",
      "Fruits eaten: 60, Max fruits eaten: 62\n",
      "Wall hits: 13\n"
     ]
    },
    {
     "name": "stderr",
     "output_type": "stream",
     "text": [
      " 44%|████▍     | 2204/5000 [01:18<01:58, 23.52it/s]"
     ]
    },
    {
     "name": "stdout",
     "output_type": "stream",
     "text": [
      "Iteration 2200: Avg Reward: 0.03, Avg Loss: -0.0420\n",
      "Fruits eaten: 61, Max fruits eaten: 62\n",
      "Wall hits: 7\n"
     ]
    },
    {
     "name": "stderr",
     "output_type": "stream",
     "text": [
      " 46%|████▌     | 2303/5000 [01:22<01:55, 23.33it/s]"
     ]
    },
    {
     "name": "stdout",
     "output_type": "stream",
     "text": [
      "Iteration 2300: Avg Reward: 0.03, Avg Loss: -0.0414\n",
      "Fruits eaten: 64, Max fruits eaten: 64\n",
      "Wall hits: 12\n"
     ]
    },
    {
     "name": "stderr",
     "output_type": "stream",
     "text": [
      " 48%|████▊     | 2405/5000 [01:26<01:37, 26.57it/s]"
     ]
    },
    {
     "name": "stdout",
     "output_type": "stream",
     "text": [
      "Iteration 2400: Avg Reward: 0.03, Avg Loss: -0.0404\n",
      "Fruits eaten: 63, Max fruits eaten: 64\n",
      "Wall hits: 10\n"
     ]
    },
    {
     "name": "stderr",
     "output_type": "stream",
     "text": [
      " 50%|█████     | 2505/5000 [01:31<01:43, 24.21it/s]"
     ]
    },
    {
     "name": "stdout",
     "output_type": "stream",
     "text": [
      "Iteration 2500: Avg Reward: 0.03, Avg Loss: -0.0310\n",
      "Fruits eaten: 70, Max fruits eaten: 70\n",
      "Wall hits: 9\n"
     ]
    },
    {
     "name": "stderr",
     "output_type": "stream",
     "text": [
      " 52%|█████▏    | 2604/5000 [01:35<01:43, 23.23it/s]"
     ]
    },
    {
     "name": "stdout",
     "output_type": "stream",
     "text": [
      "Iteration 2600: Avg Reward: 0.03, Avg Loss: -0.0331\n",
      "Fruits eaten: 80, Max fruits eaten: 80\n",
      "Wall hits: 5\n"
     ]
    },
    {
     "name": "stderr",
     "output_type": "stream",
     "text": [
      " 54%|█████▍    | 2703/5000 [01:39<01:39, 23.14it/s]"
     ]
    },
    {
     "name": "stdout",
     "output_type": "stream",
     "text": [
      "Iteration 2700: Avg Reward: 0.03, Avg Loss: -0.0274\n",
      "Fruits eaten: 79, Max fruits eaten: 80\n",
      "Wall hits: 6\n"
     ]
    },
    {
     "name": "stderr",
     "output_type": "stream",
     "text": [
      " 56%|█████▌    | 2805/5000 [01:43<01:21, 27.09it/s]"
     ]
    },
    {
     "name": "stdout",
     "output_type": "stream",
     "text": [
      "Iteration 2800: Avg Reward: 0.04, Avg Loss: -0.0251\n",
      "Fruits eaten: 73, Max fruits eaten: 80\n",
      "Wall hits: 8\n"
     ]
    },
    {
     "name": "stderr",
     "output_type": "stream",
     "text": [
      " 58%|█████▊    | 2904/5000 [01:47<01:31, 22.93it/s]"
     ]
    },
    {
     "name": "stdout",
     "output_type": "stream",
     "text": [
      "Iteration 2900: Avg Reward: 0.04, Avg Loss: -0.0214\n",
      "Fruits eaten: 91, Max fruits eaten: 91\n",
      "Wall hits: 0\n"
     ]
    },
    {
     "name": "stderr",
     "output_type": "stream",
     "text": [
      " 60%|██████    | 3003/5000 [01:51<01:30, 22.15it/s]"
     ]
    },
    {
     "name": "stdout",
     "output_type": "stream",
     "text": [
      "Iteration 3000: Avg Reward: 0.04, Avg Loss: -0.0227\n",
      "Fruits eaten: 76, Max fruits eaten: 91\n",
      "Wall hits: 4\n"
     ]
    },
    {
     "name": "stderr",
     "output_type": "stream",
     "text": [
      " 62%|██████▏   | 3105/5000 [01:56<01:17, 24.47it/s]"
     ]
    },
    {
     "name": "stdout",
     "output_type": "stream",
     "text": [
      "Iteration 3100: Avg Reward: 0.04, Avg Loss: -0.0184\n",
      "Fruits eaten: 105, Max fruits eaten: 105\n",
      "Wall hits: 3\n"
     ]
    },
    {
     "name": "stderr",
     "output_type": "stream",
     "text": [
      " 64%|██████▍   | 3204/5000 [02:00<01:21, 22.08it/s]"
     ]
    },
    {
     "name": "stdout",
     "output_type": "stream",
     "text": [
      "Iteration 3200: Avg Reward: 0.04, Avg Loss: -0.0076\n",
      "Fruits eaten: 110, Max fruits eaten: 110\n",
      "Wall hits: 7\n"
     ]
    },
    {
     "name": "stderr",
     "output_type": "stream",
     "text": [
      " 66%|██████▌   | 3306/5000 [02:04<01:07, 24.97it/s]"
     ]
    },
    {
     "name": "stdout",
     "output_type": "stream",
     "text": [
      "Iteration 3300: Avg Reward: 0.05, Avg Loss: -0.0193\n",
      "Fruits eaten: 91, Max fruits eaten: 110\n",
      "Wall hits: 5\n"
     ]
    },
    {
     "name": "stderr",
     "output_type": "stream",
     "text": [
      " 68%|██████▊   | 3405/5000 [02:09<01:12, 22.13it/s]"
     ]
    },
    {
     "name": "stdout",
     "output_type": "stream",
     "text": [
      "Iteration 3400: Avg Reward: 0.05, Avg Loss: -0.0046\n",
      "Fruits eaten: 121, Max fruits eaten: 121\n",
      "Wall hits: 4\n"
     ]
    },
    {
     "name": "stderr",
     "output_type": "stream",
     "text": [
      " 70%|███████   | 3504/5000 [02:13<00:57, 26.03it/s]"
     ]
    },
    {
     "name": "stdout",
     "output_type": "stream",
     "text": [
      "Iteration 3500: Avg Reward: 0.05, Avg Loss: -0.0068\n",
      "Fruits eaten: 101, Max fruits eaten: 121\n",
      "Wall hits: 4\n"
     ]
    },
    {
     "name": "stderr",
     "output_type": "stream",
     "text": [
      " 72%|███████▏  | 3603/5000 [02:17<01:05, 21.34it/s]"
     ]
    },
    {
     "name": "stdout",
     "output_type": "stream",
     "text": [
      "Iteration 3600: Avg Reward: 0.05, Avg Loss: -0.0032\n",
      "Fruits eaten: 127, Max fruits eaten: 127\n",
      "Wall hits: 7\n"
     ]
    },
    {
     "name": "stderr",
     "output_type": "stream",
     "text": [
      " 74%|███████▍  | 3705/5000 [02:21<00:52, 24.57it/s]"
     ]
    },
    {
     "name": "stdout",
     "output_type": "stream",
     "text": [
      "Iteration 3700: Avg Reward: 0.05, Avg Loss: -0.0022\n",
      "Fruits eaten: 102, Max fruits eaten: 127\n",
      "Wall hits: 3\n"
     ]
    },
    {
     "name": "stderr",
     "output_type": "stream",
     "text": [
      " 76%|███████▌  | 3804/5000 [02:26<00:54, 21.76it/s]"
     ]
    },
    {
     "name": "stdout",
     "output_type": "stream",
     "text": [
      "Iteration 3800: Avg Reward: 0.05, Avg Loss: 0.0061\n",
      "Fruits eaten: 117, Max fruits eaten: 127\n",
      "Wall hits: 2\n"
     ]
    },
    {
     "name": "stderr",
     "output_type": "stream",
     "text": [
      " 78%|███████▊  | 3903/5000 [02:30<00:49, 22.31it/s]"
     ]
    },
    {
     "name": "stdout",
     "output_type": "stream",
     "text": [
      "Iteration 3900: Avg Reward: 0.05, Avg Loss: 0.0012\n",
      "Fruits eaten: 124, Max fruits eaten: 127\n",
      "Wall hits: 3\n"
     ]
    },
    {
     "name": "stderr",
     "output_type": "stream",
     "text": [
      " 80%|████████  | 4005/5000 [02:35<00:39, 25.22it/s]"
     ]
    },
    {
     "name": "stdout",
     "output_type": "stream",
     "text": [
      "Iteration 4000: Avg Reward: 0.05, Avg Loss: 0.0099\n",
      "Fruits eaten: 120, Max fruits eaten: 127\n",
      "Wall hits: 2\n"
     ]
    },
    {
     "name": "stderr",
     "output_type": "stream",
     "text": [
      " 82%|████████▏ | 4104/5000 [02:39<00:44, 20.22it/s]"
     ]
    },
    {
     "name": "stdout",
     "output_type": "stream",
     "text": [
      "Iteration 4100: Avg Reward: 0.06, Avg Loss: 0.0065\n",
      "Fruits eaten: 112, Max fruits eaten: 127\n",
      "Wall hits: 1\n"
     ]
    },
    {
     "name": "stderr",
     "output_type": "stream",
     "text": [
      " 84%|████████▍ | 4203/5000 [02:44<00:37, 21.44it/s]"
     ]
    },
    {
     "name": "stdout",
     "output_type": "stream",
     "text": [
      "Iteration 4200: Avg Reward: 0.06, Avg Loss: 0.0137\n",
      "Fruits eaten: 122, Max fruits eaten: 127\n",
      "Wall hits: 0\n"
     ]
    },
    {
     "name": "stderr",
     "output_type": "stream",
     "text": [
      " 86%|████████▌ | 4305/5000 [02:48<00:32, 21.44it/s]"
     ]
    },
    {
     "name": "stdout",
     "output_type": "stream",
     "text": [
      "Iteration 4300: Avg Reward: 0.06, Avg Loss: 0.0119\n",
      "Fruits eaten: 136, Max fruits eaten: 136\n",
      "Wall hits: 1\n"
     ]
    },
    {
     "name": "stderr",
     "output_type": "stream",
     "text": [
      " 88%|████████▊ | 4404/5000 [02:53<00:29, 20.53it/s]"
     ]
    },
    {
     "name": "stdout",
     "output_type": "stream",
     "text": [
      "Iteration 4400: Avg Reward: 0.06, Avg Loss: 0.0129\n",
      "Fruits eaten: 131, Max fruits eaten: 136\n",
      "Wall hits: 0\n"
     ]
    },
    {
     "name": "stderr",
     "output_type": "stream",
     "text": [
      " 90%|█████████ | 4503/5000 [02:57<00:24, 20.39it/s]"
     ]
    },
    {
     "name": "stdout",
     "output_type": "stream",
     "text": [
      "Iteration 4500: Avg Reward: 0.06, Avg Loss: 0.0120\n",
      "Fruits eaten: 123, Max fruits eaten: 136\n",
      "Wall hits: 2\n"
     ]
    },
    {
     "name": "stderr",
     "output_type": "stream",
     "text": [
      " 92%|█████████▏| 4605/5000 [03:02<00:18, 21.93it/s]"
     ]
    },
    {
     "name": "stdout",
     "output_type": "stream",
     "text": [
      "Iteration 4600: Avg Reward: 0.06, Avg Loss: 0.0139\n",
      "Fruits eaten: 142, Max fruits eaten: 142\n",
      "Wall hits: 0\n"
     ]
    },
    {
     "name": "stderr",
     "output_type": "stream",
     "text": [
      " 94%|█████████▍| 4704/5000 [03:07<00:13, 21.73it/s]"
     ]
    },
    {
     "name": "stdout",
     "output_type": "stream",
     "text": [
      "Iteration 4700: Avg Reward: 0.06, Avg Loss: 0.0143\n",
      "Fruits eaten: 131, Max fruits eaten: 142\n",
      "Wall hits: 1\n"
     ]
    },
    {
     "name": "stderr",
     "output_type": "stream",
     "text": [
      " 96%|█████████▌| 4803/5000 [03:11<00:07, 24.97it/s]"
     ]
    },
    {
     "name": "stdout",
     "output_type": "stream",
     "text": [
      "Iteration 4800: Avg Reward: 0.06, Avg Loss: 0.0212\n",
      "Fruits eaten: 132, Max fruits eaten: 142\n",
      "Wall hits: 1\n"
     ]
    },
    {
     "name": "stderr",
     "output_type": "stream",
     "text": [
      " 98%|█████████▊| 4905/5000 [03:15<00:04, 22.12it/s]"
     ]
    },
    {
     "name": "stdout",
     "output_type": "stream",
     "text": [
      "Iteration 4900: Avg Reward: 0.06, Avg Loss: 0.0235\n",
      "Fruits eaten: 125, Max fruits eaten: 142\n",
      "Wall hits: 1\n"
     ]
    },
    {
     "name": "stderr",
     "output_type": "stream",
     "text": [
      "100%|██████████| 5000/5000 [03:20<00:00, 24.96it/s]"
     ]
    },
    {
     "name": "stdout",
     "output_type": "stream",
     "text": [
      "Model weights saved to weights/snake_a2c_weights.h5\n",
      "Weights saved to weights/snake_a2c_weights.h5\n"
     ]
    },
    {
     "name": "stderr",
     "output_type": "stream",
     "text": [
      "\n"
     ]
    }
   ],
   "source": [
    "from a2c import A2CAgent\n",
    "\n",
    "rewards_history_ac = []\n",
    "wall_hits_ac = []\n",
    "fruits_eaten_ac = []\n",
    "loss_history_ac = []\n",
    "\n",
    "env_ = get_env()\n",
    "\n",
    "agent = A2CAgent(state_shape=env_.to_state().shape[1:], n_actions=4, gamma=GAMMA, learning_rate=5e-5, entropy_beta=0.0001)\n",
    "\n",
    "rewards_history_ac, wall_hits_ac, fruits_eaten_ac, loss_history_ac = training(ITERATIONS, env_, agent, save_weights=True, save_path=\"weights/\", file_name=\"snake_a2c_weights.h5\")"
   ]
  },
  {
   "cell_type": "markdown",
   "metadata": {},
   "source": [
    "## Double DQN"
   ]
  },
  {
   "cell_type": "markdown",
   "metadata": {},
   "source": [
    "### Training"
   ]
  },
  {
   "cell_type": "code",
   "execution_count": 10,
   "metadata": {},
   "outputs": [
    {
     "name": "stderr",
     "output_type": "stream",
     "text": [
      "  0%|          | 1/5000 [00:01<1:53:19,  1.36s/it]"
     ]
    },
    {
     "name": "stdout",
     "output_type": "stream",
     "text": [
      "Iteration 0: Avg Reward: -0.00, Avg Loss: 0.0230\n",
      "Fruits eaten: 36, Max fruits eaten: 36\n",
      "Wall hits: 192\n"
     ]
    },
    {
     "name": "stderr",
     "output_type": "stream",
     "text": [
      "  2%|▏         | 101/5000 [01:43<1:17:04,  1.06it/s]"
     ]
    },
    {
     "name": "stdout",
     "output_type": "stream",
     "text": [
      "Iteration 100: Avg Reward: -0.01, Avg Loss: 0.0109\n",
      "Fruits eaten: 9, Max fruits eaten: 36\n",
      "Wall hits: 201\n"
     ]
    },
    {
     "name": "stderr",
     "output_type": "stream",
     "text": [
      "  4%|▍         | 201/5000 [03:20<1:18:42,  1.02it/s]"
     ]
    },
    {
     "name": "stdout",
     "output_type": "stream",
     "text": [
      "Iteration 200: Avg Reward: -0.01, Avg Loss: 0.0071\n",
      "Fruits eaten: 30, Max fruits eaten: 36\n",
      "Wall hits: 1\n"
     ]
    },
    {
     "name": "stderr",
     "output_type": "stream",
     "text": [
      "  6%|▌         | 301/5000 [05:04<1:14:57,  1.04it/s]"
     ]
    },
    {
     "name": "stdout",
     "output_type": "stream",
     "text": [
      "Iteration 300: Avg Reward: -0.01, Avg Loss: 0.0065\n",
      "Fruits eaten: 42, Max fruits eaten: 42\n",
      "Wall hits: 2\n"
     ]
    },
    {
     "name": "stderr",
     "output_type": "stream",
     "text": [
      "  8%|▊         | 401/5000 [06:44<1:23:45,  1.09s/it]"
     ]
    },
    {
     "name": "stdout",
     "output_type": "stream",
     "text": [
      "Iteration 400: Avg Reward: -0.01, Avg Loss: 0.0068\n",
      "Fruits eaten: 44, Max fruits eaten: 44\n",
      "Wall hits: 2\n"
     ]
    },
    {
     "name": "stderr",
     "output_type": "stream",
     "text": [
      " 10%|█         | 501/5000 [08:31<1:18:35,  1.05s/it]"
     ]
    },
    {
     "name": "stdout",
     "output_type": "stream",
     "text": [
      "Iteration 500: Avg Reward: -0.01, Avg Loss: 0.0065\n",
      "Fruits eaten: 17, Max fruits eaten: 44\n",
      "Wall hits: 188\n"
     ]
    },
    {
     "name": "stderr",
     "output_type": "stream",
     "text": [
      " 12%|█▏        | 601/5000 [10:22<1:19:01,  1.08s/it]"
     ]
    },
    {
     "name": "stdout",
     "output_type": "stream",
     "text": [
      "Iteration 600: Avg Reward: -0.00, Avg Loss: 0.0079\n",
      "Fruits eaten: 17, Max fruits eaten: 44\n",
      "Wall hits: 205\n"
     ]
    },
    {
     "name": "stderr",
     "output_type": "stream",
     "text": [
      " 14%|█▍        | 701/5000 [12:13<1:14:39,  1.04s/it]"
     ]
    },
    {
     "name": "stdout",
     "output_type": "stream",
     "text": [
      "Iteration 700: Avg Reward: -0.00, Avg Loss: 0.0081\n",
      "Fruits eaten: 21, Max fruits eaten: 44\n",
      "Wall hits: 185\n"
     ]
    },
    {
     "name": "stderr",
     "output_type": "stream",
     "text": [
      " 16%|█▌        | 801/5000 [13:55<1:13:07,  1.04s/it]"
     ]
    },
    {
     "name": "stdout",
     "output_type": "stream",
     "text": [
      "Iteration 800: Avg Reward: 0.00, Avg Loss: 0.0096\n",
      "Fruits eaten: 49, Max fruits eaten: 49\n",
      "Wall hits: 149\n"
     ]
    },
    {
     "name": "stderr",
     "output_type": "stream",
     "text": [
      " 18%|█▊        | 901/5000 [15:40<1:05:34,  1.04it/s]"
     ]
    },
    {
     "name": "stdout",
     "output_type": "stream",
     "text": [
      "Iteration 900: Avg Reward: -0.00, Avg Loss: 0.0093\n",
      "Fruits eaten: 20, Max fruits eaten: 49\n",
      "Wall hits: 193\n"
     ]
    },
    {
     "name": "stderr",
     "output_type": "stream",
     "text": [
      " 20%|██        | 1001/5000 [17:21<1:02:34,  1.06it/s]"
     ]
    },
    {
     "name": "stdout",
     "output_type": "stream",
     "text": [
      "Iteration 1000: Avg Reward: 0.01, Avg Loss: 0.0106\n",
      "Fruits eaten: 113, Max fruits eaten: 113\n",
      "Wall hits: 2\n"
     ]
    },
    {
     "name": "stderr",
     "output_type": "stream",
     "text": [
      " 22%|██▏       | 1101/5000 [18:54<1:01:29,  1.06it/s]"
     ]
    },
    {
     "name": "stdout",
     "output_type": "stream",
     "text": [
      "Iteration 1100: Avg Reward: 0.02, Avg Loss: 0.0136\n",
      "Fruits eaten: 110, Max fruits eaten: 113\n",
      "Wall hits: 2\n"
     ]
    },
    {
     "name": "stderr",
     "output_type": "stream",
     "text": [
      " 24%|██▍       | 1201/5000 [20:30<1:03:11,  1.00it/s]"
     ]
    },
    {
     "name": "stdout",
     "output_type": "stream",
     "text": [
      "Iteration 1200: Avg Reward: 0.02, Avg Loss: 0.0145\n",
      "Fruits eaten: 24, Max fruits eaten: 113\n",
      "Wall hits: 176\n"
     ]
    },
    {
     "name": "stderr",
     "output_type": "stream",
     "text": [
      " 26%|██▌       | 1301/5000 [22:12<58:28,  1.05it/s]  "
     ]
    },
    {
     "name": "stdout",
     "output_type": "stream",
     "text": [
      "Iteration 1300: Avg Reward: 0.04, Avg Loss: 0.0150\n",
      "Fruits eaten: 89, Max fruits eaten: 113\n",
      "Wall hits: 2\n"
     ]
    },
    {
     "name": "stderr",
     "output_type": "stream",
     "text": [
      " 28%|██▊       | 1401/5000 [23:59<1:02:48,  1.05s/it]"
     ]
    },
    {
     "name": "stdout",
     "output_type": "stream",
     "text": [
      "Iteration 1400: Avg Reward: 0.04, Avg Loss: 0.0190\n",
      "Fruits eaten: 31, Max fruits eaten: 113\n",
      "Wall hits: 158\n"
     ]
    },
    {
     "name": "stderr",
     "output_type": "stream",
     "text": [
      " 30%|███       | 1501/5000 [25:42<59:53,  1.03s/it]  "
     ]
    },
    {
     "name": "stdout",
     "output_type": "stream",
     "text": [
      "Iteration 1500: Avg Reward: 0.04, Avg Loss: 0.0212\n",
      "Fruits eaten: 118, Max fruits eaten: 118\n",
      "Wall hits: 6\n"
     ]
    },
    {
     "name": "stderr",
     "output_type": "stream",
     "text": [
      " 32%|███▏      | 1601/5000 [27:28<53:18,  1.06it/s]  "
     ]
    },
    {
     "name": "stdout",
     "output_type": "stream",
     "text": [
      "Iteration 1600: Avg Reward: 0.04, Avg Loss: 0.0231\n",
      "Fruits eaten: 32, Max fruits eaten: 118\n",
      "Wall hits: 146\n"
     ]
    },
    {
     "name": "stderr",
     "output_type": "stream",
     "text": [
      " 34%|███▍      | 1701/5000 [29:05<1:07:29,  1.23s/it]"
     ]
    },
    {
     "name": "stdout",
     "output_type": "stream",
     "text": [
      "Iteration 1700: Avg Reward: 0.04, Avg Loss: 0.0243\n",
      "Fruits eaten: 137, Max fruits eaten: 137\n",
      "Wall hits: 3\n"
     ]
    },
    {
     "name": "stderr",
     "output_type": "stream",
     "text": [
      " 36%|███▌      | 1801/5000 [30:48<52:45,  1.01it/s]  "
     ]
    },
    {
     "name": "stdout",
     "output_type": "stream",
     "text": [
      "Iteration 1800: Avg Reward: 0.05, Avg Loss: 0.0269\n",
      "Fruits eaten: 28, Max fruits eaten: 137\n",
      "Wall hits: 150\n"
     ]
    },
    {
     "name": "stderr",
     "output_type": "stream",
     "text": [
      " 38%|███▊      | 1901/5000 [32:28<57:51,  1.12s/it]"
     ]
    },
    {
     "name": "stdout",
     "output_type": "stream",
     "text": [
      "Iteration 1900: Avg Reward: 0.05, Avg Loss: 0.0292\n",
      "Fruits eaten: 233, Max fruits eaten: 233\n",
      "Wall hits: 1\n"
     ]
    },
    {
     "name": "stderr",
     "output_type": "stream",
     "text": [
      " 40%|████      | 2001/5000 [34:13<53:56,  1.08s/it]  "
     ]
    },
    {
     "name": "stdout",
     "output_type": "stream",
     "text": [
      "Iteration 2000: Avg Reward: 0.06, Avg Loss: 0.0282\n",
      "Fruits eaten: 66, Max fruits eaten: 233\n",
      "Wall hits: 121\n"
     ]
    },
    {
     "name": "stderr",
     "output_type": "stream",
     "text": [
      " 42%|████▏     | 2101/5000 [36:00<54:51,  1.14s/it]"
     ]
    },
    {
     "name": "stdout",
     "output_type": "stream",
     "text": [
      "Iteration 2100: Avg Reward: 0.07, Avg Loss: 0.0299\n",
      "Fruits eaten: 285, Max fruits eaten: 285\n",
      "Wall hits: 4\n"
     ]
    },
    {
     "name": "stderr",
     "output_type": "stream",
     "text": [
      " 44%|████▍     | 2201/5000 [37:45<47:28,  1.02s/it]"
     ]
    },
    {
     "name": "stdout",
     "output_type": "stream",
     "text": [
      "Iteration 2200: Avg Reward: 0.06, Avg Loss: 0.0343\n",
      "Fruits eaten: 96, Max fruits eaten: 285\n",
      "Wall hits: 115\n"
     ]
    },
    {
     "name": "stderr",
     "output_type": "stream",
     "text": [
      " 46%|████▌     | 2301/5000 [39:29<47:29,  1.06s/it]"
     ]
    },
    {
     "name": "stdout",
     "output_type": "stream",
     "text": [
      "Iteration 2300: Avg Reward: 0.07, Avg Loss: 0.0330\n",
      "Fruits eaten: 256, Max fruits eaten: 285\n",
      "Wall hits: 10\n"
     ]
    },
    {
     "name": "stderr",
     "output_type": "stream",
     "text": [
      " 48%|████▊     | 2401/5000 [41:17<44:17,  1.02s/it]"
     ]
    },
    {
     "name": "stdout",
     "output_type": "stream",
     "text": [
      "Iteration 2400: Avg Reward: 0.06, Avg Loss: 0.0347\n",
      "Fruits eaten: 75, Max fruits eaten: 285\n",
      "Wall hits: 137\n"
     ]
    },
    {
     "name": "stderr",
     "output_type": "stream",
     "text": [
      " 50%|█████     | 2501/5000 [43:02<40:33,  1.03it/s]"
     ]
    },
    {
     "name": "stdout",
     "output_type": "stream",
     "text": [
      "Iteration 2500: Avg Reward: 0.07, Avg Loss: 0.0381\n",
      "Fruits eaten: 240, Max fruits eaten: 285\n",
      "Wall hits: 1\n"
     ]
    },
    {
     "name": "stderr",
     "output_type": "stream",
     "text": [
      " 52%|█████▏    | 2601/5000 [44:41<39:10,  1.02it/s]"
     ]
    },
    {
     "name": "stdout",
     "output_type": "stream",
     "text": [
      "Iteration 2600: Avg Reward: 0.08, Avg Loss: 0.0376\n",
      "Fruits eaten: 65, Max fruits eaten: 285\n",
      "Wall hits: 116\n"
     ]
    },
    {
     "name": "stderr",
     "output_type": "stream",
     "text": [
      " 54%|█████▍    | 2701/5000 [46:20<37:22,  1.03it/s]"
     ]
    },
    {
     "name": "stdout",
     "output_type": "stream",
     "text": [
      "Iteration 2700: Avg Reward: 0.07, Avg Loss: 0.0393\n",
      "Fruits eaten: 80, Max fruits eaten: 285\n",
      "Wall hits: 113\n"
     ]
    },
    {
     "name": "stderr",
     "output_type": "stream",
     "text": [
      " 56%|█████▌    | 2801/5000 [47:59<35:48,  1.02it/s]"
     ]
    },
    {
     "name": "stdout",
     "output_type": "stream",
     "text": [
      "Iteration 2800: Avg Reward: 0.08, Avg Loss: 0.0343\n",
      "Fruits eaten: 81, Max fruits eaten: 285\n",
      "Wall hits: 91\n"
     ]
    },
    {
     "name": "stderr",
     "output_type": "stream",
     "text": [
      " 58%|█████▊    | 2901/5000 [49:38<34:33,  1.01it/s]"
     ]
    },
    {
     "name": "stdout",
     "output_type": "stream",
     "text": [
      "Iteration 2900: Avg Reward: 0.10, Avg Loss: 0.0294\n",
      "Fruits eaten: 243, Max fruits eaten: 285\n",
      "Wall hits: 18\n"
     ]
    },
    {
     "name": "stderr",
     "output_type": "stream",
     "text": [
      " 60%|██████    | 3001/5000 [51:17<33:31,  1.01s/it]"
     ]
    },
    {
     "name": "stdout",
     "output_type": "stream",
     "text": [
      "Iteration 3000: Avg Reward: 0.08, Avg Loss: 0.0403\n",
      "Fruits eaten: 291, Max fruits eaten: 291\n",
      "Wall hits: 1\n"
     ]
    },
    {
     "name": "stderr",
     "output_type": "stream",
     "text": [
      " 62%|██████▏   | 3101/5000 [52:55<31:04,  1.02it/s]"
     ]
    },
    {
     "name": "stdout",
     "output_type": "stream",
     "text": [
      "Iteration 3100: Avg Reward: 0.08, Avg Loss: 0.0377\n",
      "Fruits eaten: 128, Max fruits eaten: 291\n",
      "Wall hits: 3\n"
     ]
    },
    {
     "name": "stderr",
     "output_type": "stream",
     "text": [
      " 64%|██████▍   | 3201/5000 [54:34<29:32,  1.02it/s]"
     ]
    },
    {
     "name": "stdout",
     "output_type": "stream",
     "text": [
      "Iteration 3200: Avg Reward: 0.09, Avg Loss: 0.0402\n",
      "Fruits eaten: 330, Max fruits eaten: 330\n",
      "Wall hits: 3\n"
     ]
    },
    {
     "name": "stderr",
     "output_type": "stream",
     "text": [
      " 66%|██████▌   | 3301/5000 [56:13<27:39,  1.02it/s]"
     ]
    },
    {
     "name": "stdout",
     "output_type": "stream",
     "text": [
      "Iteration 3300: Avg Reward: 0.08, Avg Loss: 0.0427\n",
      "Fruits eaten: 143, Max fruits eaten: 330\n",
      "Wall hits: 1\n"
     ]
    },
    {
     "name": "stderr",
     "output_type": "stream",
     "text": [
      " 68%|██████▊   | 3401/5000 [57:52<26:11,  1.02it/s]"
     ]
    },
    {
     "name": "stdout",
     "output_type": "stream",
     "text": [
      "Iteration 3400: Avg Reward: 0.10, Avg Loss: 0.0311\n",
      "Fruits eaten: 264, Max fruits eaten: 330\n",
      "Wall hits: 4\n"
     ]
    },
    {
     "name": "stderr",
     "output_type": "stream",
     "text": [
      " 70%|███████   | 3501/5000 [59:35<27:46,  1.11s/it]"
     ]
    },
    {
     "name": "stdout",
     "output_type": "stream",
     "text": [
      "Iteration 3500: Avg Reward: 0.10, Avg Loss: 0.0314\n",
      "Fruits eaten: 82, Max fruits eaten: 330\n",
      "Wall hits: 110\n"
     ]
    },
    {
     "name": "stderr",
     "output_type": "stream",
     "text": [
      " 72%|███████▏  | 3601/5000 [1:01:11<22:08,  1.05it/s]"
     ]
    },
    {
     "name": "stdout",
     "output_type": "stream",
     "text": [
      "Iteration 3600: Avg Reward: 0.09, Avg Loss: 0.0337\n",
      "Fruits eaten: 238, Max fruits eaten: 330\n",
      "Wall hits: 2\n"
     ]
    },
    {
     "name": "stderr",
     "output_type": "stream",
     "text": [
      " 74%|███████▍  | 3701/5000 [1:02:47<20:29,  1.06it/s]"
     ]
    },
    {
     "name": "stdout",
     "output_type": "stream",
     "text": [
      "Iteration 3700: Avg Reward: 0.10, Avg Loss: 0.0357\n",
      "Fruits eaten: 80, Max fruits eaten: 330\n",
      "Wall hits: 121\n"
     ]
    },
    {
     "name": "stderr",
     "output_type": "stream",
     "text": [
      " 76%|███████▌  | 3801/5000 [1:04:24<18:51,  1.06it/s]"
     ]
    },
    {
     "name": "stdout",
     "output_type": "stream",
     "text": [
      "Iteration 3800: Avg Reward: 0.09, Avg Loss: 0.0398\n",
      "Fruits eaten: 287, Max fruits eaten: 330\n",
      "Wall hits: 1\n"
     ]
    },
    {
     "name": "stderr",
     "output_type": "stream",
     "text": [
      " 78%|███████▊  | 3901/5000 [1:06:08<20:42,  1.13s/it]"
     ]
    },
    {
     "name": "stdout",
     "output_type": "stream",
     "text": [
      "Iteration 3900: Avg Reward: 0.09, Avg Loss: 0.0388\n",
      "Fruits eaten: 308, Max fruits eaten: 330\n",
      "Wall hits: 0\n"
     ]
    },
    {
     "name": "stderr",
     "output_type": "stream",
     "text": [
      " 80%|████████  | 4001/5000 [1:07:46<16:14,  1.03it/s]"
     ]
    },
    {
     "name": "stdout",
     "output_type": "stream",
     "text": [
      "Iteration 4000: Avg Reward: 0.11, Avg Loss: 0.0350\n",
      "Fruits eaten: 279, Max fruits eaten: 330\n",
      "Wall hits: 6\n"
     ]
    },
    {
     "name": "stderr",
     "output_type": "stream",
     "text": [
      " 82%|████████▏ | 4101/5000 [1:09:22<14:22,  1.04it/s]"
     ]
    },
    {
     "name": "stdout",
     "output_type": "stream",
     "text": [
      "Iteration 4100: Avg Reward: 0.10, Avg Loss: 0.0404\n",
      "Fruits eaten: 281, Max fruits eaten: 330\n",
      "Wall hits: 3\n"
     ]
    },
    {
     "name": "stderr",
     "output_type": "stream",
     "text": [
      " 84%|████████▍ | 4201/5000 [1:10:57<12:49,  1.04it/s]"
     ]
    },
    {
     "name": "stdout",
     "output_type": "stream",
     "text": [
      "Iteration 4200: Avg Reward: 0.10, Avg Loss: 0.0386\n",
      "Fruits eaten: 295, Max fruits eaten: 330\n",
      "Wall hits: 0\n"
     ]
    },
    {
     "name": "stderr",
     "output_type": "stream",
     "text": [
      " 86%|████████▌ | 4301/5000 [1:12:33<11:19,  1.03it/s]"
     ]
    },
    {
     "name": "stdout",
     "output_type": "stream",
     "text": [
      "Iteration 4300: Avg Reward: 0.10, Avg Loss: 0.0370\n",
      "Fruits eaten: 277, Max fruits eaten: 330\n",
      "Wall hits: 4\n"
     ]
    },
    {
     "name": "stderr",
     "output_type": "stream",
     "text": [
      " 88%|████████▊ | 4401/5000 [1:14:08<09:30,  1.05it/s]"
     ]
    },
    {
     "name": "stdout",
     "output_type": "stream",
     "text": [
      "Iteration 4400: Avg Reward: 0.10, Avg Loss: 0.0388\n",
      "Fruits eaten: 290, Max fruits eaten: 330\n",
      "Wall hits: 0\n"
     ]
    },
    {
     "name": "stderr",
     "output_type": "stream",
     "text": [
      " 90%|█████████ | 4501/5000 [1:15:44<07:54,  1.05it/s]"
     ]
    },
    {
     "name": "stdout",
     "output_type": "stream",
     "text": [
      "Iteration 4500: Avg Reward: 0.11, Avg Loss: 0.0388\n",
      "Fruits eaten: 282, Max fruits eaten: 330\n",
      "Wall hits: 2\n"
     ]
    },
    {
     "name": "stderr",
     "output_type": "stream",
     "text": [
      " 92%|█████████▏| 4601/5000 [1:17:20<06:27,  1.03it/s]"
     ]
    },
    {
     "name": "stdout",
     "output_type": "stream",
     "text": [
      "Iteration 4600: Avg Reward: 0.11, Avg Loss: 0.0451\n",
      "Fruits eaten: 273, Max fruits eaten: 330\n",
      "Wall hits: 2\n"
     ]
    },
    {
     "name": "stderr",
     "output_type": "stream",
     "text": [
      " 94%|█████████▍| 4701/5000 [1:18:57<04:46,  1.04it/s]"
     ]
    },
    {
     "name": "stdout",
     "output_type": "stream",
     "text": [
      "Iteration 4700: Avg Reward: 0.10, Avg Loss: 0.0461\n",
      "Fruits eaten: 83, Max fruits eaten: 330\n",
      "Wall hits: 139\n"
     ]
    },
    {
     "name": "stderr",
     "output_type": "stream",
     "text": [
      " 96%|█████████▌| 4801/5000 [1:20:34<03:12,  1.03it/s]"
     ]
    },
    {
     "name": "stdout",
     "output_type": "stream",
     "text": [
      "Iteration 4800: Avg Reward: 0.11, Avg Loss: 0.0420\n",
      "Fruits eaten: 280, Max fruits eaten: 330\n",
      "Wall hits: 2\n"
     ]
    },
    {
     "name": "stderr",
     "output_type": "stream",
     "text": [
      " 98%|█████████▊| 4901/5000 [1:22:11<01:36,  1.03it/s]"
     ]
    },
    {
     "name": "stdout",
     "output_type": "stream",
     "text": [
      "Iteration 4900: Avg Reward: 0.11, Avg Loss: 0.0366\n",
      "Fruits eaten: 296, Max fruits eaten: 330\n",
      "Wall hits: 2\n"
     ]
    },
    {
     "name": "stderr",
     "output_type": "stream",
     "text": [
      "100%|██████████| 5000/5000 [1:23:47<00:00,  1.01s/it]"
     ]
    },
    {
     "name": "stdout",
     "output_type": "stream",
     "text": [
      "Model weights saved to weights/snake_ddqn_weights.h5\n",
      "Weights saved to weights/snake_ddqn_weights.h5\n"
     ]
    },
    {
     "name": "stderr",
     "output_type": "stream",
     "text": [
      "\n"
     ]
    }
   ],
   "source": [
    "from ddqn import DoubleDQNAgent\n",
    "\n",
    "rewards_history_ddqn = []\n",
    "wall_hits_ddqn = []\n",
    "fruits_eaten_ddqn = []\n",
    "loss_history_ddqn = []\n",
    "\n",
    "env_ = get_env()\n",
    "\n",
    "agent = DoubleDQNAgent(state_shape=env_.to_state().shape[1:], n_actions=4, buffer_size=10000, batch_size=128, epsilon_start=1., epsilon_end=0.1, epsilon_decay=0.9995, learning_rate=1e-4, gamma=GAMMA, target_update_freq=100)\n",
    "rewards_history_ddqn, wall_hits_ddqn, fruits_eaten_ddqn, loss_history_ddqn = training(ITERATIONS, env_, agent, save_weights=True, save_path=\"weights/\", file_name=\"snake_ddqn_weights.h5\")"
   ]
  },
  {
   "cell_type": "markdown",
   "metadata": {},
   "source": [
    "## Heuristic/Baseline Policy\n",
    "\n",
    "1. **Greedy move toward the fruit**: trying to reduce the Manhattan distance between the head of the snake and the fruit.\n",
    "2. **Obstacle avoidance**: before moving in the greedy direction, ensure to not hit an obstacle or eat itself\n",
    "3. **Fallback strategy**: if the snake cannot reach the greedy direction, try the second best one, and so forth so on"
   ]
  },
  {
   "cell_type": "code",
   "execution_count": null,
   "metadata": {},
   "outputs": [
    {
     "name": "stderr",
     "output_type": "stream",
     "text": [
      "100%|██████████| 5000/5000 [03:44<00:00, 22.22it/s]\n"
     ]
    }
   ],
   "source": [
    "UP, RIGHT, DOWN, LEFT = 0, 1, 2, 3\n",
    "ACTIONS = [UP, RIGHT, DOWN, LEFT]\n",
    "\n",
    "DIRS = {\n",
    "    UP: (-1, 0),\n",
    "    RIGHT: (0, 1),\n",
    "    DOWN: (1, 0),\n",
    "    LEFT: (0, -1)\n",
    "}\n",
    "\n",
    "def heuristic_policy(env):\n",
    "    boards = env.boards\n",
    "    n_boards, board_size, _ = boards.shape\n",
    "    actions = []\n",
    "\n",
    "    for i in range(n_boards):\n",
    "        board = boards[i]\n",
    "        head = tuple(map(int, np.argwhere(board == env.HEAD)[0]))\n",
    "        fruit = tuple(map(int, np.argwhere(board == env.FRUIT)[0]))\n",
    "        candidates = []\n",
    "        for action in ACTIONS:\n",
    "            dy, dx = DIRS[action]\n",
    "            next_pos = (head[0] + dy, head[1] + dx)\n",
    "\n",
    "            if(0 <= next_pos[0] < board_size) and (0 <= next_pos[1] < board_size):\n",
    "                target_cell = board[next_pos]\n",
    "                if target_cell != env.WALL and target_cell != env.BODY:\n",
    "                    distance = abs(next_pos[0] - fruit[0]) + abs(next_pos[1] - fruit[1])\n",
    "                    candidates.append((action, distance))\n",
    "        \n",
    "        if not candidates:\n",
    "            action = np.random.choice(ACTIONS)\n",
    "        else:\n",
    "            candidates.sort(key=lambda x: x[1])\n",
    "            action = candidates[0][0]\n",
    "        actions.append(action)\n",
    "    \n",
    "    return tf.convert_to_tensor(actions, dtype=tf.int32)[:, None]\n",
    "\n",
    "env = get_env()\n",
    "heuristic_rewards = []\n",
    "fruits_eaten_heuristic = []\n",
    "wall_hits_heuristic = []\n",
    "\n",
    "for iteration in trange(ITERATIONS):\n",
    "    actions = heuristic_policy(env)\n",
    "    rewards = env.move(actions)\n",
    "    wall_hits_count = np.sum(rewards == env.HIT_WALL_REWARD)\n",
    "    wall_hits_heuristic.append(wall_hits_count)\n",
    "    fruits_eaten_count = np.sum(rewards == env.FRUIT_REWARD)\n",
    "    fruits_eaten_heuristic.append(fruits_eaten_count)\n",
    "    heuristic_rewards.append(np.mean(rewards))\n",
    "    dones = np.isin(rewards.numpy().flatten(), [env.WIN_REWARD, env.HIT_WALL_REWARD, env.ATE_HIMSELF_REWARD])\n",
    "\n",
    "    if np.sum(dones) > actions.shape[0] / 2:\n",
    "        env = get_env() # if all the boards are done, reset the environment"
   ]
  },
  {
   "cell_type": "markdown",
   "metadata": {
    "collapsed": false
   },
   "source": [
    " ### Random policy reward\n",
    " \n",
    "Just a baseline (not the one you are supposed to develop)"
   ]
  },
  {
   "cell_type": "code",
   "execution_count": 28,
   "metadata": {
    "collapsed": false
   },
   "outputs": [
    {
     "name": "stderr",
     "output_type": "stream",
     "text": [
      "100%|██████████| 5000/5000 [00:18<00:00, 266.31it/s]\n"
     ]
    }
   ],
   "source": [
    "random_env = get_env(100)\n",
    "random_rewards = []\n",
    "\n",
    "for _ in trange(ITERATIONS):\n",
    "    probs = tf.convert_to_tensor([[.25]*4]*random_env.n_boards)\n",
    "    #sample actions\n",
    "    actions =  tf.random.categorical(tf.math.log(probs), 1, dtype=tf.int32)\n",
    "    # MDP update\n",
    "    rewards = random_env.move(actions)\n",
    "    random_rewards.append(np.mean(rewards))"
   ]
  },
  {
   "cell_type": "code",
   "execution_count": 29,
   "metadata": {},
   "outputs": [
    {
     "data": {
      "image/png": "[encoded data removed]",
      "text/plain": [
       "<Figure size 1200x400 with 1 Axes>"
      ]
     },
     "metadata": {},
     "output_type": "display_data"
    }
   ],
   "source": [
    "window = 50  # Adjust window size for more/less smoothing\n",
    "\n",
    "def moving_average(data, window):\n",
    "    return np.convolve(data, np.ones(window)/window, mode='valid')\n",
    "\n",
    "plt.figure(figsize=(12, 4))\n",
    "\n",
    "plt.plot(moving_average(rewards_history, window), label='DQN Agent')\n",
    "plt.plot(moving_average(rewards_history_ac, window), label='A2C Agent')\n",
    "plt.plot(moving_average(rewards_history_ddqn, window), label='Double DQN Agent')\n",
    "plt.plot(moving_average(random_rewards, window), label='Random Agent')\n",
    "plt.plot(moving_average(heuristic_rewards, window), label='Heuristic Agent')\n",
    "plt.title('Average Reward per Episode')\n",
    "plt.xlabel('Iteration')\n",
    "plt.ylabel('Reward')\n",
    "plt.legend()\n",
    "plt.savefig(\"plots/rewards.png\", bbox_inches='tight')\n",
    "plt.show()\n",
    "plt.close()"
   ]
  },
  {
   "cell_type": "code",
   "execution_count": 30,
   "metadata": {},
   "outputs": [
    {
     "data": {
      "image/png": "[encoded data removed]",
      "text/plain": [
       "<Figure size 1200x400 with 1 Axes>"
      ]
     },
     "metadata": {},
     "output_type": "display_data"
    }
   ],
   "source": [
    "# Plot the fruits eaten\n",
    "plt.figure(figsize=(12, 4))\n",
    "plt.plot(moving_average(fruits_eaten_, window), label='Fruits Eaten - DQN Agent')\n",
    "plt.plot(moving_average(fruits_eaten_ac, window), label='Fruits Eaten - A2C Agent')\n",
    "plt.plot(moving_average(fruits_eaten_ddqn, window), label='Fruits Eaten - Double DQN Agent')\n",
    "plt.plot(moving_average(fruits_eaten_heuristic, window), label='Fruits Eaten - Heuristic Agent')\n",
    "plt.title('Fruits eaten per Episode')\n",
    "plt.xlabel('Iteration')\n",
    "plt.ylabel('Fruits Eaten')\n",
    "plt.legend()\n",
    "plt.savefig(\"plots/fruits_eaten.png\", bbox_inches='tight')\n",
    "plt.show()\n",
    "plt.close()"
   ]
  },
  {
   "cell_type": "code",
   "execution_count": 31,
   "metadata": {},
   "outputs": [
    {
     "data": {
      "image/png": "[encoded data removed]",
      "text/plain": [
       "<Figure size 1200x400 with 1 Axes>"
      ]
     },
     "metadata": {},
     "output_type": "display_data"
    }
   ],
   "source": [
    "plt.figure(figsize=(12, 4))\n",
    "plt.plot(moving_average(wall_hits, window), label='Wall Hits - DQN Agent')\n",
    "plt.plot(moving_average(wall_hits_ac, window), label='Wall Hits - A2C Agent')\n",
    "plt.plot(moving_average(wall_hits_ddqn, window), label='Wall Hits - Double DQN Agent')\n",
    "plt.plot(moving_average(wall_hits_heuristic, window), label='Wall Hits - Heuristic Agent')\n",
    "plt.title('Wall Hits per Episode - DQN Agent')\n",
    "plt.xlabel('Iteration')\n",
    "plt.ylabel('Wall Hits')\n",
    "plt.legend()\n",
    "plt.savefig(\"plots/wall_hits.png\", dpi=300, bbox_inches='tight')\n",
    "plt.show()\n",
    "plt.close()"
   ]
  }
 ],
 "metadata": {
  "kernelspec": {
   "display_name": "snake",
   "language": "python",
   "name": "python3"
  },
  "language_info": {
   "codemirror_mode": {
    "name": "ipython",
    "version": 3
   },
   "file_extension": ".py",
   "mimetype": "text/x-python",
   "name": "python",
   "nbconvert_exporter": "python",
   "pygments_lexer": "ipython3",
   "version": "3.9.21"
  }
 },
 "nbformat": 4,
 "nbformat_minor": 1
}
